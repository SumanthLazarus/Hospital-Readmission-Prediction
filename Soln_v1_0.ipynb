{
 "cells": [
  {
   "cell_type": "code",
   "execution_count": 1,
   "metadata": {},
   "outputs": [
    {
     "data": {
      "text/plain": [
       "'C:\\\\Users\\\\anand\\\\OneDrive\\\\Desktop\\\\20190728_6pm_TrainData'"
      ]
     },
     "execution_count": 1,
     "metadata": {},
     "output_type": "execute_result"
    }
   ],
   "source": [
    "import os\n",
    "os.getcwd()"
   ]
  },
  {
   "cell_type": "code",
   "execution_count": 2,
   "metadata": {},
   "outputs": [
    {
     "name": "stdout",
     "output_type": "stream",
     "text": [
      "Requirement already satisfied: imblearn in c:\\users\\anand\\anaconda3\\lib\\site-packages (0.0)\n",
      "Requirement already satisfied: imbalanced-learn in c:\\users\\anand\\anaconda3\\lib\\site-packages (from imblearn) (0.5.0)\n",
      "Requirement already satisfied: scikit-learn>=0.21 in c:\\users\\anand\\anaconda3\\lib\\site-packages (from imbalanced-learn->imblearn) (0.21.2)\n",
      "Requirement already satisfied: numpy>=1.11 in c:\\users\\anand\\anaconda3\\lib\\site-packages (from imbalanced-learn->imblearn) (1.16.2)\n",
      "Requirement already satisfied: joblib>=0.11 in c:\\users\\anand\\anaconda3\\lib\\site-packages (from imbalanced-learn->imblearn) (0.13.2)\n",
      "Requirement already satisfied: scipy>=0.17 in c:\\users\\anand\\anaconda3\\lib\\site-packages (from imbalanced-learn->imblearn) (1.1.0)\n",
      "Requirement already satisfied: fancy in c:\\users\\anand\\anaconda3\\lib\\site-packages (3.0.0)\n"
     ]
    }
   ],
   "source": [
    "import numpy as np\n",
    "import pandas as pd\n",
    "\n",
    "# 1. Preprocessing Libraries\n",
    "from sklearn import preprocessing\n",
    "\n",
    "from sklearn.preprocessing import StandardScaler\n",
    "from sklearn.preprocessing import OneHotEncoder    #Dummification\n",
    "from sklearn.model_selection import train_test_split\n",
    "from sklearn.model_selection import GridSearchCV, cross_val_score, StratifiedKFold #Hyperparameter tuning, StratifiedKFold\n",
    "# another way to cross-validate\n",
    "\n",
    "\n",
    "# 2. Algorithm Import\n",
    "from sklearn.linear_model import LogisticRegression\n",
    "from sklearn.tree import DecisionTreeClassifier\n",
    "from sklearn.svm import SVC\n",
    "from sklearn.ensemble import RandomForestClassifier\n",
    "from sklearn.ensemble import GradientBoostingClassifier\n",
    "# from sklearn.ensemble import AdaBoostClassifier\n",
    "import plotly.graph_objs as go\n",
    "\n",
    "# 3. Evaluation Library\n",
    "from sklearn.metrics import confusion_matrix\n",
    "\n",
    "# 4. Viz Lib\n",
    "import matplotlib.pyplot as plt \n",
    "import seaborn as sns\n",
    "\n",
    "# 5. Misc Lib\n",
    "!pip install imblearn\n",
    "#from imblearn.over_sampling import SMOTE   #Data/Class imbalance\n",
    "import random\n",
    "random.seed(123)\n",
    "import warnings\n",
    "warnings.filterwarnings('ignore')\n",
    "!pip install fancy"
   ]
  },
  {
   "cell_type": "code",
   "execution_count": 3,
   "metadata": {},
   "outputs": [],
   "source": [
    "from plotly.offline import init_notebook_mode, iplot, plot"
   ]
  },
  {
   "cell_type": "markdown",
   "metadata": {},
   "source": [
    "### Reading all the three datasets"
   ]
  },
  {
   "cell_type": "code",
   "execution_count": 4,
   "metadata": {},
   "outputs": [],
   "source": [
    "patient = pd.read_csv(\"Train.csv\", header=0, na_values='?' )\n",
    "hospdata = pd.read_csv(\"Train_HospitalizationData.csv\",header=0, na_values='?')\n",
    "hospdiag = pd.read_csv(\"Train_Diagnosis_TreatmentData.csv\",header=0, na_values='?')\n",
    "##\n",
    "patient_t = pd.read_csv(\"Test.csv\", header=0, na_values='?' )\n",
    "hospdata_t = pd.read_csv(\"Test_HospitalizationData.csv\",header=0, na_values='?')\n",
    "hospdiag_t = pd.read_csv(\"Test_Diagnosis_TreatmentData.csv\",header=0, na_values='?')\n",
    "##"
   ]
  },
  {
   "cell_type": "markdown",
   "metadata": {},
   "source": [
    "### Type description"
   ]
  },
  {
   "cell_type": "code",
   "execution_count": 5,
   "metadata": {},
   "outputs": [
    {
     "data": {
      "text/plain": [
       "pandas.core.frame.DataFrame"
      ]
     },
     "execution_count": 5,
     "metadata": {},
     "output_type": "execute_result"
    }
   ],
   "source": [
    "type(patient)\n",
    "type(hospdata)\n",
    "type(hospdiag)\n",
    "##\n",
    "type(patient_t)\n",
    "type(hospdata_t)\n",
    "type(hospdiag_t)"
   ]
  },
  {
   "cell_type": "markdown",
   "metadata": {},
   "source": [
    "### Shape of datasets"
   ]
  },
  {
   "cell_type": "code",
   "execution_count": 6,
   "metadata": {},
   "outputs": [
    {
     "data": {
      "text/plain": [
       "(34650, 6)"
      ]
     },
     "execution_count": 6,
     "metadata": {},
     "output_type": "execute_result"
    }
   ],
   "source": [
    "patient.shape"
   ]
  },
  {
   "cell_type": "code",
   "execution_count": 7,
   "metadata": {},
   "outputs": [
    {
     "data": {
      "text/plain": [
       "(14630, 5)"
      ]
     },
     "execution_count": 7,
     "metadata": {},
     "output_type": "execute_result"
    }
   ],
   "source": [
    "patient_t.shape #without target"
   ]
  },
  {
   "cell_type": "code",
   "execution_count": 8,
   "metadata": {},
   "outputs": [
    {
     "data": {
      "text/plain": [
       "(34650, 9)"
      ]
     },
     "execution_count": 8,
     "metadata": {},
     "output_type": "execute_result"
    }
   ],
   "source": [
    "hospdata.shape"
   ]
  },
  {
   "cell_type": "code",
   "execution_count": 9,
   "metadata": {},
   "outputs": [
    {
     "data": {
      "text/plain": [
       "(14630, 9)"
      ]
     },
     "execution_count": 9,
     "metadata": {},
     "output_type": "execute_result"
    }
   ],
   "source": [
    "hospdata_t.shape\n"
   ]
  },
  {
   "cell_type": "code",
   "execution_count": 10,
   "metadata": {
    "scrolled": true
   },
   "outputs": [
    {
     "data": {
      "text/plain": [
       "(34650, 32)"
      ]
     },
     "execution_count": 10,
     "metadata": {},
     "output_type": "execute_result"
    }
   ],
   "source": [
    "hospdiag.shape"
   ]
  },
  {
   "cell_type": "code",
   "execution_count": 11,
   "metadata": {},
   "outputs": [
    {
     "data": {
      "text/plain": [
       "(14630, 32)"
      ]
     },
     "execution_count": 11,
     "metadata": {},
     "output_type": "execute_result"
    }
   ],
   "source": [
    "hospdiag_t.shape"
   ]
  },
  {
   "cell_type": "markdown",
   "metadata": {},
   "source": [
    "### Column details"
   ]
  },
  {
   "cell_type": "code",
   "execution_count": 12,
   "metadata": {},
   "outputs": [
    {
     "data": {
      "text/plain": [
       "Index(['patientID', 'race', 'gender', 'age', 'weight', 'readmitted'], dtype='object')"
      ]
     },
     "execution_count": 12,
     "metadata": {},
     "output_type": "execute_result"
    }
   ],
   "source": [
    "patient.columns"
   ]
  },
  {
   "cell_type": "code",
   "execution_count": 13,
   "metadata": {},
   "outputs": [
    {
     "data": {
      "text/plain": [
       "Index(['patientID', 'race', 'gender', 'age', 'weight'], dtype='object')"
      ]
     },
     "execution_count": 13,
     "metadata": {},
     "output_type": "execute_result"
    }
   ],
   "source": [
    "patient_t.columns"
   ]
  },
  {
   "cell_type": "code",
   "execution_count": 14,
   "metadata": {},
   "outputs": [
    {
     "data": {
      "text/plain": [
       "Index(['AdmissionID', 'patientID', 'Admission_date', 'Discharge_date',\n",
       "       'admission_type_id', 'discharge_disposition_id', 'admission_source_id',\n",
       "       'payer_code', 'medical_specialty'],\n",
       "      dtype='object')"
      ]
     },
     "execution_count": 14,
     "metadata": {},
     "output_type": "execute_result"
    }
   ],
   "source": [
    "hospdata.columns"
   ]
  },
  {
   "cell_type": "code",
   "execution_count": 15,
   "metadata": {},
   "outputs": [
    {
     "data": {
      "text/plain": [
       "Index(['AdmissionID', 'patientID', 'Admission_date', 'Discharge_date',\n",
       "       'admission_type_id', 'discharge_disposition_id', 'admission_source_id',\n",
       "       'payer_code', 'medical_specialty'],\n",
       "      dtype='object')"
      ]
     },
     "execution_count": 15,
     "metadata": {},
     "output_type": "execute_result"
    }
   ],
   "source": [
    "hospdata_t.columns"
   ]
  },
  {
   "cell_type": "code",
   "execution_count": 16,
   "metadata": {},
   "outputs": [
    {
     "data": {
      "text/plain": [
       "Index(['patientID', 'num_lab_procedures', 'num_procedures', 'num_medications',\n",
       "       'num_diagnoses', 'diagnosis_1', 'diagnosis_2', 'diagnosis_3',\n",
       "       'max_glu_serum', 'A1Cresult', 'metformin', 'repaglinide', 'nateglinide',\n",
       "       'chlorpropamide', 'glimepiride', 'acetohexamide', 'glipizide',\n",
       "       'glyburide', 'tolbutamide', 'pioglitazone', 'rosiglitazone', 'acarbose',\n",
       "       'miglitol', 'troglitazone', 'tolazamide', 'insulin',\n",
       "       'glyburide.metformin', 'glipizide.metformin', 'metformin.rosiglitazone',\n",
       "       'metformin.pioglitazone', 'change', 'diabetesMed'],\n",
       "      dtype='object')"
      ]
     },
     "execution_count": 16,
     "metadata": {},
     "output_type": "execute_result"
    }
   ],
   "source": [
    "hospdiag.columns"
   ]
  },
  {
   "cell_type": "code",
   "execution_count": 17,
   "metadata": {},
   "outputs": [
    {
     "data": {
      "text/plain": [
       "Index(['patientID', 'num_lab_procedures', 'num_procedures', 'num_medications',\n",
       "       'num_diagnoses', 'diagnosis_1', 'diagnosis_2', 'diagnosis_3',\n",
       "       'max_glu_serum', 'A1Cresult', 'metformin', 'repaglinide', 'nateglinide',\n",
       "       'chlorpropamide', 'glimepiride', 'acetohexamide', 'glipizide',\n",
       "       'glyburide', 'tolbutamide', 'pioglitazone', 'rosiglitazone', 'acarbose',\n",
       "       'miglitol', 'troglitazone', 'tolazamide', 'insulin',\n",
       "       'glyburide.metformin', 'glipizide.metformin', 'metformin.rosiglitazone',\n",
       "       'metformin.pioglitazone', 'change', 'diabetesMed'],\n",
       "      dtype='object')"
      ]
     },
     "execution_count": 17,
     "metadata": {},
     "output_type": "execute_result"
    }
   ],
   "source": [
    "hospdiag_t.columns"
   ]
  },
  {
   "cell_type": "markdown",
   "metadata": {},
   "source": [
    "### Common id in all three datasets and their uniqueness"
   ]
  },
  {
   "cell_type": "code",
   "execution_count": 18,
   "metadata": {},
   "outputs": [
    {
     "data": {
      "text/plain": [
       "count       34650\n",
       "unique      34650\n",
       "top       PT19697\n",
       "freq            1\n",
       "Name: patientID, dtype: object"
      ]
     },
     "execution_count": 18,
     "metadata": {},
     "output_type": "execute_result"
    }
   ],
   "source": [
    "patient['patientID'].describe()"
   ]
  },
  {
   "cell_type": "code",
   "execution_count": 19,
   "metadata": {},
   "outputs": [
    {
     "data": {
      "text/plain": [
       "count       14630\n",
       "unique      14630\n",
       "top       PT73078\n",
       "freq            1\n",
       "Name: patientID, dtype: object"
      ]
     },
     "execution_count": 19,
     "metadata": {},
     "output_type": "execute_result"
    }
   ],
   "source": [
    "patient_t['patientID'].describe()"
   ]
  },
  {
   "cell_type": "code",
   "execution_count": 20,
   "metadata": {},
   "outputs": [
    {
     "data": {
      "text/plain": [
       "count       34650\n",
       "unique      34650\n",
       "top       PT19697\n",
       "freq            1\n",
       "Name: patientID, dtype: object"
      ]
     },
     "execution_count": 20,
     "metadata": {},
     "output_type": "execute_result"
    }
   ],
   "source": [
    "hospdata['patientID'].describe()"
   ]
  },
  {
   "cell_type": "code",
   "execution_count": 21,
   "metadata": {},
   "outputs": [
    {
     "data": {
      "text/plain": [
       "count       14630\n",
       "unique      14630\n",
       "top       PT73078\n",
       "freq            1\n",
       "Name: patientID, dtype: object"
      ]
     },
     "execution_count": 21,
     "metadata": {},
     "output_type": "execute_result"
    }
   ],
   "source": [
    "hospdata_t['patientID'].describe()"
   ]
  },
  {
   "cell_type": "code",
   "execution_count": 22,
   "metadata": {},
   "outputs": [
    {
     "data": {
      "text/plain": [
       "count       34650\n",
       "unique      34650\n",
       "top       PT19697\n",
       "freq            1\n",
       "Name: patientID, dtype: object"
      ]
     },
     "execution_count": 22,
     "metadata": {},
     "output_type": "execute_result"
    }
   ],
   "source": [
    "hospdiag['patientID'].describe()"
   ]
  },
  {
   "cell_type": "code",
   "execution_count": 23,
   "metadata": {},
   "outputs": [
    {
     "data": {
      "text/plain": [
       "count       14630\n",
       "unique      14630\n",
       "top       PT73078\n",
       "freq            1\n",
       "Name: patientID, dtype: object"
      ]
     },
     "execution_count": 23,
     "metadata": {},
     "output_type": "execute_result"
    }
   ],
   "source": [
    "hospdiag_t['patientID'].describe()"
   ]
  },
  {
   "cell_type": "markdown",
   "metadata": {},
   "source": [
    "### Since all the IDs are unique we can right away merge the dataset "
   ]
  },
  {
   "cell_type": "code",
   "execution_count": 24,
   "metadata": {},
   "outputs": [],
   "source": [
    "hosp1= pd.merge(patient,hospdata,on=[\"patientID\"])"
   ]
  },
  {
   "cell_type": "code",
   "execution_count": 25,
   "metadata": {},
   "outputs": [],
   "source": [
    "hosp_pat = pd. merge(hosp1, hospdiag, on=['patientID'])\n"
   ]
  },
  {
   "cell_type": "code",
   "execution_count": 26,
   "metadata": {},
   "outputs": [],
   "source": [
    "hosp1_t= pd.merge(patient_t,hospdata_t,on=[\"patientID\"])"
   ]
  },
  {
   "cell_type": "code",
   "execution_count": 27,
   "metadata": {},
   "outputs": [],
   "source": [
    "hosp_pat_test = pd. merge(hosp1_t, hospdiag_t, on=['patientID'])"
   ]
  },
  {
   "cell_type": "markdown",
   "metadata": {},
   "source": [
    "### The merged dataframe"
   ]
  },
  {
   "cell_type": "code",
   "execution_count": 28,
   "metadata": {
    "scrolled": true
   },
   "outputs": [
    {
     "data": {
      "text/plain": [
       "patientID                   object\n",
       "race                        object\n",
       "gender                      object\n",
       "age                         object\n",
       "weight                      object\n",
       "readmitted                  object\n",
       "AdmissionID                 object\n",
       "Admission_date              object\n",
       "Discharge_date              object\n",
       "admission_type_id            int64\n",
       "discharge_disposition_id     int64\n",
       "admission_source_id          int64\n",
       "payer_code                  object\n",
       "medical_specialty           object\n",
       "num_lab_procedures           int64\n",
       "num_procedures               int64\n",
       "num_medications              int64\n",
       "num_diagnoses                int64\n",
       "diagnosis_1                 object\n",
       "diagnosis_2                 object\n",
       "diagnosis_3                 object\n",
       "max_glu_serum               object\n",
       "A1Cresult                   object\n",
       "metformin                   object\n",
       "repaglinide                 object\n",
       "nateglinide                 object\n",
       "chlorpropamide              object\n",
       "glimepiride                 object\n",
       "acetohexamide               object\n",
       "glipizide                   object\n",
       "glyburide                   object\n",
       "tolbutamide                 object\n",
       "pioglitazone                object\n",
       "rosiglitazone               object\n",
       "acarbose                    object\n",
       "miglitol                    object\n",
       "troglitazone                object\n",
       "tolazamide                  object\n",
       "insulin                     object\n",
       "glyburide.metformin         object\n",
       "glipizide.metformin         object\n",
       "metformin.rosiglitazone     object\n",
       "metformin.pioglitazone      object\n",
       "change                      object\n",
       "diabetesMed                 object\n",
       "dtype: object"
      ]
     },
     "execution_count": 28,
     "metadata": {},
     "output_type": "execute_result"
    }
   ],
   "source": [
    "hosp_pat.dtypes"
   ]
  },
  {
   "cell_type": "code",
   "execution_count": 29,
   "metadata": {},
   "outputs": [
    {
     "data": {
      "text/plain": [
       "patientID                   object\n",
       "race                        object\n",
       "gender                      object\n",
       "age                         object\n",
       "weight                      object\n",
       "AdmissionID                 object\n",
       "Admission_date              object\n",
       "Discharge_date              object\n",
       "admission_type_id            int64\n",
       "discharge_disposition_id     int64\n",
       "admission_source_id          int64\n",
       "payer_code                  object\n",
       "medical_specialty           object\n",
       "num_lab_procedures           int64\n",
       "num_procedures               int64\n",
       "num_medications              int64\n",
       "num_diagnoses                int64\n",
       "diagnosis_1                 object\n",
       "diagnosis_2                 object\n",
       "diagnosis_3                 object\n",
       "max_glu_serum               object\n",
       "A1Cresult                   object\n",
       "metformin                   object\n",
       "repaglinide                 object\n",
       "nateglinide                 object\n",
       "chlorpropamide              object\n",
       "glimepiride                 object\n",
       "acetohexamide               object\n",
       "glipizide                   object\n",
       "glyburide                   object\n",
       "tolbutamide                 object\n",
       "pioglitazone                object\n",
       "rosiglitazone               object\n",
       "acarbose                    object\n",
       "miglitol                    object\n",
       "troglitazone                object\n",
       "tolazamide                  object\n",
       "insulin                     object\n",
       "glyburide.metformin         object\n",
       "glipizide.metformin         object\n",
       "metformin.rosiglitazone     object\n",
       "metformin.pioglitazone      object\n",
       "change                      object\n",
       "diabetesMed                 object\n",
       "dtype: object"
      ]
     },
     "execution_count": 29,
     "metadata": {},
     "output_type": "execute_result"
    }
   ],
   "source": [
    "hosp_pat_test.dtypes"
   ]
  },
  {
   "cell_type": "markdown",
   "metadata": {},
   "source": [
    "### Shape of dataset"
   ]
  },
  {
   "cell_type": "code",
   "execution_count": 30,
   "metadata": {},
   "outputs": [
    {
     "data": {
      "text/plain": [
       "(34650, 45)"
      ]
     },
     "execution_count": 30,
     "metadata": {},
     "output_type": "execute_result"
    }
   ],
   "source": [
    "hosp_pat.shape\n"
   ]
  },
  {
   "cell_type": "code",
   "execution_count": 31,
   "metadata": {},
   "outputs": [
    {
     "data": {
      "text/plain": [
       "(14630, 44)"
      ]
     },
     "execution_count": 31,
     "metadata": {},
     "output_type": "execute_result"
    }
   ],
   "source": [
    "hosp_pat_test.shape"
   ]
  },
  {
   "cell_type": "markdown",
   "metadata": {},
   "source": [
    "### Describe the Dataset"
   ]
  },
  {
   "cell_type": "code",
   "execution_count": 32,
   "metadata": {},
   "outputs": [
    {
     "data": {
      "text/html": [
       "<div>\n",
       "<style scoped>\n",
       "    .dataframe tbody tr th:only-of-type {\n",
       "        vertical-align: middle;\n",
       "    }\n",
       "\n",
       "    .dataframe tbody tr th {\n",
       "        vertical-align: top;\n",
       "    }\n",
       "\n",
       "    .dataframe thead th {\n",
       "        text-align: right;\n",
       "    }\n",
       "</style>\n",
       "<table border=\"1\" class=\"dataframe\">\n",
       "  <thead>\n",
       "    <tr style=\"text-align: right;\">\n",
       "      <th></th>\n",
       "      <th>patientID</th>\n",
       "      <th>race</th>\n",
       "      <th>gender</th>\n",
       "      <th>age</th>\n",
       "      <th>weight</th>\n",
       "      <th>readmitted</th>\n",
       "      <th>AdmissionID</th>\n",
       "      <th>Admission_date</th>\n",
       "      <th>Discharge_date</th>\n",
       "      <th>admission_type_id</th>\n",
       "      <th>...</th>\n",
       "      <th>miglitol</th>\n",
       "      <th>troglitazone</th>\n",
       "      <th>tolazamide</th>\n",
       "      <th>insulin</th>\n",
       "      <th>glyburide.metformin</th>\n",
       "      <th>glipizide.metformin</th>\n",
       "      <th>metformin.rosiglitazone</th>\n",
       "      <th>metformin.pioglitazone</th>\n",
       "      <th>change</th>\n",
       "      <th>diabetesMed</th>\n",
       "    </tr>\n",
       "  </thead>\n",
       "  <tbody>\n",
       "    <tr>\n",
       "      <th>count</th>\n",
       "      <td>34650</td>\n",
       "      <td>33571</td>\n",
       "      <td>34650</td>\n",
       "      <td>34650</td>\n",
       "      <td>1058</td>\n",
       "      <td>34650</td>\n",
       "      <td>34650</td>\n",
       "      <td>34650</td>\n",
       "      <td>34650</td>\n",
       "      <td>34650.000000</td>\n",
       "      <td>...</td>\n",
       "      <td>34650</td>\n",
       "      <td>34650</td>\n",
       "      <td>34650</td>\n",
       "      <td>34650</td>\n",
       "      <td>34650</td>\n",
       "      <td>34650</td>\n",
       "      <td>34650</td>\n",
       "      <td>34650</td>\n",
       "      <td>34650</td>\n",
       "      <td>34650</td>\n",
       "    </tr>\n",
       "    <tr>\n",
       "      <th>unique</th>\n",
       "      <td>34650</td>\n",
       "      <td>5</td>\n",
       "      <td>2</td>\n",
       "      <td>10</td>\n",
       "      <td>8</td>\n",
       "      <td>2</td>\n",
       "      <td>34650</td>\n",
       "      <td>912</td>\n",
       "      <td>925</td>\n",
       "      <td>NaN</td>\n",
       "      <td>...</td>\n",
       "      <td>2</td>\n",
       "      <td>2</td>\n",
       "      <td>2</td>\n",
       "      <td>4</td>\n",
       "      <td>4</td>\n",
       "      <td>2</td>\n",
       "      <td>2</td>\n",
       "      <td>2</td>\n",
       "      <td>2</td>\n",
       "      <td>2</td>\n",
       "    </tr>\n",
       "    <tr>\n",
       "      <th>top</th>\n",
       "      <td>PT19697</td>\n",
       "      <td>Caucasian</td>\n",
       "      <td>Female</td>\n",
       "      <td>[70-80)</td>\n",
       "      <td>[75-100)</td>\n",
       "      <td>NO</td>\n",
       "      <td>ADM12836</td>\n",
       "      <td>02-11-2014</td>\n",
       "      <td>28-01-2015</td>\n",
       "      <td>NaN</td>\n",
       "      <td>...</td>\n",
       "      <td>No</td>\n",
       "      <td>No</td>\n",
       "      <td>No</td>\n",
       "      <td>No</td>\n",
       "      <td>No</td>\n",
       "      <td>No</td>\n",
       "      <td>No</td>\n",
       "      <td>No</td>\n",
       "      <td>No</td>\n",
       "      <td>Yes</td>\n",
       "    </tr>\n",
       "    <tr>\n",
       "      <th>freq</th>\n",
       "      <td>1</td>\n",
       "      <td>25562</td>\n",
       "      <td>18222</td>\n",
       "      <td>8532</td>\n",
       "      <td>412</td>\n",
       "      <td>29891</td>\n",
       "      <td>1</td>\n",
       "      <td>56</td>\n",
       "      <td>58</td>\n",
       "      <td>NaN</td>\n",
       "      <td>...</td>\n",
       "      <td>34644</td>\n",
       "      <td>34649</td>\n",
       "      <td>34635</td>\n",
       "      <td>17168</td>\n",
       "      <td>34434</td>\n",
       "      <td>34648</td>\n",
       "      <td>34649</td>\n",
       "      <td>34649</td>\n",
       "      <td>19531</td>\n",
       "      <td>25829</td>\n",
       "    </tr>\n",
       "    <tr>\n",
       "      <th>mean</th>\n",
       "      <td>NaN</td>\n",
       "      <td>NaN</td>\n",
       "      <td>NaN</td>\n",
       "      <td>NaN</td>\n",
       "      <td>NaN</td>\n",
       "      <td>NaN</td>\n",
       "      <td>NaN</td>\n",
       "      <td>NaN</td>\n",
       "      <td>NaN</td>\n",
       "      <td>2.081558</td>\n",
       "      <td>...</td>\n",
       "      <td>NaN</td>\n",
       "      <td>NaN</td>\n",
       "      <td>NaN</td>\n",
       "      <td>NaN</td>\n",
       "      <td>NaN</td>\n",
       "      <td>NaN</td>\n",
       "      <td>NaN</td>\n",
       "      <td>NaN</td>\n",
       "      <td>NaN</td>\n",
       "      <td>NaN</td>\n",
       "    </tr>\n",
       "    <tr>\n",
       "      <th>std</th>\n",
       "      <td>NaN</td>\n",
       "      <td>NaN</td>\n",
       "      <td>NaN</td>\n",
       "      <td>NaN</td>\n",
       "      <td>NaN</td>\n",
       "      <td>NaN</td>\n",
       "      <td>NaN</td>\n",
       "      <td>NaN</td>\n",
       "      <td>NaN</td>\n",
       "      <td>1.472163</td>\n",
       "      <td>...</td>\n",
       "      <td>NaN</td>\n",
       "      <td>NaN</td>\n",
       "      <td>NaN</td>\n",
       "      <td>NaN</td>\n",
       "      <td>NaN</td>\n",
       "      <td>NaN</td>\n",
       "      <td>NaN</td>\n",
       "      <td>NaN</td>\n",
       "      <td>NaN</td>\n",
       "      <td>NaN</td>\n",
       "    </tr>\n",
       "    <tr>\n",
       "      <th>min</th>\n",
       "      <td>NaN</td>\n",
       "      <td>NaN</td>\n",
       "      <td>NaN</td>\n",
       "      <td>NaN</td>\n",
       "      <td>NaN</td>\n",
       "      <td>NaN</td>\n",
       "      <td>NaN</td>\n",
       "      <td>NaN</td>\n",
       "      <td>NaN</td>\n",
       "      <td>1.000000</td>\n",
       "      <td>...</td>\n",
       "      <td>NaN</td>\n",
       "      <td>NaN</td>\n",
       "      <td>NaN</td>\n",
       "      <td>NaN</td>\n",
       "      <td>NaN</td>\n",
       "      <td>NaN</td>\n",
       "      <td>NaN</td>\n",
       "      <td>NaN</td>\n",
       "      <td>NaN</td>\n",
       "      <td>NaN</td>\n",
       "    </tr>\n",
       "    <tr>\n",
       "      <th>25%</th>\n",
       "      <td>NaN</td>\n",
       "      <td>NaN</td>\n",
       "      <td>NaN</td>\n",
       "      <td>NaN</td>\n",
       "      <td>NaN</td>\n",
       "      <td>NaN</td>\n",
       "      <td>NaN</td>\n",
       "      <td>NaN</td>\n",
       "      <td>NaN</td>\n",
       "      <td>1.000000</td>\n",
       "      <td>...</td>\n",
       "      <td>NaN</td>\n",
       "      <td>NaN</td>\n",
       "      <td>NaN</td>\n",
       "      <td>NaN</td>\n",
       "      <td>NaN</td>\n",
       "      <td>NaN</td>\n",
       "      <td>NaN</td>\n",
       "      <td>NaN</td>\n",
       "      <td>NaN</td>\n",
       "      <td>NaN</td>\n",
       "    </tr>\n",
       "    <tr>\n",
       "      <th>50%</th>\n",
       "      <td>NaN</td>\n",
       "      <td>NaN</td>\n",
       "      <td>NaN</td>\n",
       "      <td>NaN</td>\n",
       "      <td>NaN</td>\n",
       "      <td>NaN</td>\n",
       "      <td>NaN</td>\n",
       "      <td>NaN</td>\n",
       "      <td>NaN</td>\n",
       "      <td>1.000000</td>\n",
       "      <td>...</td>\n",
       "      <td>NaN</td>\n",
       "      <td>NaN</td>\n",
       "      <td>NaN</td>\n",
       "      <td>NaN</td>\n",
       "      <td>NaN</td>\n",
       "      <td>NaN</td>\n",
       "      <td>NaN</td>\n",
       "      <td>NaN</td>\n",
       "      <td>NaN</td>\n",
       "      <td>NaN</td>\n",
       "    </tr>\n",
       "    <tr>\n",
       "      <th>75%</th>\n",
       "      <td>NaN</td>\n",
       "      <td>NaN</td>\n",
       "      <td>NaN</td>\n",
       "      <td>NaN</td>\n",
       "      <td>NaN</td>\n",
       "      <td>NaN</td>\n",
       "      <td>NaN</td>\n",
       "      <td>NaN</td>\n",
       "      <td>NaN</td>\n",
       "      <td>3.000000</td>\n",
       "      <td>...</td>\n",
       "      <td>NaN</td>\n",
       "      <td>NaN</td>\n",
       "      <td>NaN</td>\n",
       "      <td>NaN</td>\n",
       "      <td>NaN</td>\n",
       "      <td>NaN</td>\n",
       "      <td>NaN</td>\n",
       "      <td>NaN</td>\n",
       "      <td>NaN</td>\n",
       "      <td>NaN</td>\n",
       "    </tr>\n",
       "    <tr>\n",
       "      <th>max</th>\n",
       "      <td>NaN</td>\n",
       "      <td>NaN</td>\n",
       "      <td>NaN</td>\n",
       "      <td>NaN</td>\n",
       "      <td>NaN</td>\n",
       "      <td>NaN</td>\n",
       "      <td>NaN</td>\n",
       "      <td>NaN</td>\n",
       "      <td>NaN</td>\n",
       "      <td>8.000000</td>\n",
       "      <td>...</td>\n",
       "      <td>NaN</td>\n",
       "      <td>NaN</td>\n",
       "      <td>NaN</td>\n",
       "      <td>NaN</td>\n",
       "      <td>NaN</td>\n",
       "      <td>NaN</td>\n",
       "      <td>NaN</td>\n",
       "      <td>NaN</td>\n",
       "      <td>NaN</td>\n",
       "      <td>NaN</td>\n",
       "    </tr>\n",
       "  </tbody>\n",
       "</table>\n",
       "<p>11 rows × 45 columns</p>\n",
       "</div>"
      ],
      "text/plain": [
       "       patientID       race  gender      age    weight readmitted AdmissionID  \\\n",
       "count      34650      33571   34650    34650      1058      34650       34650   \n",
       "unique     34650          5       2       10         8          2       34650   \n",
       "top      PT19697  Caucasian  Female  [70-80)  [75-100)         NO    ADM12836   \n",
       "freq           1      25562   18222     8532       412      29891           1   \n",
       "mean         NaN        NaN     NaN      NaN       NaN        NaN         NaN   \n",
       "std          NaN        NaN     NaN      NaN       NaN        NaN         NaN   \n",
       "min          NaN        NaN     NaN      NaN       NaN        NaN         NaN   \n",
       "25%          NaN        NaN     NaN      NaN       NaN        NaN         NaN   \n",
       "50%          NaN        NaN     NaN      NaN       NaN        NaN         NaN   \n",
       "75%          NaN        NaN     NaN      NaN       NaN        NaN         NaN   \n",
       "max          NaN        NaN     NaN      NaN       NaN        NaN         NaN   \n",
       "\n",
       "       Admission_date Discharge_date  admission_type_id     ...      miglitol  \\\n",
       "count           34650          34650       34650.000000     ...         34650   \n",
       "unique            912            925                NaN     ...             2   \n",
       "top        02-11-2014     28-01-2015                NaN     ...            No   \n",
       "freq               56             58                NaN     ...         34644   \n",
       "mean              NaN            NaN           2.081558     ...           NaN   \n",
       "std               NaN            NaN           1.472163     ...           NaN   \n",
       "min               NaN            NaN           1.000000     ...           NaN   \n",
       "25%               NaN            NaN           1.000000     ...           NaN   \n",
       "50%               NaN            NaN           1.000000     ...           NaN   \n",
       "75%               NaN            NaN           3.000000     ...           NaN   \n",
       "max               NaN            NaN           8.000000     ...           NaN   \n",
       "\n",
       "        troglitazone tolazamide insulin  glyburide.metformin  \\\n",
       "count          34650      34650   34650                34650   \n",
       "unique             2          2       4                    4   \n",
       "top               No         No      No                   No   \n",
       "freq           34649      34635   17168                34434   \n",
       "mean             NaN        NaN     NaN                  NaN   \n",
       "std              NaN        NaN     NaN                  NaN   \n",
       "min              NaN        NaN     NaN                  NaN   \n",
       "25%              NaN        NaN     NaN                  NaN   \n",
       "50%              NaN        NaN     NaN                  NaN   \n",
       "75%              NaN        NaN     NaN                  NaN   \n",
       "max              NaN        NaN     NaN                  NaN   \n",
       "\n",
       "        glipizide.metformin  metformin.rosiglitazone  metformin.pioglitazone  \\\n",
       "count                 34650                    34650                   34650   \n",
       "unique                    2                        2                       2   \n",
       "top                      No                       No                      No   \n",
       "freq                  34648                    34649                   34649   \n",
       "mean                    NaN                      NaN                     NaN   \n",
       "std                     NaN                      NaN                     NaN   \n",
       "min                     NaN                      NaN                     NaN   \n",
       "25%                     NaN                      NaN                     NaN   \n",
       "50%                     NaN                      NaN                     NaN   \n",
       "75%                     NaN                      NaN                     NaN   \n",
       "max                     NaN                      NaN                     NaN   \n",
       "\n",
       "       change diabetesMed  \n",
       "count   34650       34650  \n",
       "unique      2           2  \n",
       "top        No         Yes  \n",
       "freq    19531       25829  \n",
       "mean      NaN         NaN  \n",
       "std       NaN         NaN  \n",
       "min       NaN         NaN  \n",
       "25%       NaN         NaN  \n",
       "50%       NaN         NaN  \n",
       "75%       NaN         NaN  \n",
       "max       NaN         NaN  \n",
       "\n",
       "[11 rows x 45 columns]"
      ]
     },
     "execution_count": 32,
     "metadata": {},
     "output_type": "execute_result"
    }
   ],
   "source": [
    "hosp_pat.describe(include=\"all\")"
   ]
  },
  {
   "cell_type": "code",
   "execution_count": 33,
   "metadata": {},
   "outputs": [
    {
     "data": {
      "text/html": [
       "<div>\n",
       "<style scoped>\n",
       "    .dataframe tbody tr th:only-of-type {\n",
       "        vertical-align: middle;\n",
       "    }\n",
       "\n",
       "    .dataframe tbody tr th {\n",
       "        vertical-align: top;\n",
       "    }\n",
       "\n",
       "    .dataframe thead th {\n",
       "        text-align: right;\n",
       "    }\n",
       "</style>\n",
       "<table border=\"1\" class=\"dataframe\">\n",
       "  <thead>\n",
       "    <tr style=\"text-align: right;\">\n",
       "      <th></th>\n",
       "      <th>patientID</th>\n",
       "      <th>race</th>\n",
       "      <th>gender</th>\n",
       "      <th>age</th>\n",
       "      <th>weight</th>\n",
       "      <th>AdmissionID</th>\n",
       "      <th>Admission_date</th>\n",
       "      <th>Discharge_date</th>\n",
       "      <th>admission_type_id</th>\n",
       "      <th>discharge_disposition_id</th>\n",
       "      <th>...</th>\n",
       "      <th>miglitol</th>\n",
       "      <th>troglitazone</th>\n",
       "      <th>tolazamide</th>\n",
       "      <th>insulin</th>\n",
       "      <th>glyburide.metformin</th>\n",
       "      <th>glipizide.metformin</th>\n",
       "      <th>metformin.rosiglitazone</th>\n",
       "      <th>metformin.pioglitazone</th>\n",
       "      <th>change</th>\n",
       "      <th>diabetesMed</th>\n",
       "    </tr>\n",
       "  </thead>\n",
       "  <tbody>\n",
       "    <tr>\n",
       "      <th>count</th>\n",
       "      <td>14630</td>\n",
       "      <td>14198</td>\n",
       "      <td>14630</td>\n",
       "      <td>14630</td>\n",
       "      <td>481</td>\n",
       "      <td>14630</td>\n",
       "      <td>14630</td>\n",
       "      <td>14630</td>\n",
       "      <td>14630.000000</td>\n",
       "      <td>14630.000000</td>\n",
       "      <td>...</td>\n",
       "      <td>14630</td>\n",
       "      <td>14630</td>\n",
       "      <td>14630</td>\n",
       "      <td>14630</td>\n",
       "      <td>14630</td>\n",
       "      <td>14630</td>\n",
       "      <td>14630</td>\n",
       "      <td>14630</td>\n",
       "      <td>14630</td>\n",
       "      <td>14630</td>\n",
       "    </tr>\n",
       "    <tr>\n",
       "      <th>unique</th>\n",
       "      <td>14630</td>\n",
       "      <td>5</td>\n",
       "      <td>2</td>\n",
       "      <td>10</td>\n",
       "      <td>8</td>\n",
       "      <td>14630</td>\n",
       "      <td>488</td>\n",
       "      <td>497</td>\n",
       "      <td>NaN</td>\n",
       "      <td>NaN</td>\n",
       "      <td>...</td>\n",
       "      <td>2</td>\n",
       "      <td>1</td>\n",
       "      <td>2</td>\n",
       "      <td>4</td>\n",
       "      <td>4</td>\n",
       "      <td>2</td>\n",
       "      <td>2</td>\n",
       "      <td>1</td>\n",
       "      <td>2</td>\n",
       "      <td>2</td>\n",
       "    </tr>\n",
       "    <tr>\n",
       "      <th>top</th>\n",
       "      <td>PT73078</td>\n",
       "      <td>Caucasian</td>\n",
       "      <td>Female</td>\n",
       "      <td>[70-80)</td>\n",
       "      <td>[75-100)</td>\n",
       "      <td>ADM82681</td>\n",
       "      <td>2017-07-27</td>\n",
       "      <td>2017-09-01</td>\n",
       "      <td>NaN</td>\n",
       "      <td>NaN</td>\n",
       "      <td>...</td>\n",
       "      <td>No</td>\n",
       "      <td>No</td>\n",
       "      <td>No</td>\n",
       "      <td>No</td>\n",
       "      <td>No</td>\n",
       "      <td>No</td>\n",
       "      <td>No</td>\n",
       "      <td>No</td>\n",
       "      <td>No</td>\n",
       "      <td>Yes</td>\n",
       "    </tr>\n",
       "    <tr>\n",
       "      <th>freq</th>\n",
       "      <td>1</td>\n",
       "      <td>10830</td>\n",
       "      <td>7710</td>\n",
       "      <td>3545</td>\n",
       "      <td>205</td>\n",
       "      <td>1</td>\n",
       "      <td>45</td>\n",
       "      <td>50</td>\n",
       "      <td>NaN</td>\n",
       "      <td>NaN</td>\n",
       "      <td>...</td>\n",
       "      <td>14628</td>\n",
       "      <td>14630</td>\n",
       "      <td>14624</td>\n",
       "      <td>7229</td>\n",
       "      <td>14512</td>\n",
       "      <td>14629</td>\n",
       "      <td>14629</td>\n",
       "      <td>14630</td>\n",
       "      <td>8207</td>\n",
       "      <td>10895</td>\n",
       "    </tr>\n",
       "    <tr>\n",
       "      <th>mean</th>\n",
       "      <td>NaN</td>\n",
       "      <td>NaN</td>\n",
       "      <td>NaN</td>\n",
       "      <td>NaN</td>\n",
       "      <td>NaN</td>\n",
       "      <td>NaN</td>\n",
       "      <td>NaN</td>\n",
       "      <td>NaN</td>\n",
       "      <td>2.069925</td>\n",
       "      <td>3.752563</td>\n",
       "      <td>...</td>\n",
       "      <td>NaN</td>\n",
       "      <td>NaN</td>\n",
       "      <td>NaN</td>\n",
       "      <td>NaN</td>\n",
       "      <td>NaN</td>\n",
       "      <td>NaN</td>\n",
       "      <td>NaN</td>\n",
       "      <td>NaN</td>\n",
       "      <td>NaN</td>\n",
       "      <td>NaN</td>\n",
       "    </tr>\n",
       "    <tr>\n",
       "      <th>std</th>\n",
       "      <td>NaN</td>\n",
       "      <td>NaN</td>\n",
       "      <td>NaN</td>\n",
       "      <td>NaN</td>\n",
       "      <td>NaN</td>\n",
       "      <td>NaN</td>\n",
       "      <td>NaN</td>\n",
       "      <td>NaN</td>\n",
       "      <td>1.455693</td>\n",
       "      <td>5.417167</td>\n",
       "      <td>...</td>\n",
       "      <td>NaN</td>\n",
       "      <td>NaN</td>\n",
       "      <td>NaN</td>\n",
       "      <td>NaN</td>\n",
       "      <td>NaN</td>\n",
       "      <td>NaN</td>\n",
       "      <td>NaN</td>\n",
       "      <td>NaN</td>\n",
       "      <td>NaN</td>\n",
       "      <td>NaN</td>\n",
       "    </tr>\n",
       "    <tr>\n",
       "      <th>min</th>\n",
       "      <td>NaN</td>\n",
       "      <td>NaN</td>\n",
       "      <td>NaN</td>\n",
       "      <td>NaN</td>\n",
       "      <td>NaN</td>\n",
       "      <td>NaN</td>\n",
       "      <td>NaN</td>\n",
       "      <td>NaN</td>\n",
       "      <td>1.000000</td>\n",
       "      <td>1.000000</td>\n",
       "      <td>...</td>\n",
       "      <td>NaN</td>\n",
       "      <td>NaN</td>\n",
       "      <td>NaN</td>\n",
       "      <td>NaN</td>\n",
       "      <td>NaN</td>\n",
       "      <td>NaN</td>\n",
       "      <td>NaN</td>\n",
       "      <td>NaN</td>\n",
       "      <td>NaN</td>\n",
       "      <td>NaN</td>\n",
       "    </tr>\n",
       "    <tr>\n",
       "      <th>25%</th>\n",
       "      <td>NaN</td>\n",
       "      <td>NaN</td>\n",
       "      <td>NaN</td>\n",
       "      <td>NaN</td>\n",
       "      <td>NaN</td>\n",
       "      <td>NaN</td>\n",
       "      <td>NaN</td>\n",
       "      <td>NaN</td>\n",
       "      <td>1.000000</td>\n",
       "      <td>1.000000</td>\n",
       "      <td>...</td>\n",
       "      <td>NaN</td>\n",
       "      <td>NaN</td>\n",
       "      <td>NaN</td>\n",
       "      <td>NaN</td>\n",
       "      <td>NaN</td>\n",
       "      <td>NaN</td>\n",
       "      <td>NaN</td>\n",
       "      <td>NaN</td>\n",
       "      <td>NaN</td>\n",
       "      <td>NaN</td>\n",
       "    </tr>\n",
       "    <tr>\n",
       "      <th>50%</th>\n",
       "      <td>NaN</td>\n",
       "      <td>NaN</td>\n",
       "      <td>NaN</td>\n",
       "      <td>NaN</td>\n",
       "      <td>NaN</td>\n",
       "      <td>NaN</td>\n",
       "      <td>NaN</td>\n",
       "      <td>NaN</td>\n",
       "      <td>1.000000</td>\n",
       "      <td>1.000000</td>\n",
       "      <td>...</td>\n",
       "      <td>NaN</td>\n",
       "      <td>NaN</td>\n",
       "      <td>NaN</td>\n",
       "      <td>NaN</td>\n",
       "      <td>NaN</td>\n",
       "      <td>NaN</td>\n",
       "      <td>NaN</td>\n",
       "      <td>NaN</td>\n",
       "      <td>NaN</td>\n",
       "      <td>NaN</td>\n",
       "    </tr>\n",
       "    <tr>\n",
       "      <th>75%</th>\n",
       "      <td>NaN</td>\n",
       "      <td>NaN</td>\n",
       "      <td>NaN</td>\n",
       "      <td>NaN</td>\n",
       "      <td>NaN</td>\n",
       "      <td>NaN</td>\n",
       "      <td>NaN</td>\n",
       "      <td>NaN</td>\n",
       "      <td>3.000000</td>\n",
       "      <td>3.000000</td>\n",
       "      <td>...</td>\n",
       "      <td>NaN</td>\n",
       "      <td>NaN</td>\n",
       "      <td>NaN</td>\n",
       "      <td>NaN</td>\n",
       "      <td>NaN</td>\n",
       "      <td>NaN</td>\n",
       "      <td>NaN</td>\n",
       "      <td>NaN</td>\n",
       "      <td>NaN</td>\n",
       "      <td>NaN</td>\n",
       "    </tr>\n",
       "    <tr>\n",
       "      <th>max</th>\n",
       "      <td>NaN</td>\n",
       "      <td>NaN</td>\n",
       "      <td>NaN</td>\n",
       "      <td>NaN</td>\n",
       "      <td>NaN</td>\n",
       "      <td>NaN</td>\n",
       "      <td>NaN</td>\n",
       "      <td>NaN</td>\n",
       "      <td>8.000000</td>\n",
       "      <td>28.000000</td>\n",
       "      <td>...</td>\n",
       "      <td>NaN</td>\n",
       "      <td>NaN</td>\n",
       "      <td>NaN</td>\n",
       "      <td>NaN</td>\n",
       "      <td>NaN</td>\n",
       "      <td>NaN</td>\n",
       "      <td>NaN</td>\n",
       "      <td>NaN</td>\n",
       "      <td>NaN</td>\n",
       "      <td>NaN</td>\n",
       "    </tr>\n",
       "  </tbody>\n",
       "</table>\n",
       "<p>11 rows × 44 columns</p>\n",
       "</div>"
      ],
      "text/plain": [
       "       patientID       race  gender      age    weight AdmissionID  \\\n",
       "count      14630      14198   14630    14630       481       14630   \n",
       "unique     14630          5       2       10         8       14630   \n",
       "top      PT73078  Caucasian  Female  [70-80)  [75-100)    ADM82681   \n",
       "freq           1      10830    7710     3545       205           1   \n",
       "mean         NaN        NaN     NaN      NaN       NaN         NaN   \n",
       "std          NaN        NaN     NaN      NaN       NaN         NaN   \n",
       "min          NaN        NaN     NaN      NaN       NaN         NaN   \n",
       "25%          NaN        NaN     NaN      NaN       NaN         NaN   \n",
       "50%          NaN        NaN     NaN      NaN       NaN         NaN   \n",
       "75%          NaN        NaN     NaN      NaN       NaN         NaN   \n",
       "max          NaN        NaN     NaN      NaN       NaN         NaN   \n",
       "\n",
       "       Admission_date Discharge_date  admission_type_id  \\\n",
       "count           14630          14630       14630.000000   \n",
       "unique            488            497                NaN   \n",
       "top        2017-07-27     2017-09-01                NaN   \n",
       "freq               45             50                NaN   \n",
       "mean              NaN            NaN           2.069925   \n",
       "std               NaN            NaN           1.455693   \n",
       "min               NaN            NaN           1.000000   \n",
       "25%               NaN            NaN           1.000000   \n",
       "50%               NaN            NaN           1.000000   \n",
       "75%               NaN            NaN           3.000000   \n",
       "max               NaN            NaN           8.000000   \n",
       "\n",
       "        discharge_disposition_id     ...      miglitol troglitazone  \\\n",
       "count               14630.000000     ...         14630        14630   \n",
       "unique                       NaN     ...             2            1   \n",
       "top                          NaN     ...            No           No   \n",
       "freq                         NaN     ...         14628        14630   \n",
       "mean                    3.752563     ...           NaN          NaN   \n",
       "std                     5.417167     ...           NaN          NaN   \n",
       "min                     1.000000     ...           NaN          NaN   \n",
       "25%                     1.000000     ...           NaN          NaN   \n",
       "50%                     1.000000     ...           NaN          NaN   \n",
       "75%                     3.000000     ...           NaN          NaN   \n",
       "max                    28.000000     ...           NaN          NaN   \n",
       "\n",
       "       tolazamide  insulin  glyburide.metformin  glipizide.metformin  \\\n",
       "count       14630    14630                14630                14630   \n",
       "unique          2        4                    4                    2   \n",
       "top            No       No                   No                   No   \n",
       "freq        14624     7229                14512                14629   \n",
       "mean          NaN      NaN                  NaN                  NaN   \n",
       "std           NaN      NaN                  NaN                  NaN   \n",
       "min           NaN      NaN                  NaN                  NaN   \n",
       "25%           NaN      NaN                  NaN                  NaN   \n",
       "50%           NaN      NaN                  NaN                  NaN   \n",
       "75%           NaN      NaN                  NaN                  NaN   \n",
       "max           NaN      NaN                  NaN                  NaN   \n",
       "\n",
       "        metformin.rosiglitazone metformin.pioglitazone change diabetesMed  \n",
       "count                     14630                  14630  14630       14630  \n",
       "unique                        2                      1      2           2  \n",
       "top                          No                     No     No         Yes  \n",
       "freq                      14629                  14630   8207       10895  \n",
       "mean                        NaN                    NaN    NaN         NaN  \n",
       "std                         NaN                    NaN    NaN         NaN  \n",
       "min                         NaN                    NaN    NaN         NaN  \n",
       "25%                         NaN                    NaN    NaN         NaN  \n",
       "50%                         NaN                    NaN    NaN         NaN  \n",
       "75%                         NaN                    NaN    NaN         NaN  \n",
       "max                         NaN                    NaN    NaN         NaN  \n",
       "\n",
       "[11 rows x 44 columns]"
      ]
     },
     "execution_count": 33,
     "metadata": {},
     "output_type": "execute_result"
    }
   ],
   "source": [
    "hosp_pat_test.describe(include=\"all\")"
   ]
  },
  {
   "cell_type": "markdown",
   "metadata": {},
   "source": [
    "### First 5 records of the dataset"
   ]
  },
  {
   "cell_type": "code",
   "execution_count": 34,
   "metadata": {},
   "outputs": [
    {
     "data": {
      "text/html": [
       "<div>\n",
       "<style scoped>\n",
       "    .dataframe tbody tr th:only-of-type {\n",
       "        vertical-align: middle;\n",
       "    }\n",
       "\n",
       "    .dataframe tbody tr th {\n",
       "        vertical-align: top;\n",
       "    }\n",
       "\n",
       "    .dataframe thead th {\n",
       "        text-align: right;\n",
       "    }\n",
       "</style>\n",
       "<table border=\"1\" class=\"dataframe\">\n",
       "  <thead>\n",
       "    <tr style=\"text-align: right;\">\n",
       "      <th></th>\n",
       "      <th>patientID</th>\n",
       "      <th>race</th>\n",
       "      <th>gender</th>\n",
       "      <th>age</th>\n",
       "      <th>weight</th>\n",
       "      <th>readmitted</th>\n",
       "      <th>AdmissionID</th>\n",
       "      <th>Admission_date</th>\n",
       "      <th>Discharge_date</th>\n",
       "      <th>admission_type_id</th>\n",
       "      <th>...</th>\n",
       "      <th>miglitol</th>\n",
       "      <th>troglitazone</th>\n",
       "      <th>tolazamide</th>\n",
       "      <th>insulin</th>\n",
       "      <th>glyburide.metformin</th>\n",
       "      <th>glipizide.metformin</th>\n",
       "      <th>metformin.rosiglitazone</th>\n",
       "      <th>metformin.pioglitazone</th>\n",
       "      <th>change</th>\n",
       "      <th>diabetesMed</th>\n",
       "    </tr>\n",
       "  </thead>\n",
       "  <tbody>\n",
       "    <tr>\n",
       "      <th>0</th>\n",
       "      <td>PT11101</td>\n",
       "      <td>Caucasian</td>\n",
       "      <td>Male</td>\n",
       "      <td>[80-90)</td>\n",
       "      <td>NaN</td>\n",
       "      <td>NO</td>\n",
       "      <td>ADM31792</td>\n",
       "      <td>18-07-2015</td>\n",
       "      <td>23-07-2015</td>\n",
       "      <td>2</td>\n",
       "      <td>...</td>\n",
       "      <td>No</td>\n",
       "      <td>No</td>\n",
       "      <td>No</td>\n",
       "      <td>Up</td>\n",
       "      <td>No</td>\n",
       "      <td>No</td>\n",
       "      <td>No</td>\n",
       "      <td>No</td>\n",
       "      <td>Ch</td>\n",
       "      <td>Yes</td>\n",
       "    </tr>\n",
       "    <tr>\n",
       "      <th>1</th>\n",
       "      <td>PT11102</td>\n",
       "      <td>Caucasian</td>\n",
       "      <td>Male</td>\n",
       "      <td>[70-80)</td>\n",
       "      <td>NaN</td>\n",
       "      <td>NO</td>\n",
       "      <td>ADM42286</td>\n",
       "      <td>23-04-2016</td>\n",
       "      <td>29-04-2016</td>\n",
       "      <td>1</td>\n",
       "      <td>...</td>\n",
       "      <td>No</td>\n",
       "      <td>No</td>\n",
       "      <td>No</td>\n",
       "      <td>No</td>\n",
       "      <td>No</td>\n",
       "      <td>No</td>\n",
       "      <td>No</td>\n",
       "      <td>No</td>\n",
       "      <td>No</td>\n",
       "      <td>Yes</td>\n",
       "    </tr>\n",
       "    <tr>\n",
       "      <th>2</th>\n",
       "      <td>PT11103</td>\n",
       "      <td>NaN</td>\n",
       "      <td>Female</td>\n",
       "      <td>[60-70)</td>\n",
       "      <td>NaN</td>\n",
       "      <td>NO</td>\n",
       "      <td>ADM43029</td>\n",
       "      <td>13-05-2016</td>\n",
       "      <td>17-05-2016</td>\n",
       "      <td>2</td>\n",
       "      <td>...</td>\n",
       "      <td>No</td>\n",
       "      <td>No</td>\n",
       "      <td>No</td>\n",
       "      <td>No</td>\n",
       "      <td>Up</td>\n",
       "      <td>No</td>\n",
       "      <td>No</td>\n",
       "      <td>No</td>\n",
       "      <td>Ch</td>\n",
       "      <td>Yes</td>\n",
       "    </tr>\n",
       "    <tr>\n",
       "      <th>3</th>\n",
       "      <td>PT11104</td>\n",
       "      <td>Caucasian</td>\n",
       "      <td>Female</td>\n",
       "      <td>[70-80)</td>\n",
       "      <td>NaN</td>\n",
       "      <td>NO</td>\n",
       "      <td>ADM30585</td>\n",
       "      <td>16-06-2015</td>\n",
       "      <td>18-06-2015</td>\n",
       "      <td>1</td>\n",
       "      <td>...</td>\n",
       "      <td>No</td>\n",
       "      <td>No</td>\n",
       "      <td>No</td>\n",
       "      <td>No</td>\n",
       "      <td>No</td>\n",
       "      <td>No</td>\n",
       "      <td>No</td>\n",
       "      <td>No</td>\n",
       "      <td>No</td>\n",
       "      <td>Yes</td>\n",
       "    </tr>\n",
       "    <tr>\n",
       "      <th>4</th>\n",
       "      <td>PT11105</td>\n",
       "      <td>Caucasian</td>\n",
       "      <td>Female</td>\n",
       "      <td>[60-70)</td>\n",
       "      <td>NaN</td>\n",
       "      <td>Within30days</td>\n",
       "      <td>ADM40516</td>\n",
       "      <td>08-03-2016</td>\n",
       "      <td>09-03-2016</td>\n",
       "      <td>1</td>\n",
       "      <td>...</td>\n",
       "      <td>No</td>\n",
       "      <td>No</td>\n",
       "      <td>No</td>\n",
       "      <td>Steady</td>\n",
       "      <td>No</td>\n",
       "      <td>No</td>\n",
       "      <td>No</td>\n",
       "      <td>No</td>\n",
       "      <td>No</td>\n",
       "      <td>Yes</td>\n",
       "    </tr>\n",
       "  </tbody>\n",
       "</table>\n",
       "<p>5 rows × 45 columns</p>\n",
       "</div>"
      ],
      "text/plain": [
       "  patientID       race  gender      age weight    readmitted AdmissionID  \\\n",
       "0   PT11101  Caucasian    Male  [80-90)    NaN            NO    ADM31792   \n",
       "1   PT11102  Caucasian    Male  [70-80)    NaN            NO    ADM42286   \n",
       "2   PT11103        NaN  Female  [60-70)    NaN            NO    ADM43029   \n",
       "3   PT11104  Caucasian  Female  [70-80)    NaN            NO    ADM30585   \n",
       "4   PT11105  Caucasian  Female  [60-70)    NaN  Within30days    ADM40516   \n",
       "\n",
       "  Admission_date Discharge_date  admission_type_id     ...      miglitol  \\\n",
       "0     18-07-2015     23-07-2015                  2     ...            No   \n",
       "1     23-04-2016     29-04-2016                  1     ...            No   \n",
       "2     13-05-2016     17-05-2016                  2     ...            No   \n",
       "3     16-06-2015     18-06-2015                  1     ...            No   \n",
       "4     08-03-2016     09-03-2016                  1     ...            No   \n",
       "\n",
       "   troglitazone tolazamide insulin  glyburide.metformin  glipizide.metformin  \\\n",
       "0            No         No      Up                   No                   No   \n",
       "1            No         No      No                   No                   No   \n",
       "2            No         No      No                   Up                   No   \n",
       "3            No         No      No                   No                   No   \n",
       "4            No         No  Steady                   No                   No   \n",
       "\n",
       "   metformin.rosiglitazone  metformin.pioglitazone change diabetesMed  \n",
       "0                       No                      No     Ch         Yes  \n",
       "1                       No                      No     No         Yes  \n",
       "2                       No                      No     Ch         Yes  \n",
       "3                       No                      No     No         Yes  \n",
       "4                       No                      No     No         Yes  \n",
       "\n",
       "[5 rows x 45 columns]"
      ]
     },
     "execution_count": 34,
     "metadata": {},
     "output_type": "execute_result"
    }
   ],
   "source": [
    "hosp_pat.head(5)"
   ]
  },
  {
   "cell_type": "markdown",
   "metadata": {},
   "source": [
    "All columns of the Dataset"
   ]
  },
  {
   "cell_type": "code",
   "execution_count": 35,
   "metadata": {},
   "outputs": [
    {
     "data": {
      "text/html": [
       "<div>\n",
       "<style scoped>\n",
       "    .dataframe tbody tr th:only-of-type {\n",
       "        vertical-align: middle;\n",
       "    }\n",
       "\n",
       "    .dataframe tbody tr th {\n",
       "        vertical-align: top;\n",
       "    }\n",
       "\n",
       "    .dataframe thead th {\n",
       "        text-align: right;\n",
       "    }\n",
       "</style>\n",
       "<table border=\"1\" class=\"dataframe\">\n",
       "  <thead>\n",
       "    <tr style=\"text-align: right;\">\n",
       "      <th></th>\n",
       "      <th>patientID</th>\n",
       "      <th>race</th>\n",
       "      <th>gender</th>\n",
       "      <th>age</th>\n",
       "      <th>weight</th>\n",
       "      <th>AdmissionID</th>\n",
       "      <th>Admission_date</th>\n",
       "      <th>Discharge_date</th>\n",
       "      <th>admission_type_id</th>\n",
       "      <th>discharge_disposition_id</th>\n",
       "      <th>...</th>\n",
       "      <th>miglitol</th>\n",
       "      <th>troglitazone</th>\n",
       "      <th>tolazamide</th>\n",
       "      <th>insulin</th>\n",
       "      <th>glyburide.metformin</th>\n",
       "      <th>glipizide.metformin</th>\n",
       "      <th>metformin.rosiglitazone</th>\n",
       "      <th>metformin.pioglitazone</th>\n",
       "      <th>change</th>\n",
       "      <th>diabetesMed</th>\n",
       "    </tr>\n",
       "  </thead>\n",
       "  <tbody>\n",
       "    <tr>\n",
       "      <th>0</th>\n",
       "      <td>PT60251</td>\n",
       "      <td>Caucasian</td>\n",
       "      <td>Female</td>\n",
       "      <td>[60-70)</td>\n",
       "      <td>NaN</td>\n",
       "      <td>ADM71912</td>\n",
       "      <td>2016-08-19</td>\n",
       "      <td>2016-08-23</td>\n",
       "      <td>1</td>\n",
       "      <td>3</td>\n",
       "      <td>...</td>\n",
       "      <td>No</td>\n",
       "      <td>No</td>\n",
       "      <td>No</td>\n",
       "      <td>No</td>\n",
       "      <td>No</td>\n",
       "      <td>No</td>\n",
       "      <td>No</td>\n",
       "      <td>No</td>\n",
       "      <td>No</td>\n",
       "      <td>No</td>\n",
       "    </tr>\n",
       "    <tr>\n",
       "      <th>1</th>\n",
       "      <td>PT60252</td>\n",
       "      <td>Caucasian</td>\n",
       "      <td>Male</td>\n",
       "      <td>[50-60)</td>\n",
       "      <td>NaN</td>\n",
       "      <td>ADM71036</td>\n",
       "      <td>2016-07-19</td>\n",
       "      <td>2016-07-23</td>\n",
       "      <td>3</td>\n",
       "      <td>6</td>\n",
       "      <td>...</td>\n",
       "      <td>No</td>\n",
       "      <td>No</td>\n",
       "      <td>No</td>\n",
       "      <td>Steady</td>\n",
       "      <td>No</td>\n",
       "      <td>No</td>\n",
       "      <td>No</td>\n",
       "      <td>No</td>\n",
       "      <td>Ch</td>\n",
       "      <td>Yes</td>\n",
       "    </tr>\n",
       "    <tr>\n",
       "      <th>2</th>\n",
       "      <td>PT60253</td>\n",
       "      <td>Caucasian</td>\n",
       "      <td>Female</td>\n",
       "      <td>[50-60)</td>\n",
       "      <td>NaN</td>\n",
       "      <td>ADM77733</td>\n",
       "      <td>2017-02-28</td>\n",
       "      <td>2017-03-11</td>\n",
       "      <td>6</td>\n",
       "      <td>1</td>\n",
       "      <td>...</td>\n",
       "      <td>No</td>\n",
       "      <td>No</td>\n",
       "      <td>No</td>\n",
       "      <td>Down</td>\n",
       "      <td>No</td>\n",
       "      <td>No</td>\n",
       "      <td>No</td>\n",
       "      <td>No</td>\n",
       "      <td>Ch</td>\n",
       "      <td>Yes</td>\n",
       "    </tr>\n",
       "    <tr>\n",
       "      <th>3</th>\n",
       "      <td>PT60254</td>\n",
       "      <td>AfricanAmerican</td>\n",
       "      <td>Female</td>\n",
       "      <td>[40-50)</td>\n",
       "      <td>NaN</td>\n",
       "      <td>ADM70695</td>\n",
       "      <td>2016-07-08</td>\n",
       "      <td>2016-07-12</td>\n",
       "      <td>3</td>\n",
       "      <td>18</td>\n",
       "      <td>...</td>\n",
       "      <td>No</td>\n",
       "      <td>No</td>\n",
       "      <td>No</td>\n",
       "      <td>No</td>\n",
       "      <td>No</td>\n",
       "      <td>No</td>\n",
       "      <td>No</td>\n",
       "      <td>No</td>\n",
       "      <td>No</td>\n",
       "      <td>Yes</td>\n",
       "    </tr>\n",
       "    <tr>\n",
       "      <th>4</th>\n",
       "      <td>PT60255</td>\n",
       "      <td>Caucasian</td>\n",
       "      <td>Female</td>\n",
       "      <td>[60-70)</td>\n",
       "      <td>NaN</td>\n",
       "      <td>ADM83536</td>\n",
       "      <td>2017-09-08</td>\n",
       "      <td>2017-09-16</td>\n",
       "      <td>1</td>\n",
       "      <td>3</td>\n",
       "      <td>...</td>\n",
       "      <td>No</td>\n",
       "      <td>No</td>\n",
       "      <td>No</td>\n",
       "      <td>No</td>\n",
       "      <td>No</td>\n",
       "      <td>No</td>\n",
       "      <td>No</td>\n",
       "      <td>No</td>\n",
       "      <td>No</td>\n",
       "      <td>No</td>\n",
       "    </tr>\n",
       "  </tbody>\n",
       "</table>\n",
       "<p>5 rows × 44 columns</p>\n",
       "</div>"
      ],
      "text/plain": [
       "  patientID             race  gender      age weight AdmissionID  \\\n",
       "0   PT60251        Caucasian  Female  [60-70)    NaN    ADM71912   \n",
       "1   PT60252        Caucasian    Male  [50-60)    NaN    ADM71036   \n",
       "2   PT60253        Caucasian  Female  [50-60)    NaN    ADM77733   \n",
       "3   PT60254  AfricanAmerican  Female  [40-50)    NaN    ADM70695   \n",
       "4   PT60255        Caucasian  Female  [60-70)    NaN    ADM83536   \n",
       "\n",
       "  Admission_date Discharge_date  admission_type_id  discharge_disposition_id  \\\n",
       "0     2016-08-19     2016-08-23                  1                         3   \n",
       "1     2016-07-19     2016-07-23                  3                         6   \n",
       "2     2017-02-28     2017-03-11                  6                         1   \n",
       "3     2016-07-08     2016-07-12                  3                        18   \n",
       "4     2017-09-08     2017-09-16                  1                         3   \n",
       "\n",
       "      ...      miglitol troglitazone tolazamide  insulin  glyburide.metformin  \\\n",
       "0     ...            No           No         No       No                   No   \n",
       "1     ...            No           No         No   Steady                   No   \n",
       "2     ...            No           No         No     Down                   No   \n",
       "3     ...            No           No         No       No                   No   \n",
       "4     ...            No           No         No       No                   No   \n",
       "\n",
       "   glipizide.metformin  metformin.rosiglitazone metformin.pioglitazone change  \\\n",
       "0                   No                       No                     No     No   \n",
       "1                   No                       No                     No     Ch   \n",
       "2                   No                       No                     No     Ch   \n",
       "3                   No                       No                     No     No   \n",
       "4                   No                       No                     No     No   \n",
       "\n",
       "  diabetesMed  \n",
       "0          No  \n",
       "1         Yes  \n",
       "2         Yes  \n",
       "3         Yes  \n",
       "4          No  \n",
       "\n",
       "[5 rows x 44 columns]"
      ]
     },
     "execution_count": 35,
     "metadata": {},
     "output_type": "execute_result"
    }
   ],
   "source": [
    "hosp_pat_test.head(5)"
   ]
  },
  {
   "cell_type": "markdown",
   "metadata": {},
   "source": [
    "### Now Creating a list of categorical Attributes"
   ]
  },
  {
   "cell_type": "code",
   "execution_count": 36,
   "metadata": {},
   "outputs": [],
   "source": [
    "hosp_pat_categ= ['race','age', 'gender', 'readmitted',\n",
    "        'admission_type_id',\n",
    "       'discharge_disposition_id', 'admission_source_id', 'payer_code',\n",
    "       'medical_specialty', 'max_glu_serum', 'A1Cresult', 'metformin', 'repaglinide',\n",
    "       'nateglinide', 'chlorpropamide', 'glimepiride', 'acetohexamide',\n",
    "       'glipizide', 'glyburide', 'tolbutamide', 'pioglitazone',\n",
    "       'rosiglitazone', 'acarbose', 'miglitol', 'troglitazone', 'tolazamide',\n",
    "       'insulin', 'glyburide.metformin', 'glipizide.metformin',\n",
    "       'metformin.rosiglitazone', 'metformin.pioglitazone', 'change',\n",
    "       'diabetesMed']"
   ]
  },
  {
   "cell_type": "code",
   "execution_count": 37,
   "metadata": {},
   "outputs": [],
   "source": [
    "hosp_pat_categ_test= ['race','age', 'gender',\n",
    "        'admission_type_id',\n",
    "       'discharge_disposition_id', 'admission_source_id', 'payer_code',\n",
    "       'medical_specialty', 'max_glu_serum', 'A1Cresult', 'metformin', 'repaglinide',\n",
    "       'nateglinide', 'chlorpropamide', 'glimepiride', 'acetohexamide',\n",
    "       'glipizide', 'glyburide', 'tolbutamide', 'pioglitazone',\n",
    "       'rosiglitazone', 'acarbose', 'miglitol', 'troglitazone', 'tolazamide',\n",
    "       'insulin', 'glyburide.metformin', 'glipizide.metformin',\n",
    "       'metformin.rosiglitazone', 'metformin.pioglitazone', 'change',\n",
    "       'diabetesMed']"
   ]
  },
  {
   "cell_type": "markdown",
   "metadata": {},
   "source": [
    "### Converting the same to Categorical"
   ]
  },
  {
   "cell_type": "code",
   "execution_count": 38,
   "metadata": {},
   "outputs": [],
   "source": [
    "for i in hosp_pat[hosp_pat_categ]:\n",
    "    hosp_pat[i] = hosp_pat[i].astype(\"category\") "
   ]
  },
  {
   "cell_type": "code",
   "execution_count": 39,
   "metadata": {},
   "outputs": [],
   "source": [
    "for i in hosp_pat_test[hosp_pat_categ_test]:\n",
    "    hosp_pat_test[i] = hosp_pat_test[i].astype(\"category\") "
   ]
  },
  {
   "cell_type": "code",
   "execution_count": 40,
   "metadata": {},
   "outputs": [
    {
     "data": {
      "text/plain": [
       "patientID                     object\n",
       "race                        category\n",
       "gender                      category\n",
       "age                         category\n",
       "weight                        object\n",
       "readmitted                  category\n",
       "AdmissionID                   object\n",
       "Admission_date                object\n",
       "Discharge_date                object\n",
       "admission_type_id           category\n",
       "discharge_disposition_id    category\n",
       "admission_source_id         category\n",
       "payer_code                  category\n",
       "medical_specialty           category\n",
       "num_lab_procedures             int64\n",
       "num_procedures                 int64\n",
       "num_medications                int64\n",
       "num_diagnoses                  int64\n",
       "diagnosis_1                   object\n",
       "diagnosis_2                   object\n",
       "diagnosis_3                   object\n",
       "max_glu_serum               category\n",
       "A1Cresult                   category\n",
       "metformin                   category\n",
       "repaglinide                 category\n",
       "nateglinide                 category\n",
       "chlorpropamide              category\n",
       "glimepiride                 category\n",
       "acetohexamide               category\n",
       "glipizide                   category\n",
       "glyburide                   category\n",
       "tolbutamide                 category\n",
       "pioglitazone                category\n",
       "rosiglitazone               category\n",
       "acarbose                    category\n",
       "miglitol                    category\n",
       "troglitazone                category\n",
       "tolazamide                  category\n",
       "insulin                     category\n",
       "glyburide.metformin         category\n",
       "glipizide.metformin         category\n",
       "metformin.rosiglitazone     category\n",
       "metformin.pioglitazone      category\n",
       "change                      category\n",
       "diabetesMed                 category\n",
       "dtype: object"
      ]
     },
     "execution_count": 40,
     "metadata": {},
     "output_type": "execute_result"
    }
   ],
   "source": [
    "hosp_pat.dtypes"
   ]
  },
  {
   "cell_type": "code",
   "execution_count": 41,
   "metadata": {},
   "outputs": [
    {
     "data": {
      "text/plain": [
       "patientID                     object\n",
       "race                        category\n",
       "gender                      category\n",
       "age                         category\n",
       "weight                        object\n",
       "AdmissionID                   object\n",
       "Admission_date                object\n",
       "Discharge_date                object\n",
       "admission_type_id           category\n",
       "discharge_disposition_id    category\n",
       "admission_source_id         category\n",
       "payer_code                  category\n",
       "medical_specialty           category\n",
       "num_lab_procedures             int64\n",
       "num_procedures                 int64\n",
       "num_medications                int64\n",
       "num_diagnoses                  int64\n",
       "diagnosis_1                   object\n",
       "diagnosis_2                   object\n",
       "diagnosis_3                   object\n",
       "max_glu_serum               category\n",
       "A1Cresult                   category\n",
       "metformin                   category\n",
       "repaglinide                 category\n",
       "nateglinide                 category\n",
       "chlorpropamide              category\n",
       "glimepiride                 category\n",
       "acetohexamide               category\n",
       "glipizide                   category\n",
       "glyburide                   category\n",
       "tolbutamide                 category\n",
       "pioglitazone                category\n",
       "rosiglitazone               category\n",
       "acarbose                    category\n",
       "miglitol                    category\n",
       "troglitazone                category\n",
       "tolazamide                  category\n",
       "insulin                     category\n",
       "glyburide.metformin         category\n",
       "glipizide.metformin         category\n",
       "metformin.rosiglitazone     category\n",
       "metformin.pioglitazone      category\n",
       "change                      category\n",
       "diabetesMed                 category\n",
       "dtype: object"
      ]
     },
     "execution_count": 41,
     "metadata": {},
     "output_type": "execute_result"
    }
   ],
   "source": [
    "hosp_pat_test.dtypes"
   ]
  },
  {
   "cell_type": "markdown",
   "metadata": {},
   "source": [
    "Number of NULL values in each Column"
   ]
  },
  {
   "cell_type": "markdown",
   "metadata": {},
   "source": [
    "### Columns with null values"
   ]
  },
  {
   "cell_type": "markdown",
   "metadata": {},
   "source": [
    "#### for train data"
   ]
  },
  {
   "cell_type": "code",
   "execution_count": 42,
   "metadata": {},
   "outputs": [
    {
     "data": {
      "text/plain": [
       "patientID                       0\n",
       "race                         1079\n",
       "gender                          0\n",
       "age                             0\n",
       "weight                      33592\n",
       "readmitted                      0\n",
       "AdmissionID                     0\n",
       "Admission_date                  0\n",
       "Discharge_date                  0\n",
       "admission_type_id               0\n",
       "discharge_disposition_id        0\n",
       "admission_source_id             0\n",
       "payer_code                  14719\n",
       "medical_specialty           16394\n",
       "num_lab_procedures              0\n",
       "num_procedures                  0\n",
       "num_medications                 0\n",
       "num_diagnoses                   0\n",
       "diagnosis_1                     6\n",
       "diagnosis_2                   179\n",
       "diagnosis_3                   681\n",
       "max_glu_serum                   0\n",
       "A1Cresult                       0\n",
       "metformin                       0\n",
       "repaglinide                     0\n",
       "nateglinide                     0\n",
       "chlorpropamide                  0\n",
       "glimepiride                     0\n",
       "acetohexamide                   0\n",
       "glipizide                       0\n",
       "glyburide                       0\n",
       "tolbutamide                     0\n",
       "pioglitazone                    0\n",
       "rosiglitazone                   0\n",
       "acarbose                        0\n",
       "miglitol                        0\n",
       "troglitazone                    0\n",
       "tolazamide                      0\n",
       "insulin                         0\n",
       "glyburide.metformin             0\n",
       "glipizide.metformin             0\n",
       "metformin.rosiglitazone         0\n",
       "metformin.pioglitazone          0\n",
       "change                          0\n",
       "diabetesMed                     0\n",
       "dtype: int64"
      ]
     },
     "execution_count": 42,
     "metadata": {},
     "output_type": "execute_result"
    }
   ],
   "source": [
    "hosp_pat.isna().sum()"
   ]
  },
  {
   "cell_type": "code",
   "execution_count": 43,
   "metadata": {},
   "outputs": [
    {
     "data": {
      "text/plain": [
       "race                  1079\n",
       "weight               33592\n",
       "payer_code           14719\n",
       "medical_specialty    16394\n",
       "diagnosis_1              6\n",
       "diagnosis_2            179\n",
       "diagnosis_3            681\n",
       "dtype: int64"
      ]
     },
     "execution_count": 43,
     "metadata": {},
     "output_type": "execute_result"
    }
   ],
   "source": [
    "hosp_pat_NA = hosp_pat.loc[:,((hosp_pat.isna().sum())>0)]\n",
    "hosp_pat_NA.isna().sum()"
   ]
  },
  {
   "cell_type": "markdown",
   "metadata": {},
   "source": [
    "#### for test data"
   ]
  },
  {
   "cell_type": "code",
   "execution_count": 44,
   "metadata": {},
   "outputs": [
    {
     "data": {
      "text/plain": [
       "patientID                       0\n",
       "race                          432\n",
       "gender                          0\n",
       "age                             0\n",
       "weight                      14149\n",
       "AdmissionID                     0\n",
       "Admission_date                  0\n",
       "Discharge_date                  0\n",
       "admission_type_id               0\n",
       "discharge_disposition_id        0\n",
       "admission_source_id             0\n",
       "payer_code                   6283\n",
       "medical_specialty            7000\n",
       "num_lab_procedures              0\n",
       "num_procedures                  0\n",
       "num_medications                 0\n",
       "num_diagnoses                   0\n",
       "diagnosis_1                     3\n",
       "diagnosis_2                    65\n",
       "diagnosis_3                   286\n",
       "max_glu_serum                   0\n",
       "A1Cresult                       0\n",
       "metformin                       0\n",
       "repaglinide                     0\n",
       "nateglinide                     0\n",
       "chlorpropamide                  0\n",
       "glimepiride                     0\n",
       "acetohexamide                   0\n",
       "glipizide                       0\n",
       "glyburide                       0\n",
       "tolbutamide                     0\n",
       "pioglitazone                    0\n",
       "rosiglitazone                   0\n",
       "acarbose                        0\n",
       "miglitol                        0\n",
       "troglitazone                    0\n",
       "tolazamide                      0\n",
       "insulin                         0\n",
       "glyburide.metformin             0\n",
       "glipizide.metformin             0\n",
       "metformin.rosiglitazone         0\n",
       "metformin.pioglitazone          0\n",
       "change                          0\n",
       "diabetesMed                     0\n",
       "dtype: int64"
      ]
     },
     "execution_count": 44,
     "metadata": {},
     "output_type": "execute_result"
    }
   ],
   "source": [
    "hosp_pat_test.isna().sum()"
   ]
  },
  {
   "cell_type": "code",
   "execution_count": 45,
   "metadata": {},
   "outputs": [
    {
     "data": {
      "text/plain": [
       "race                   432\n",
       "weight               14149\n",
       "payer_code            6283\n",
       "medical_specialty     7000\n",
       "diagnosis_1              3\n",
       "diagnosis_2             65\n",
       "diagnosis_3            286\n",
       "dtype: int64"
      ]
     },
     "execution_count": 45,
     "metadata": {},
     "output_type": "execute_result"
    }
   ],
   "source": [
    "hosp_pat_NA_test = hosp_pat_test.loc[:,((hosp_pat.isna().sum())>0)]\n",
    "hosp_pat_NA_test.isna().sum()"
   ]
  },
  {
   "cell_type": "markdown",
   "metadata": {},
   "source": [
    "### Dropping columns with higher NA values"
   ]
  },
  {
   "cell_type": "code",
   "execution_count": 46,
   "metadata": {},
   "outputs": [],
   "source": [
    "hosp_pat.drop(['patientID','weight','payer_code','medical_specialty'],axis=1,inplace=True)"
   ]
  },
  {
   "cell_type": "code",
   "execution_count": 47,
   "metadata": {},
   "outputs": [
    {
     "data": {
      "text/plain": [
       "(34650, 41)"
      ]
     },
     "execution_count": 47,
     "metadata": {},
     "output_type": "execute_result"
    }
   ],
   "source": [
    "hosp_pat.shape"
   ]
  },
  {
   "cell_type": "code",
   "execution_count": 48,
   "metadata": {},
   "outputs": [],
   "source": [
    "hosp_pat_test.drop(['patientID','weight','payer_code','medical_specialty'],axis=1,inplace=True)"
   ]
  },
  {
   "cell_type": "code",
   "execution_count": 49,
   "metadata": {},
   "outputs": [
    {
     "data": {
      "text/plain": [
       "(14630, 40)"
      ]
     },
     "execution_count": 49,
     "metadata": {},
     "output_type": "execute_result"
    }
   ],
   "source": [
    "hosp_pat_test.shape"
   ]
  },
  {
   "cell_type": "markdown",
   "metadata": {},
   "source": [
    "### Impuating Nan values with mode of each columns"
   ]
  },
  {
   "cell_type": "code",
   "execution_count": 50,
   "metadata": {},
   "outputs": [],
   "source": [
    "diagnos=['race','diagnosis_1','diagnosis_2','diagnosis_3']\n",
    "hosp_pat[diagnos]=hosp_pat[diagnos].fillna(hosp_pat.mode().iloc[0])"
   ]
  },
  {
   "cell_type": "code",
   "execution_count": 51,
   "metadata": {},
   "outputs": [
    {
     "data": {
      "text/plain": [
       "race                        0\n",
       "gender                      0\n",
       "age                         0\n",
       "readmitted                  0\n",
       "AdmissionID                 0\n",
       "Admission_date              0\n",
       "Discharge_date              0\n",
       "admission_type_id           0\n",
       "discharge_disposition_id    0\n",
       "admission_source_id         0\n",
       "num_lab_procedures          0\n",
       "num_procedures              0\n",
       "num_medications             0\n",
       "num_diagnoses               0\n",
       "diagnosis_1                 0\n",
       "diagnosis_2                 0\n",
       "diagnosis_3                 0\n",
       "max_glu_serum               0\n",
       "A1Cresult                   0\n",
       "metformin                   0\n",
       "repaglinide                 0\n",
       "nateglinide                 0\n",
       "chlorpropamide              0\n",
       "glimepiride                 0\n",
       "acetohexamide               0\n",
       "glipizide                   0\n",
       "glyburide                   0\n",
       "tolbutamide                 0\n",
       "pioglitazone                0\n",
       "rosiglitazone               0\n",
       "acarbose                    0\n",
       "miglitol                    0\n",
       "troglitazone                0\n",
       "tolazamide                  0\n",
       "insulin                     0\n",
       "glyburide.metformin         0\n",
       "glipizide.metformin         0\n",
       "metformin.rosiglitazone     0\n",
       "metformin.pioglitazone      0\n",
       "change                      0\n",
       "diabetesMed                 0\n",
       "dtype: int64"
      ]
     },
     "execution_count": 51,
     "metadata": {},
     "output_type": "execute_result"
    }
   ],
   "source": [
    "hosp_pat.isna().sum()"
   ]
  },
  {
   "cell_type": "code",
   "execution_count": 52,
   "metadata": {},
   "outputs": [],
   "source": [
    "hosp_pat_test[diagnos]=hosp_pat_test[diagnos].fillna(hosp_pat.mode().iloc[0])"
   ]
  },
  {
   "cell_type": "code",
   "execution_count": 53,
   "metadata": {},
   "outputs": [
    {
     "data": {
      "text/plain": [
       "race                        0\n",
       "gender                      0\n",
       "age                         0\n",
       "AdmissionID                 0\n",
       "Admission_date              0\n",
       "Discharge_date              0\n",
       "admission_type_id           0\n",
       "discharge_disposition_id    0\n",
       "admission_source_id         0\n",
       "num_lab_procedures          0\n",
       "num_procedures              0\n",
       "num_medications             0\n",
       "num_diagnoses               0\n",
       "diagnosis_1                 0\n",
       "diagnosis_2                 0\n",
       "diagnosis_3                 0\n",
       "max_glu_serum               0\n",
       "A1Cresult                   0\n",
       "metformin                   0\n",
       "repaglinide                 0\n",
       "nateglinide                 0\n",
       "chlorpropamide              0\n",
       "glimepiride                 0\n",
       "acetohexamide               0\n",
       "glipizide                   0\n",
       "glyburide                   0\n",
       "tolbutamide                 0\n",
       "pioglitazone                0\n",
       "rosiglitazone               0\n",
       "acarbose                    0\n",
       "miglitol                    0\n",
       "troglitazone                0\n",
       "tolazamide                  0\n",
       "insulin                     0\n",
       "glyburide.metformin         0\n",
       "glipizide.metformin         0\n",
       "metformin.rosiglitazone     0\n",
       "metformin.pioglitazone      0\n",
       "change                      0\n",
       "diabetesMed                 0\n",
       "dtype: int64"
      ]
     },
     "execution_count": 53,
     "metadata": {},
     "output_type": "execute_result"
    }
   ],
   "source": [
    "hosp_pat_test.isna().sum()"
   ]
  },
  {
   "cell_type": "markdown",
   "metadata": {},
   "source": [
    "### Creating a new column for Number days in Hospital"
   ]
  },
  {
   "cell_type": "code",
   "execution_count": 54,
   "metadata": {},
   "outputs": [],
   "source": [
    "import datetime\n",
    "hosp_pat.Discharge_date = pd.to_datetime(hosp_pat.Discharge_date, infer_datetime_format=True)\n",
    "hosp_pat.Admission_date = pd.to_datetime(hosp_pat.Admission_date, infer_datetime_format=True)\n",
    "##\n",
    "hosp_pat_test.Discharge_date = pd.to_datetime(hosp_pat_test.Discharge_date, infer_datetime_format=True)\n",
    "hosp_pat_test.Admission_date = pd.to_datetime(hosp_pat_test.Admission_date, infer_datetime_format=True)\n"
   ]
  },
  {
   "cell_type": "code",
   "execution_count": 55,
   "metadata": {},
   "outputs": [],
   "source": [
    "hosp_pat['Days_in_hosptal'] = (hosp_pat.Discharge_date - hosp_pat.Admission_date).dt.days\n",
    "hosp_pat_test['Days_in_hosptal'] = (hosp_pat_test.Discharge_date - hosp_pat_test.Admission_date).dt.days"
   ]
  },
  {
   "cell_type": "markdown",
   "metadata": {},
   "source": [
    "### Fetching the Year of the Treatment"
   ]
  },
  {
   "cell_type": "code",
   "execution_count": 56,
   "metadata": {},
   "outputs": [],
   "source": [
    "hosp_pat['years'] = (hosp_pat.Admission_date).dt.year"
   ]
  },
  {
   "cell_type": "code",
   "execution_count": 57,
   "metadata": {},
   "outputs": [],
   "source": [
    "hosp_pat_test['years'] = (hosp_pat_test.Admission_date).dt.year"
   ]
  },
  {
   "cell_type": "code",
   "execution_count": 58,
   "metadata": {},
   "outputs": [],
   "source": [
    "hosp_pat.drop(['AdmissionID', 'Admission_date','Discharge_date'],axis=1,inplace=True)"
   ]
  },
  {
   "cell_type": "code",
   "execution_count": 59,
   "metadata": {},
   "outputs": [],
   "source": [
    "hosp_pat_test.drop(['AdmissionID', 'Admission_date','Discharge_date'],axis=1,inplace=True)"
   ]
  },
  {
   "cell_type": "code",
   "execution_count": 60,
   "metadata": {},
   "outputs": [
    {
     "data": {
      "text/html": [
       "<div>\n",
       "<style scoped>\n",
       "    .dataframe tbody tr th:only-of-type {\n",
       "        vertical-align: middle;\n",
       "    }\n",
       "\n",
       "    .dataframe tbody tr th {\n",
       "        vertical-align: top;\n",
       "    }\n",
       "\n",
       "    .dataframe thead th {\n",
       "        text-align: right;\n",
       "    }\n",
       "</style>\n",
       "<table border=\"1\" class=\"dataframe\">\n",
       "  <thead>\n",
       "    <tr style=\"text-align: right;\">\n",
       "      <th></th>\n",
       "      <th>race</th>\n",
       "      <th>gender</th>\n",
       "      <th>age</th>\n",
       "      <th>readmitted</th>\n",
       "      <th>admission_type_id</th>\n",
       "      <th>discharge_disposition_id</th>\n",
       "      <th>admission_source_id</th>\n",
       "      <th>num_lab_procedures</th>\n",
       "      <th>num_procedures</th>\n",
       "      <th>num_medications</th>\n",
       "      <th>...</th>\n",
       "      <th>tolazamide</th>\n",
       "      <th>insulin</th>\n",
       "      <th>glyburide.metformin</th>\n",
       "      <th>glipizide.metformin</th>\n",
       "      <th>metformin.rosiglitazone</th>\n",
       "      <th>metformin.pioglitazone</th>\n",
       "      <th>change</th>\n",
       "      <th>diabetesMed</th>\n",
       "      <th>Days_in_hosptal</th>\n",
       "      <th>years</th>\n",
       "    </tr>\n",
       "  </thead>\n",
       "  <tbody>\n",
       "    <tr>\n",
       "      <th>0</th>\n",
       "      <td>Caucasian</td>\n",
       "      <td>Male</td>\n",
       "      <td>[80-90)</td>\n",
       "      <td>NO</td>\n",
       "      <td>2</td>\n",
       "      <td>1</td>\n",
       "      <td>7</td>\n",
       "      <td>18</td>\n",
       "      <td>1</td>\n",
       "      <td>7</td>\n",
       "      <td>...</td>\n",
       "      <td>No</td>\n",
       "      <td>Up</td>\n",
       "      <td>No</td>\n",
       "      <td>No</td>\n",
       "      <td>No</td>\n",
       "      <td>No</td>\n",
       "      <td>Ch</td>\n",
       "      <td>Yes</td>\n",
       "      <td>5</td>\n",
       "      <td>2015</td>\n",
       "    </tr>\n",
       "    <tr>\n",
       "      <th>1</th>\n",
       "      <td>Caucasian</td>\n",
       "      <td>Male</td>\n",
       "      <td>[70-80)</td>\n",
       "      <td>NO</td>\n",
       "      <td>1</td>\n",
       "      <td>3</td>\n",
       "      <td>7</td>\n",
       "      <td>40</td>\n",
       "      <td>4</td>\n",
       "      <td>16</td>\n",
       "      <td>...</td>\n",
       "      <td>No</td>\n",
       "      <td>No</td>\n",
       "      <td>No</td>\n",
       "      <td>No</td>\n",
       "      <td>No</td>\n",
       "      <td>No</td>\n",
       "      <td>No</td>\n",
       "      <td>Yes</td>\n",
       "      <td>6</td>\n",
       "      <td>2016</td>\n",
       "    </tr>\n",
       "    <tr>\n",
       "      <th>2</th>\n",
       "      <td>Caucasian</td>\n",
       "      <td>Female</td>\n",
       "      <td>[60-70)</td>\n",
       "      <td>NO</td>\n",
       "      <td>2</td>\n",
       "      <td>1</td>\n",
       "      <td>1</td>\n",
       "      <td>39</td>\n",
       "      <td>1</td>\n",
       "      <td>12</td>\n",
       "      <td>...</td>\n",
       "      <td>No</td>\n",
       "      <td>No</td>\n",
       "      <td>Up</td>\n",
       "      <td>No</td>\n",
       "      <td>No</td>\n",
       "      <td>No</td>\n",
       "      <td>Ch</td>\n",
       "      <td>Yes</td>\n",
       "      <td>4</td>\n",
       "      <td>2016</td>\n",
       "    </tr>\n",
       "    <tr>\n",
       "      <th>3</th>\n",
       "      <td>Caucasian</td>\n",
       "      <td>Female</td>\n",
       "      <td>[70-80)</td>\n",
       "      <td>NO</td>\n",
       "      <td>1</td>\n",
       "      <td>1</td>\n",
       "      <td>7</td>\n",
       "      <td>1</td>\n",
       "      <td>0</td>\n",
       "      <td>10</td>\n",
       "      <td>...</td>\n",
       "      <td>No</td>\n",
       "      <td>No</td>\n",
       "      <td>No</td>\n",
       "      <td>No</td>\n",
       "      <td>No</td>\n",
       "      <td>No</td>\n",
       "      <td>No</td>\n",
       "      <td>Yes</td>\n",
       "      <td>2</td>\n",
       "      <td>2015</td>\n",
       "    </tr>\n",
       "    <tr>\n",
       "      <th>4</th>\n",
       "      <td>Caucasian</td>\n",
       "      <td>Female</td>\n",
       "      <td>[60-70)</td>\n",
       "      <td>Within30days</td>\n",
       "      <td>1</td>\n",
       "      <td>1</td>\n",
       "      <td>7</td>\n",
       "      <td>44</td>\n",
       "      <td>0</td>\n",
       "      <td>16</td>\n",
       "      <td>...</td>\n",
       "      <td>No</td>\n",
       "      <td>Steady</td>\n",
       "      <td>No</td>\n",
       "      <td>No</td>\n",
       "      <td>No</td>\n",
       "      <td>No</td>\n",
       "      <td>No</td>\n",
       "      <td>Yes</td>\n",
       "      <td>1</td>\n",
       "      <td>2016</td>\n",
       "    </tr>\n",
       "  </tbody>\n",
       "</table>\n",
       "<p>5 rows × 40 columns</p>\n",
       "</div>"
      ],
      "text/plain": [
       "        race  gender      age    readmitted admission_type_id  \\\n",
       "0  Caucasian    Male  [80-90)            NO                 2   \n",
       "1  Caucasian    Male  [70-80)            NO                 1   \n",
       "2  Caucasian  Female  [60-70)            NO                 2   \n",
       "3  Caucasian  Female  [70-80)            NO                 1   \n",
       "4  Caucasian  Female  [60-70)  Within30days                 1   \n",
       "\n",
       "  discharge_disposition_id admission_source_id  num_lab_procedures  \\\n",
       "0                        1                   7                  18   \n",
       "1                        3                   7                  40   \n",
       "2                        1                   1                  39   \n",
       "3                        1                   7                   1   \n",
       "4                        1                   7                  44   \n",
       "\n",
       "   num_procedures  num_medications  ...   tolazamide insulin  \\\n",
       "0               1                7  ...           No      Up   \n",
       "1               4               16  ...           No      No   \n",
       "2               1               12  ...           No      No   \n",
       "3               0               10  ...           No      No   \n",
       "4               0               16  ...           No  Steady   \n",
       "\n",
       "  glyburide.metformin glipizide.metformin metformin.rosiglitazone  \\\n",
       "0                  No                  No                      No   \n",
       "1                  No                  No                      No   \n",
       "2                  Up                  No                      No   \n",
       "3                  No                  No                      No   \n",
       "4                  No                  No                      No   \n",
       "\n",
       "  metformin.pioglitazone change diabetesMed Days_in_hosptal years  \n",
       "0                     No     Ch         Yes               5  2015  \n",
       "1                     No     No         Yes               6  2016  \n",
       "2                     No     Ch         Yes               4  2016  \n",
       "3                     No     No         Yes               2  2015  \n",
       "4                     No     No         Yes               1  2016  \n",
       "\n",
       "[5 rows x 40 columns]"
      ]
     },
     "execution_count": 60,
     "metadata": {},
     "output_type": "execute_result"
    }
   ],
   "source": [
    "hosp_pat.head(5)"
   ]
  },
  {
   "cell_type": "code",
   "execution_count": 61,
   "metadata": {},
   "outputs": [
    {
     "data": {
      "text/html": [
       "<div>\n",
       "<style scoped>\n",
       "    .dataframe tbody tr th:only-of-type {\n",
       "        vertical-align: middle;\n",
       "    }\n",
       "\n",
       "    .dataframe tbody tr th {\n",
       "        vertical-align: top;\n",
       "    }\n",
       "\n",
       "    .dataframe thead th {\n",
       "        text-align: right;\n",
       "    }\n",
       "</style>\n",
       "<table border=\"1\" class=\"dataframe\">\n",
       "  <thead>\n",
       "    <tr style=\"text-align: right;\">\n",
       "      <th></th>\n",
       "      <th>race</th>\n",
       "      <th>gender</th>\n",
       "      <th>age</th>\n",
       "      <th>admission_type_id</th>\n",
       "      <th>discharge_disposition_id</th>\n",
       "      <th>admission_source_id</th>\n",
       "      <th>num_lab_procedures</th>\n",
       "      <th>num_procedures</th>\n",
       "      <th>num_medications</th>\n",
       "      <th>num_diagnoses</th>\n",
       "      <th>...</th>\n",
       "      <th>tolazamide</th>\n",
       "      <th>insulin</th>\n",
       "      <th>glyburide.metformin</th>\n",
       "      <th>glipizide.metformin</th>\n",
       "      <th>metformin.rosiglitazone</th>\n",
       "      <th>metformin.pioglitazone</th>\n",
       "      <th>change</th>\n",
       "      <th>diabetesMed</th>\n",
       "      <th>Days_in_hosptal</th>\n",
       "      <th>years</th>\n",
       "    </tr>\n",
       "  </thead>\n",
       "  <tbody>\n",
       "    <tr>\n",
       "      <th>0</th>\n",
       "      <td>Caucasian</td>\n",
       "      <td>Female</td>\n",
       "      <td>[60-70)</td>\n",
       "      <td>1</td>\n",
       "      <td>3</td>\n",
       "      <td>7</td>\n",
       "      <td>49</td>\n",
       "      <td>0</td>\n",
       "      <td>9</td>\n",
       "      <td>9</td>\n",
       "      <td>...</td>\n",
       "      <td>No</td>\n",
       "      <td>No</td>\n",
       "      <td>No</td>\n",
       "      <td>No</td>\n",
       "      <td>No</td>\n",
       "      <td>No</td>\n",
       "      <td>No</td>\n",
       "      <td>No</td>\n",
       "      <td>4</td>\n",
       "      <td>2016</td>\n",
       "    </tr>\n",
       "    <tr>\n",
       "      <th>1</th>\n",
       "      <td>Caucasian</td>\n",
       "      <td>Male</td>\n",
       "      <td>[50-60)</td>\n",
       "      <td>3</td>\n",
       "      <td>6</td>\n",
       "      <td>1</td>\n",
       "      <td>42</td>\n",
       "      <td>3</td>\n",
       "      <td>28</td>\n",
       "      <td>7</td>\n",
       "      <td>...</td>\n",
       "      <td>No</td>\n",
       "      <td>Steady</td>\n",
       "      <td>No</td>\n",
       "      <td>No</td>\n",
       "      <td>No</td>\n",
       "      <td>No</td>\n",
       "      <td>Ch</td>\n",
       "      <td>Yes</td>\n",
       "      <td>4</td>\n",
       "      <td>2016</td>\n",
       "    </tr>\n",
       "    <tr>\n",
       "      <th>2</th>\n",
       "      <td>Caucasian</td>\n",
       "      <td>Female</td>\n",
       "      <td>[50-60)</td>\n",
       "      <td>6</td>\n",
       "      <td>1</td>\n",
       "      <td>7</td>\n",
       "      <td>61</td>\n",
       "      <td>1</td>\n",
       "      <td>15</td>\n",
       "      <td>6</td>\n",
       "      <td>...</td>\n",
       "      <td>No</td>\n",
       "      <td>Down</td>\n",
       "      <td>No</td>\n",
       "      <td>No</td>\n",
       "      <td>No</td>\n",
       "      <td>No</td>\n",
       "      <td>Ch</td>\n",
       "      <td>Yes</td>\n",
       "      <td>11</td>\n",
       "      <td>2017</td>\n",
       "    </tr>\n",
       "    <tr>\n",
       "      <th>3</th>\n",
       "      <td>AfricanAmerican</td>\n",
       "      <td>Female</td>\n",
       "      <td>[40-50)</td>\n",
       "      <td>3</td>\n",
       "      <td>18</td>\n",
       "      <td>1</td>\n",
       "      <td>35</td>\n",
       "      <td>4</td>\n",
       "      <td>29</td>\n",
       "      <td>8</td>\n",
       "      <td>...</td>\n",
       "      <td>No</td>\n",
       "      <td>No</td>\n",
       "      <td>No</td>\n",
       "      <td>No</td>\n",
       "      <td>No</td>\n",
       "      <td>No</td>\n",
       "      <td>No</td>\n",
       "      <td>Yes</td>\n",
       "      <td>4</td>\n",
       "      <td>2016</td>\n",
       "    </tr>\n",
       "    <tr>\n",
       "      <th>4</th>\n",
       "      <td>Caucasian</td>\n",
       "      <td>Female</td>\n",
       "      <td>[60-70)</td>\n",
       "      <td>1</td>\n",
       "      <td>3</td>\n",
       "      <td>5</td>\n",
       "      <td>56</td>\n",
       "      <td>1</td>\n",
       "      <td>22</td>\n",
       "      <td>9</td>\n",
       "      <td>...</td>\n",
       "      <td>No</td>\n",
       "      <td>No</td>\n",
       "      <td>No</td>\n",
       "      <td>No</td>\n",
       "      <td>No</td>\n",
       "      <td>No</td>\n",
       "      <td>No</td>\n",
       "      <td>No</td>\n",
       "      <td>8</td>\n",
       "      <td>2017</td>\n",
       "    </tr>\n",
       "  </tbody>\n",
       "</table>\n",
       "<p>5 rows × 39 columns</p>\n",
       "</div>"
      ],
      "text/plain": [
       "              race  gender      age admission_type_id  \\\n",
       "0        Caucasian  Female  [60-70)                 1   \n",
       "1        Caucasian    Male  [50-60)                 3   \n",
       "2        Caucasian  Female  [50-60)                 6   \n",
       "3  AfricanAmerican  Female  [40-50)                 3   \n",
       "4        Caucasian  Female  [60-70)                 1   \n",
       "\n",
       "  discharge_disposition_id admission_source_id  num_lab_procedures  \\\n",
       "0                        3                   7                  49   \n",
       "1                        6                   1                  42   \n",
       "2                        1                   7                  61   \n",
       "3                       18                   1                  35   \n",
       "4                        3                   5                  56   \n",
       "\n",
       "   num_procedures  num_medications  num_diagnoses  ...  tolazamide insulin  \\\n",
       "0               0                9              9  ...          No      No   \n",
       "1               3               28              7  ...          No  Steady   \n",
       "2               1               15              6  ...          No    Down   \n",
       "3               4               29              8  ...          No      No   \n",
       "4               1               22              9  ...          No      No   \n",
       "\n",
       "  glyburide.metformin glipizide.metformin metformin.rosiglitazone  \\\n",
       "0                  No                  No                      No   \n",
       "1                  No                  No                      No   \n",
       "2                  No                  No                      No   \n",
       "3                  No                  No                      No   \n",
       "4                  No                  No                      No   \n",
       "\n",
       "  metformin.pioglitazone change diabetesMed Days_in_hosptal years  \n",
       "0                     No     No          No               4  2016  \n",
       "1                     No     Ch         Yes               4  2016  \n",
       "2                     No     Ch         Yes              11  2017  \n",
       "3                     No     No         Yes               4  2016  \n",
       "4                     No     No          No               8  2017  \n",
       "\n",
       "[5 rows x 39 columns]"
      ]
     },
     "execution_count": 61,
     "metadata": {},
     "output_type": "execute_result"
    }
   ],
   "source": [
    "hosp_pat_test.head(5)"
   ]
  },
  {
   "cell_type": "code",
   "execution_count": 62,
   "metadata": {},
   "outputs": [
    {
     "data": {
      "text/html": [
       "<div>\n",
       "<style scoped>\n",
       "    .dataframe tbody tr th:only-of-type {\n",
       "        vertical-align: middle;\n",
       "    }\n",
       "\n",
       "    .dataframe tbody tr th {\n",
       "        vertical-align: top;\n",
       "    }\n",
       "\n",
       "    .dataframe thead th {\n",
       "        text-align: right;\n",
       "    }\n",
       "</style>\n",
       "<table border=\"1\" class=\"dataframe\">\n",
       "  <thead>\n",
       "    <tr style=\"text-align: right;\">\n",
       "      <th></th>\n",
       "      <th>race</th>\n",
       "      <th>gender</th>\n",
       "      <th>age</th>\n",
       "      <th>readmitted</th>\n",
       "      <th>admission_type_id</th>\n",
       "      <th>discharge_disposition_id</th>\n",
       "      <th>admission_source_id</th>\n",
       "      <th>num_lab_procedures</th>\n",
       "      <th>num_procedures</th>\n",
       "      <th>num_medications</th>\n",
       "      <th>...</th>\n",
       "      <th>tolazamide</th>\n",
       "      <th>insulin</th>\n",
       "      <th>glyburide.metformin</th>\n",
       "      <th>glipizide.metformin</th>\n",
       "      <th>metformin.rosiglitazone</th>\n",
       "      <th>metformin.pioglitazone</th>\n",
       "      <th>change</th>\n",
       "      <th>diabetesMed</th>\n",
       "      <th>Days_in_hosptal</th>\n",
       "      <th>years</th>\n",
       "    </tr>\n",
       "  </thead>\n",
       "  <tbody>\n",
       "    <tr>\n",
       "      <th>0</th>\n",
       "      <td>Caucasian</td>\n",
       "      <td>Male</td>\n",
       "      <td>[80-90)</td>\n",
       "      <td>NO</td>\n",
       "      <td>2</td>\n",
       "      <td>1</td>\n",
       "      <td>7</td>\n",
       "      <td>18</td>\n",
       "      <td>1</td>\n",
       "      <td>7</td>\n",
       "      <td>...</td>\n",
       "      <td>No</td>\n",
       "      <td>Up</td>\n",
       "      <td>No</td>\n",
       "      <td>No</td>\n",
       "      <td>No</td>\n",
       "      <td>No</td>\n",
       "      <td>Ch</td>\n",
       "      <td>Yes</td>\n",
       "      <td>5</td>\n",
       "      <td>2015</td>\n",
       "    </tr>\n",
       "    <tr>\n",
       "      <th>1</th>\n",
       "      <td>Caucasian</td>\n",
       "      <td>Male</td>\n",
       "      <td>[70-80)</td>\n",
       "      <td>NO</td>\n",
       "      <td>1</td>\n",
       "      <td>3</td>\n",
       "      <td>7</td>\n",
       "      <td>40</td>\n",
       "      <td>4</td>\n",
       "      <td>16</td>\n",
       "      <td>...</td>\n",
       "      <td>No</td>\n",
       "      <td>No</td>\n",
       "      <td>No</td>\n",
       "      <td>No</td>\n",
       "      <td>No</td>\n",
       "      <td>No</td>\n",
       "      <td>No</td>\n",
       "      <td>Yes</td>\n",
       "      <td>6</td>\n",
       "      <td>2016</td>\n",
       "    </tr>\n",
       "    <tr>\n",
       "      <th>2</th>\n",
       "      <td>Caucasian</td>\n",
       "      <td>Female</td>\n",
       "      <td>[60-70)</td>\n",
       "      <td>NO</td>\n",
       "      <td>2</td>\n",
       "      <td>1</td>\n",
       "      <td>1</td>\n",
       "      <td>39</td>\n",
       "      <td>1</td>\n",
       "      <td>12</td>\n",
       "      <td>...</td>\n",
       "      <td>No</td>\n",
       "      <td>No</td>\n",
       "      <td>Up</td>\n",
       "      <td>No</td>\n",
       "      <td>No</td>\n",
       "      <td>No</td>\n",
       "      <td>Ch</td>\n",
       "      <td>Yes</td>\n",
       "      <td>4</td>\n",
       "      <td>2016</td>\n",
       "    </tr>\n",
       "    <tr>\n",
       "      <th>3</th>\n",
       "      <td>Caucasian</td>\n",
       "      <td>Female</td>\n",
       "      <td>[70-80)</td>\n",
       "      <td>NO</td>\n",
       "      <td>1</td>\n",
       "      <td>1</td>\n",
       "      <td>7</td>\n",
       "      <td>1</td>\n",
       "      <td>0</td>\n",
       "      <td>10</td>\n",
       "      <td>...</td>\n",
       "      <td>No</td>\n",
       "      <td>No</td>\n",
       "      <td>No</td>\n",
       "      <td>No</td>\n",
       "      <td>No</td>\n",
       "      <td>No</td>\n",
       "      <td>No</td>\n",
       "      <td>Yes</td>\n",
       "      <td>2</td>\n",
       "      <td>2015</td>\n",
       "    </tr>\n",
       "    <tr>\n",
       "      <th>4</th>\n",
       "      <td>Caucasian</td>\n",
       "      <td>Female</td>\n",
       "      <td>[60-70)</td>\n",
       "      <td>Within30days</td>\n",
       "      <td>1</td>\n",
       "      <td>1</td>\n",
       "      <td>7</td>\n",
       "      <td>44</td>\n",
       "      <td>0</td>\n",
       "      <td>16</td>\n",
       "      <td>...</td>\n",
       "      <td>No</td>\n",
       "      <td>Steady</td>\n",
       "      <td>No</td>\n",
       "      <td>No</td>\n",
       "      <td>No</td>\n",
       "      <td>No</td>\n",
       "      <td>No</td>\n",
       "      <td>Yes</td>\n",
       "      <td>1</td>\n",
       "      <td>2016</td>\n",
       "    </tr>\n",
       "  </tbody>\n",
       "</table>\n",
       "<p>5 rows × 40 columns</p>\n",
       "</div>"
      ],
      "text/plain": [
       "        race  gender      age    readmitted admission_type_id  \\\n",
       "0  Caucasian    Male  [80-90)            NO                 2   \n",
       "1  Caucasian    Male  [70-80)            NO                 1   \n",
       "2  Caucasian  Female  [60-70)            NO                 2   \n",
       "3  Caucasian  Female  [70-80)            NO                 1   \n",
       "4  Caucasian  Female  [60-70)  Within30days                 1   \n",
       "\n",
       "  discharge_disposition_id admission_source_id  num_lab_procedures  \\\n",
       "0                        1                   7                  18   \n",
       "1                        3                   7                  40   \n",
       "2                        1                   1                  39   \n",
       "3                        1                   7                   1   \n",
       "4                        1                   7                  44   \n",
       "\n",
       "   num_procedures  num_medications  ...   tolazamide insulin  \\\n",
       "0               1                7  ...           No      Up   \n",
       "1               4               16  ...           No      No   \n",
       "2               1               12  ...           No      No   \n",
       "3               0               10  ...           No      No   \n",
       "4               0               16  ...           No  Steady   \n",
       "\n",
       "  glyburide.metformin glipizide.metformin metformin.rosiglitazone  \\\n",
       "0                  No                  No                      No   \n",
       "1                  No                  No                      No   \n",
       "2                  Up                  No                      No   \n",
       "3                  No                  No                      No   \n",
       "4                  No                  No                      No   \n",
       "\n",
       "  metformin.pioglitazone change diabetesMed Days_in_hosptal years  \n",
       "0                     No     Ch         Yes               5  2015  \n",
       "1                     No     No         Yes               6  2016  \n",
       "2                     No     Ch         Yes               4  2016  \n",
       "3                     No     No         Yes               2  2015  \n",
       "4                     No     No         Yes               1  2016  \n",
       "\n",
       "[5 rows x 40 columns]"
      ]
     },
     "execution_count": 62,
     "metadata": {},
     "output_type": "execute_result"
    }
   ],
   "source": [
    "hosp_pat.head()"
   ]
  },
  {
   "cell_type": "code",
   "execution_count": 65,
   "metadata": {},
   "outputs": [
    {
     "ename": "AttributeError",
     "evalue": "'Series' object has no attribute 'value_count'",
     "output_type": "error",
     "traceback": [
      "\u001b[1;31m---------------------------------------------------------------------------\u001b[0m",
      "\u001b[1;31mAttributeError\u001b[0m                            Traceback (most recent call last)",
      "\u001b[1;32m<ipython-input-65-3c6dd84388ad>\u001b[0m in \u001b[0;36m<module>\u001b[1;34m()\u001b[0m\n\u001b[0;32m      1\u001b[0m \u001b[1;32mfor\u001b[0m \u001b[0mi\u001b[0m \u001b[1;32min\u001b[0m \u001b[0mhosp_pat\u001b[0m\u001b[1;33m.\u001b[0m\u001b[0mcolumns\u001b[0m\u001b[1;33m:\u001b[0m\u001b[1;33m\u001b[0m\u001b[0m\n\u001b[1;32m----> 2\u001b[1;33m     \u001b[0mprint\u001b[0m\u001b[1;33m(\u001b[0m\u001b[0mhosp_pat\u001b[0m\u001b[1;33m[\u001b[0m\u001b[0mi\u001b[0m\u001b[1;33m]\u001b[0m\u001b[1;33m.\u001b[0m\u001b[0mvalue_count\u001b[0m\u001b[1;33m(\u001b[0m\u001b[1;33m)\u001b[0m\u001b[1;33m)\u001b[0m\u001b[1;33m\u001b[0m\u001b[0m\n\u001b[0m",
      "\u001b[1;32m~\\Anaconda3\\lib\\site-packages\\pandas\\core\\generic.py\u001b[0m in \u001b[0;36m__getattr__\u001b[1;34m(self, name)\u001b[0m\n\u001b[0;32m   4370\u001b[0m             \u001b[1;32mif\u001b[0m \u001b[0mself\u001b[0m\u001b[1;33m.\u001b[0m\u001b[0m_info_axis\u001b[0m\u001b[1;33m.\u001b[0m\u001b[0m_can_hold_identifiers_and_holds_name\u001b[0m\u001b[1;33m(\u001b[0m\u001b[0mname\u001b[0m\u001b[1;33m)\u001b[0m\u001b[1;33m:\u001b[0m\u001b[1;33m\u001b[0m\u001b[0m\n\u001b[0;32m   4371\u001b[0m                 \u001b[1;32mreturn\u001b[0m \u001b[0mself\u001b[0m\u001b[1;33m[\u001b[0m\u001b[0mname\u001b[0m\u001b[1;33m]\u001b[0m\u001b[1;33m\u001b[0m\u001b[0m\n\u001b[1;32m-> 4372\u001b[1;33m             \u001b[1;32mreturn\u001b[0m \u001b[0mobject\u001b[0m\u001b[1;33m.\u001b[0m\u001b[0m__getattribute__\u001b[0m\u001b[1;33m(\u001b[0m\u001b[0mself\u001b[0m\u001b[1;33m,\u001b[0m \u001b[0mname\u001b[0m\u001b[1;33m)\u001b[0m\u001b[1;33m\u001b[0m\u001b[0m\n\u001b[0m\u001b[0;32m   4373\u001b[0m \u001b[1;33m\u001b[0m\u001b[0m\n\u001b[0;32m   4374\u001b[0m     \u001b[1;32mdef\u001b[0m \u001b[0m__setattr__\u001b[0m\u001b[1;33m(\u001b[0m\u001b[0mself\u001b[0m\u001b[1;33m,\u001b[0m \u001b[0mname\u001b[0m\u001b[1;33m,\u001b[0m \u001b[0mvalue\u001b[0m\u001b[1;33m)\u001b[0m\u001b[1;33m:\u001b[0m\u001b[1;33m\u001b[0m\u001b[0m\n",
      "\u001b[1;31mAttributeError\u001b[0m: 'Series' object has no attribute 'value_count'"
     ]
    }
   ],
   "source": [
    "for i in hosp_pat.columns:\n",
    "    print(hosp_pat[i].value_count())    "
   ]
  },
  {
   "cell_type": "code",
   "execution_count": 66,
   "metadata": {},
   "outputs": [
    {
     "name": "stdout",
     "output_type": "stream",
     "text": [
      "\n",
      "___--race\n",
      "[Caucasian, AfricanAmerican, Other, Hispanic, Asian]\n",
      "Categories (5, object): [Caucasian, AfricanAmerican, Other, Hispanic, Asian]\n",
      "\n",
      "___--gender\n",
      "[Male, Female]\n",
      "Categories (2, object): [Male, Female]\n",
      "\n",
      "___--age\n",
      "[[80-90), [70-80), [60-70), [40-50), [90-100), [50-60), [30-40), [20-30), [10-20), [0-10)]\n",
      "Categories (10, object): [[80-90), [70-80), [60-70), [40-50), ..., [30-40), [20-30), [10-20), [0-10)]\n",
      "\n",
      "___--readmitted\n",
      "[NO, Within30days]\n",
      "Categories (2, object): [NO, Within30days]\n",
      "\n",
      "___--admission_type_id\n",
      "[2, 1, 5, 3, 6, 8, 7, 4]\n",
      "Categories (8, int64): [2, 1, 5, 3, 6, 8, 7, 4]\n",
      "\n",
      "___--discharge_disposition_id\n",
      "[1, 3, 2, 18, 28, ..., 19, 10, 16, 12, 20]\n",
      "Length: 26\n",
      "Categories (26, int64): [1, 3, 2, 18, ..., 10, 16, 12, 20]\n",
      "\n",
      "___--admission_source_id\n",
      "[7, 1, 17, 9, 6, ..., 8, 13, 11, 14, 25]\n",
      "Length: 17\n",
      "Categories (17, int64): [7, 1, 17, 9, ..., 13, 11, 14, 25]\n",
      "\n",
      "___--num_lab_procedures\n",
      "[ 18  40  39   1  44  52  53   9  66  49  37  51   8  57  21  70  54  59\n",
      "  34  26  41  36  65   3  16  31  27  72  23  61  38  12  42  35  43  28\n",
      "  20  30  46  73  55  64  62  76  19  71  13  29  17  14  50  67  68  47\n",
      "  81  45  33  24  82  85  88  32  58  10  75   5  74  94  56  87   2   7\n",
      "  48  69  86  60  22  63  25  80  15  11  77   4  79  84  78   6  83  91\n",
      "  89 101  95  92  93  90 106  97  98  96 103 100 109 102 118 105  99 111\n",
      " 113 132 120 121]\n",
      "\n",
      "___--num_procedures\n",
      "[1 4 0 2 3 6 5]\n",
      "\n",
      "___--num_medications\n",
      "[ 7 16 12 10 18 15 22 11  6 27 23  5  8 25 26 13 21  9 20  4 19 24 17  2\n",
      " 14 41  3 43 36  1 31 33 28 29 48 62 35 56 34 49 32 30 60 42 46 37 38 39\n",
      " 58 59 55 40 54 51 64 53 45 50 47 44 66 63 52 65 57 75 69 67 68 72 70 61\n",
      " 74 81]\n",
      "\n",
      "___--num_diagnoses\n",
      "[ 7  9  5  4  8  6  3  2  1 16 10 13 12 15 11 14]\n",
      "\n",
      "___--diagnosis_1\n",
      "['198' '153' '535' '786' '250.02' '428' '824' '491' '276' '157' '820'\n",
      " '288' '996' '599' '560' '577' '312' '682' '618' '434' '530' '722' '410'\n",
      " '724' '414' '250.8' '486' '300' '654' '552' '427' '250.12' '38' '715'\n",
      " '150' '295' '250' '785' '197' '789' '562' '162' '8' '403' '348' '721'\n",
      " '518' '435' '536' '595' '592' '807' '493' '411' '512' '250.11' '433'\n",
      " '780' '532' '413' '473' '239' '296' '997' '584' '711' '626' '396'\n",
      " '250.13' '250.92' '250.82' '510' '421' '424' '571' '154' '250.6' '250.81'\n",
      " '442' '110' '250.83' '345' '566' '284' '482' '962' '278' '481' '331'\n",
      " '727' '440' '182' '415' '441' '47' '550' '507' 'V54' '252' '578' '453'\n",
      " '787' '250.1' '465' 'V57' '817' '362' '537' '707' '225' '426' '431' '821'\n",
      " '438' '851' '394' '444' '574' '290' '805' '303' '346' '620' '812' '437'\n",
      " '185' 'E909' '600' '992' '661' '212' '304' '831' '558' '174' '402' 'V58'\n",
      " '531' '478' '250.22' '590' '852' '250.03' '998' '285' '250.7' '310' '351'\n",
      " '475' '211' '511' '850' '728' '557' '386' '733' '466' '293' '112'\n",
      " '250.43' '401' '802' '790' '540' '710' '398' '959' '730' '575' '576'\n",
      " 'V55' '458' '969' '608' '146' '594' '723' '202' '882' '342' '250.42'\n",
      " '294' '621' '286' '455' '292' '298' '813' '246' '648' '986' '280' '801'\n",
      " '191' '659' '188' '309' '291' '567' '564' '487' '82' '734' '952' '244'\n",
      " '555' '151' 'V53' '379' '218' '416' '432' '490' '593' '155' '823' '556'\n",
      " '553' '966' '275' '751' '738' '250.4' '746' '681' '866' '784' '581' '569'\n",
      " '642' '287' '664' '430' '936' '781' '274' '568' '79' '799' '822' '665'\n",
      " '942' '596' '189' '782' '141' '233' '729' '436' '443' '617' '425' '644'\n",
      " '873' '897' '534' '808' '611' '860' '250.93' '515' '53' '171' '220' '332'\n",
      " '451' '238' '607' '235' '732' '616' '158' '957' '429' '227' '349' '163'\n",
      " '756' '514' '610' '622' '716' '404' '336' '457' '378' '98' '891' '797'\n",
      " '862' '924' '311' '305' '736' '250.2' '726' '633' '522' '205' '229' '115'\n",
      " '922' '250.41' '989' '447' '420' '200' '572' '652' '788' '463' '967'\n",
      " '204' '358' '601' '717' '480' '196' '865' '625' '660' '696' '230' '844'\n",
      " '242' '382' '658' '385' '459' '250.01' 'V45' '485' '277' '250.23' '42'\n",
      " '972' '355' '513' '66' '875' '250.33' '496' '656' '793' '958' '999' '720'\n",
      " '183' '586' '685' '921' '94' '156' '250.5' '719' '31' '519' '529' '423'\n",
      " '847' '880' '452' '461' '883' '214' '516' '327' '904' '54' '470' '816'\n",
      " '184' '995' '250.32' '614' '945' '603' '718' '210' '147' '591' '412'\n",
      " '527' '241' '935' '350' '199' '325' '462' 'V63' '695' '370' '226' 'V71'\n",
      " '152' '810' '253' '686' '706' '135' '289' '306' '281' '714' '655' '886'\n",
      " '464' '333' '657' 'V26' '800' '494' '272' '456' '354' '380' '203' '585'\n",
      " '193' '359' '533' '335' '194' '565' '923' '647' '172' '663' '914' '161'\n",
      " '245' '708' '825' '273' '604' '683' '987' '573' '815' '879' '598' '814'\n",
      " '9' '175' '340' '845' '388' '794' '843' '307' '977' '783' '920' '35'\n",
      " '381' '356' '753' '237' '871' '318' '933' '250.3' '88' '864' '939' '528'\n",
      " '297' '323' '49' '70' '41' '627' '376' '803' '492' 'V56' '338' '867'\n",
      " '255' '377' '445' '745' '250.51' '680' '341' '965' '602' '75' '250.21'\n",
      " '994' '5' '143' '881' '136' '405' '173' '501' '861' '391' '78' '646'\n",
      " '709' '357' '149' '283' '57' '893' '526' '282' '632' '228' '619' '991'\n",
      " '705' '934' '395' '916' '383' '759' '792' '314' '201' '216' '3' '634'\n",
      " '928' '133' '913' '963' '692' '892' '454' '868' '417' '374' '223' '352'\n",
      " '521' '360' '853' '322' '694' '446' '344' '363' '955' '250.91' '508'\n",
      " '842' '263' '854' '301' '796' '195' '693' '911' '653' '835' '542' '747'\n",
      " '570' '804' '215' '251' '637' '250.31' '117' '968' '477' '48' '142' '641'\n",
      " '582' '180' '691' '208' '551' '870' '164' '261' '983' '791' 'V51' '970'\n",
      " '347' '353' '299' '541' '10' '941' '579' '645' '725' '474' '240' '623'\n",
      " '649' '890' '39' '337' 'V66' '964' '982' '320' '266' '250.9' '397' '334'\n",
      " '11' '483' '737' '160' '361' '61' '34' '915' '806' '207' '580' '7' 'V60'\n",
      " '605' '495' '524' '863' '368' '826' 'V70' '179' '903' '690' '187' '236'\n",
      " '832' '834' '308' '833' '384' '422' '448' '684' '846' '643' '36' '588'\n",
      " '976' '840' '52' '836' '262' '669' '885' '735' '671' '192' '250.53' '219'\n",
      " '674' '848' '84' '170' '906' '795']\n",
      "\n",
      "___--diagnosis_2\n",
      "['403' '250' '411' '490' '530' '486' '250.01' '438' '599' '197' '410'\n",
      " '162' '413' '276' '997' '427' '428' '401' '459' '496' '451' '250.02'\n",
      " '349' '788' '214' 'V85' '619' '518' '491' '648' '280' '414' '272' '995'\n",
      " '492' '784' '294' '397' '892' '560' '512' '584' '250.4' '730' '38' '714'\n",
      " '278' '799' '780' '481' '591' '786' '572' '250.42' '511' '443' '426'\n",
      " '458' 'V12' 'V42' '442' 'V15' '424' '331' '618' '729' '412' '342' '250.6'\n",
      " '288' '707' '558' '789' '996' '444' '250.7' 'E932' '285' '41' '70' '296'\n",
      " '482' '157' '574' 'E888' '866' '553' '202' '742' '218' '244' '8' '781'\n",
      " '682' '250.83' '241' '785' '42' '112' '436' '571' '305' '462' '295' '434'\n",
      " 'V54' '433' '585' '437' '787' '250.8' '340' '592' '250.03' '291' 'E885'\n",
      " '425' '398' '404' '808' '535' '440' '614' '250.52' '590' '250.5' '493'\n",
      " '998' '577' '453' '805' '250.13' '196' '731' '537' '185' '465' '790'\n",
      " 'E878' 'V45' 'E879' '593' '446' '607' 'E849' '415' '578' '474' '466'\n",
      " '198' '567' '441' '287' '250.53' '304' '292' '300' '724' '873' '576'\n",
      " 'V10' '807' '710' '263' '575' '402' '261' '723' '568' '515' '389' '681'\n",
      " '368' 'V72' '813' '625' '564' '693' 'V17' '204' '250.1' '386' '555'\n",
      " '250.82' 'V58' 'V43' '284' '333' '188' 'V57' '309' '327' '716' '562'\n",
      " '847' '344' '250.41' '286' '293' '396' '357' '250.12' '289' '53' '277'\n",
      " '346' '516' '715' '250.81' '581' '172' '533' '722' '507' '135' '910'\n",
      " 'E826' '151' '303' 'V64' '536' 'E933' 'V61' '573' '211' '435' '726' '514'\n",
      " '282' '569' '641' '802' '821' '250.92' '203' '719' '999' '156' '275'\n",
      " '616' '782' '79' '456' '365' '812' '881' '153' '487' '279' '255' '485'\n",
      " '205' '733' 'E882' '737' '617' '360' '455' '191' '801' '586' '290' '378'\n",
      " '136' '299' '745' '99' '348' '337' '748' '524' '117' '250.51' '566' '34'\n",
      " '307' '924' '721' '314' '336' '794' '380' '416' '54' '311' '840' '595'\n",
      " '550' '832' '274' '473' '596' '728' '717' '540' '824' '868' '138' '958'\n",
      " '362' '861' '826' '552' '860' '620' '382' '154' '376' '842' '850' '718'\n",
      " '522' '627' '432' '242' '429' '519' 'V65' '281' 'E905' '852' '301' '712'\n",
      " '532' '310' '250.11' '420' '354' '557' '531' '238' '920' '174' '478'\n",
      " '736' '110' 'V49' '713' '992' '820' '792' '447' 'E812' '508' '644' '680'\n",
      " '173' '250.23' '457' '709' '298' 'E928' '759' 'V63' '374' '452' '604'\n",
      " 'E939' '464' '883' '183' '379' '696' 'V62' 'V09' '431' '260' '948' '783'\n",
      " '600' '711' '150' '88' '345' '851' '665' '358' 'E870' '642' 'E938' '706'\n",
      " '865' '844' '199' '727' '752' '882' '332' '356' '906' '111' 'V18' '605'\n",
      " '338' '991' 'E927' '927' '250.22' '793' '517' '253' '252' '94' '758'\n",
      " '273' '145' '698' '570' '220' '461' '394' '372' '746' 'E968' '322' '652'\n",
      " '953' '750' '312' '46' '959' '934' '923' '192' '872' '155' '796' '626'\n",
      " 'E868' 'V50' '9' '208' 'E942' '266' '738' '556' 'E924' '423' '369' '891'\n",
      " '323' '235' '611' '250.43' '601' '308' '523' '646' '227' '200' 'E887'\n",
      " '250.32' '845' '909' '615' '283' 'E890' 'V70' 'V44' '822' '347' '250.9'\n",
      " '152' '867' '495' '816' '918' '245' '702' 'E880' '454' 'E934' '335' '319'\n",
      " '725' '864' '343' '705' 'E935' '701' '131' '980' '246' '583' '215' '810'\n",
      " '647' '351' 'E917' '815' 'E884' '201' '962' '663' '825' '621' '649' '269'\n",
      " '463' 'E980' 'E821' '225' 'V46' '359' 'E947' '686' '905' '756' '316'\n",
      " '180' '753' 'V08' '40' '969' '580' '755' '704' '193' '528' '823' '683'\n",
      " '656' 'V11' '500' '250.2' '31' '373' '659' '965' '911' '703' '836' 'V02'\n",
      " '670' '661' '747' '654' '35' '833' 'V14' '324' '217' '869' '137' 'E916'\n",
      " '114' '240' 'E937' '791' '189' '250.91' 'E944' '664' '271' '140' '233'\n",
      " '477' '527' '239' '952' '598' 'E950' '608' '751' '123' '741' '421' 'E931'\n",
      " '944' '422' '259' 'E906' '27' '353' 'V16' '383' '734' '880' '501' '588'\n",
      " '913' 'V86' '814' '602' '603' '594' 'V66' '250.93' '268' '871' '853'\n",
      " '907' 'E881' '405' '164' '542' '306' '870' '317' '186' '472' '251' '947'\n",
      " '921' '510' '494' '460' '352' '922' 'V23' 'E936' '942' '806' '579' '480'\n",
      " '945' '919' 'V13' '955' '797' '692' '916' 'V53' 'E930' '250.33' '377'\n",
      " '645' '933' '622' '674' '302' '520' 'V03' '623' '967' '320' '658' '11'\n",
      " '430' 'E814' '179' '381' '989' '484' '543' '258' '297' '470' '565' '163'\n",
      " '521' '795' '972' '800' 'E819' 'E965' '262' '355' '212' 'V60' '915' '529'\n",
      " 'E883' '395' '634' 'E858' '228' 'E919' '226' '863' 'E816' '837' '691'\n",
      " 'V25' 'E918' '534' '843' '831' '130' 'E850']\n",
      "\n",
      "___--diagnosis_3\n",
      "['250' '280' '401' '787' '518' 'E888' '599' '427' '531' '53' '346' '199'\n",
      " '447' '276' '496' '414' 'E934' '412' '780' '295' '41' '438' 'V12' '616'\n",
      " '396' '317' 'V10' '648' '560' '511' '112' '272' '278' '443' '794' 'E920'\n",
      " '564' '492' '250.01' '428' '434' '285' '719' '785' '995' '327' '344'\n",
      " '250.02' '786' '861' '466' '250.6' '291' '250.4' '250.03' 'E947' '584'\n",
      " '433' 'V42' '591' '424' '336' '294' '398' '729' '274' '593' '198' '998'\n",
      " '204' '707' '486' '266' '305' '585' '459' '78' '682' '515' 'V09' 'E879'\n",
      " '530' '576' '334' 'V58' '290' '110' '250.5' '402' 'E849' '577' '491'\n",
      " '413' '250.52' '250.41' '617' '790' '281' '250.92' '997' '185' '572'\n",
      " '731' '250.12' 'V08' '574' '403' '883' '411' '733' '714' '562' '440'\n",
      " 'E885' '910' '578' '228' '250.42' '397' '303' '138' '331' '425' '250.7'\n",
      " '250.51' '996' '292' '435' 'V45' '458' '789' '571' '718' '453' '38' '162'\n",
      " '244' '573' '710' 'E937' '799' '208' '782' '284' '568' '788' '681' '747'\n",
      " 'V49' '255' '493' '728' '300' '337' '625' '715' '357' '569' '242' '388'\n",
      " '287' '581' '263' '309' 'V15' '473' '404' '362' '410' '256' '840' 'E880'\n",
      " '955' '805' '202' '535' '426' '730' 'E916' '296' '446' '115' '293' '311'\n",
      " '882' '482' '155' 'E816' '70' '626' 'V64' 'V85' 'V43' '583' '588' 'V18'\n",
      " 'E878' '507' '813' '642' '512' '333' '465' '802' 'V14' '665' '197' '558'\n",
      " 'V57' '301' '522' '196' '462' '923' '873' '340' '250.8' '261' 'E935'\n",
      " '909' '656' '659' '218' '310' '298' '575' '288' '553' '312' '860' '338'\n",
      " '275' '250.81' '686' '517' 'E819' '550' '966' '348' '250.83' '807' 'E932'\n",
      " '211' '596' '532' '536' '423' 'V65' '345' '478' '784' 'V54' '783' '712'\n",
      " '251' '620' '744' '188' '332' '723' '289' '286' '441' '741' '808' '595'\n",
      " '157' '824' '812' '611' 'E942' '600' '342' '79' '842' '607' '908' '180'\n",
      " '781' '867' '965' '716' '916' '826' '436' '820' '680' '353' '429' '552'\n",
      " '567' '378' '652' '241' '151' '646' '724' 'E828' '369' '614' '727' '752'\n",
      " '905' '34' '722' '283' '455' '304' '907' '801' '881' '416' '203' '721'\n",
      " '355' '791' '751' '555' '437' '8' '720' '717' '685' 'E881' '958' '831'\n",
      " '135' '487' '736' '250.91' '649' '318' '246' '351' '349' '999' '454'\n",
      " '913' 'E956' '394' '250.3' '42' '970' '514' '692' '250.82' '601' '282'\n",
      " '890' '971' '250.43' '664' '189' '580' '461' '192' 'E825' 'V66' '745'\n",
      " 'E950' '660' 'V62' '618' '959' '537' '815' '534' '814' '706' '273' '969'\n",
      " '647' '200' '845' '379' '836' '253' '696' '35' '924' 'V17' '877' '122'\n",
      " 'E919' '277' '365' '598' '821' '457' '477' 'E933' '386' '605' '152' 'V63'\n",
      " '315' '746' 'E894' '368' '174' '183' '225' 'V27' '252' 'V46' '250.11'\n",
      " '726' '5' '463' 'V13' '865' '415' '519' '442' '380' 'V44' '431' '506'\n",
      " '451' '594' '217' '117' '917' 'E882' '460' '657' 'E941' '490' '319' '701'\n",
      " '250.1' '922' '825' '837' '693' '382' '796' 'E939' '385' '641' '725'\n",
      " '557' 'V11' '610' '956' '501' '756' '529' '173' '695' '592' '921' 'E927'\n",
      " '420' '738' '627' '370' '313' '54' '262' 'V70' '265' '875' '307' '158'\n",
      " '444' '389' 'V16' '737' '432' '663' 'V06' '948' 'E966' '238' '270' '582'\n",
      " '205' '480' '920' 'V55' '250.53' '528' '153' '918' '711' '951' '201'\n",
      " '850' '862' '250.22' '619' '250.2' '17' '456' '933' '911' '590' '472' '9'\n",
      " 'E870' '156' '343' '500' 'E930' '934' '347' 'E884' '847' '570' '516'\n",
      " '533' 'E858' '750' '704' '464' '654' 'E931' '565' '374' '705' '624' '795'\n",
      " '906' '892' '962' '150' '735' '709' '758' 'E929' '366' '621' 'E924' '708'\n",
      " '945' '510' '279' '623' '250.9' '967' '139' '161' 'E944' '131' '586'\n",
      " '987' '792' 'E928' '991' '757' 'V25' '521' '358' 'E813' 'E955' '872'\n",
      " 'V60' 'E883' '191' '698' '793' '359' '972' '240' '713' 'E812' '658'\n",
      " 'E818' '170' '597' '653' '250.93' '852' '797' '753' '880' '524' '670'\n",
      " '608' '697' '297' '250.13' '952' '383' '669' '193' '27' '523' '384' '604'\n",
      " '259' 'E887' '754' '299' '556' '227' '356' '566' 'E822' 'E852' '94' '123'\n",
      " '335' '823' 'E905' '372' '838' '527' '891' '233' '314' '702' 'E892' '354'\n",
      " '816' '800' '430' '239' 'E936' '703' 'E980' '543' '508' '381' '494' '306'\n",
      " '220' 'E861' '822' '953' '755' '694' '853' '644' '250.31' '376' '373'\n",
      " '14' '943' '912' '361' 'V03' 'E922' '172' '377' '674' '655' 'E946' 'V61'\n",
      " '525' '154' '417' '854' '163' 'E938' '268' 'E949' '810' '341' '742' '759'\n",
      " '540' 'V53' '141' '214' '258' '245' '579' '421' '734' 'V23' '690' '182'\n",
      " '57' 'E906' '928' '136' '405' '930' 'E900' '868' 'E853' '876' '542' '919'\n",
      " '661' '485' '395' '495' '866' 'V72' 'V02' '391' '602' '350' 'E943' '171'\n",
      " '871' '851' 'E850' '271' '989' 'E826' '834' '49' '323' '47' 'E917' '360'\n",
      " '179' '470' 'E886' '365.44' 'E912' 'E817' '387' '223' '864' 'V86' '452'\n",
      " '844' 'E815' '235' '841']\n",
      "\n",
      "___--max_glu_serum\n",
      "[None, Norm, >300, >200]\n",
      "Categories (4, object): [None, Norm, >300, >200]\n",
      "\n",
      "___--A1Cresult\n",
      "[None, Norm, >8, >7]\n",
      "Categories (4, object): [None, Norm, >8, >7]\n",
      "\n",
      "___--metformin\n",
      "[No, Steady, Up, Down]\n",
      "Categories (4, object): [No, Steady, Up, Down]\n",
      "\n",
      "___--repaglinide\n",
      "[No, Steady, Down, Up]\n",
      "Categories (4, object): [No, Steady, Down, Up]\n",
      "\n",
      "___--nateglinide\n",
      "[No, Steady, Up, Down]\n",
      "Categories (4, object): [No, Steady, Up, Down]\n",
      "\n",
      "___--chlorpropamide\n",
      "[No, Steady, Down, Up]\n",
      "Categories (4, object): [No, Steady, Down, Up]\n",
      "\n",
      "___--glimepiride\n",
      "[No, Steady, Up, Down]\n",
      "Categories (4, object): [No, Steady, Up, Down]\n",
      "\n",
      "___--acetohexamide\n",
      "[No]\n",
      "Categories (1, object): [No]\n",
      "\n",
      "___--glipizide\n",
      "[Steady, No, Up, Down]\n",
      "Categories (4, object): [Steady, No, Up, Down]\n",
      "\n",
      "___--glyburide\n",
      "[No, Steady, Up, Down]\n",
      "Categories (4, object): [No, Steady, Up, Down]\n",
      "\n",
      "___--tolbutamide\n",
      "[No, Steady]\n",
      "Categories (2, object): [No, Steady]\n",
      "\n",
      "___--pioglitazone\n",
      "[No, Steady, Up, Down]\n",
      "Categories (4, object): [No, Steady, Up, Down]\n",
      "\n",
      "___--rosiglitazone\n",
      "[No, Steady, Up, Down]\n",
      "Categories (4, object): [No, Steady, Up, Down]\n",
      "\n",
      "___--acarbose\n",
      "[No, Steady, Up]\n",
      "Categories (3, object): [No, Steady, Up]\n",
      "\n",
      "___--miglitol\n",
      "[No, Steady]\n",
      "Categories (2, object): [No, Steady]\n",
      "\n",
      "___--troglitazone\n",
      "[No, Steady]\n",
      "Categories (2, object): [No, Steady]\n",
      "\n",
      "___--tolazamide\n",
      "[No, Steady]\n",
      "Categories (2, object): [No, Steady]\n",
      "\n",
      "___--insulin\n",
      "[Up, No, Steady, Down]\n",
      "Categories (4, object): [Up, No, Steady, Down]\n",
      "\n",
      "___--glyburide.metformin\n",
      "[No, Up, Steady, Down]\n",
      "Categories (4, object): [No, Up, Steady, Down]\n",
      "\n",
      "___--glipizide.metformin\n",
      "[No, Steady]\n",
      "Categories (2, object): [No, Steady]\n",
      "\n",
      "___--metformin.rosiglitazone\n",
      "[No, Steady]\n",
      "Categories (2, object): [No, Steady]\n",
      "\n",
      "___--metformin.pioglitazone\n",
      "[No, Steady]\n",
      "Categories (2, object): [No, Steady]\n",
      "\n",
      "___--change\n",
      "[Ch, No]\n",
      "Categories (2, object): [Ch, No]\n",
      "\n",
      "___--diabetesMed\n",
      "[Yes, No]\n",
      "Categories (2, object): [Yes, No]\n",
      "\n",
      "___--Days_in_hosptal\n",
      "[ 5  6  4  2  1  3  8 11  9  7 10 13 14 12]\n",
      "\n",
      "___--years\n",
      "[2015 2016 2014]\n"
     ]
    }
   ],
   "source": [
    "for i in hosp_pat.columns:\n",
    "    print(\"\\n___--\"+i)\n",
    "    print(hosp_pat[i].unique())"
   ]
  },
  {
   "cell_type": "code",
   "execution_count": 67,
   "metadata": {},
   "outputs": [
    {
     "name": "stdout",
     "output_type": "stream",
     "text": [
      "\n",
      "___--race\n",
      "[Caucasian, AfricanAmerican, Hispanic, Other, Asian]\n",
      "Categories (5, object): [Caucasian, AfricanAmerican, Hispanic, Other, Asian]\n",
      "\n",
      "___--gender\n",
      "[Female, Male]\n",
      "Categories (2, object): [Female, Male]\n",
      "\n",
      "___--age\n",
      "[[60-70), [50-60), [40-50), [70-80), [80-90), [90-100), [30-40), [20-30), [0-10), [10-20)]\n",
      "Categories (10, object): [[60-70), [50-60), [40-50), [70-80), ..., [30-40), [20-30), [0-10), [10-20)]\n",
      "\n",
      "___--admission_type_id\n",
      "[1, 3, 6, 2, 5, 8, 7, 4]\n",
      "Categories (8, int64): [1, 3, 6, 2, 5, 8, 7, 4]\n",
      "\n",
      "___--discharge_disposition_id\n",
      "[3, 6, 1, 18, 5, ..., 28, 24, 15, 19, 17]\n",
      "Length: 21\n",
      "Categories (21, int64): [3, 6, 1, 18, ..., 24, 15, 19, 17]\n",
      "\n",
      "___--admission_source_id\n",
      "[7, 1, 5, 4, 6, ..., 8, 10, 22, 25, 14]\n",
      "Length: 15\n",
      "Categories (15, int64): [7, 1, 5, 4, ..., 10, 22, 25, 14]\n",
      "\n",
      "___--num_lab_procedures\n",
      "[ 49  42  61  35  56  74  55  65  45  38  62   2  29  59  15  48  33  34\n",
      "   9  68  50  69  32  66  31  51  43   7  21  37  75  73  41  22  70  53\n",
      "  71  18  36  44  52   1  30  72  16  47  46  87  57  23  39  27   6  60\n",
      "  24  12  17  58  79   3  11  54  19  26  13  63  40   5  82  81  10  76\n",
      "   8  78  84  20  95  64  28  25  67  96  14  86  80  83   4  92  93  77\n",
      "  88  85  89  94 107  91  98  90  99 105 102  97 113 108 114 103 109 101]\n",
      "\n",
      "___--num_procedures\n",
      "[0 3 1 4 2 5 6]\n",
      "\n",
      "___--num_medications\n",
      "[ 9 28 15 29 22 16 13 19 11  6 10 26 23  5  1 21 14 43 20 18  3 12 17 60\n",
      " 35 24 25  8  4  7 38  2 58 30 27 46 32 34 39 40 53 49 50 47 31 42 63 33\n",
      " 37 65 36 45 48 41 51 55 52 68 61 56 57 54 59 62 44 66 64 75 79]\n",
      "\n",
      "___--num_diagnoses\n",
      "[ 9  7  6  8  3  5  4  2 15  1 16 10 13 11 14 12]\n",
      "\n",
      "___--diagnosis_1\n",
      "['8' '414' '162' '626' '250.8' '571' 'V57' '427' '577' '428' '530' '38'\n",
      " '780' 'V54' '574' '296' '433' '584' '995' '278' '998' '342' '491' '965'\n",
      " '410' 'V58' '276' '572' '486' '478' '493' '250.02' '648' '434' '715'\n",
      " '996' '424' '458' '490' '403' '553' '560' '531' '250.7' '618' '599' '496'\n",
      " '185' '786' '285' '311' '654' '250' '431' '466' '435' '592' '250.11'\n",
      " '781' '682' '280' '821' '789' '558' '250.42' '535' '157' '562' '482'\n",
      " '151' '805' '824' '197' '250.6' '464' '494' '890' '784' '600' '42' '518'\n",
      " '958' '425' '250.82' '293' 'V63' '593' '733' '250.12' '882' '250.1' '182'\n",
      " '453' '250.13' '380' '174' '402' '807' '250.03' '481' '440' '327' '193'\n",
      " '49' '820' '250.2' '191' '746' '398' '378' '799' '441' '507' '432' '241'\n",
      " '823' '250.81' '813' '154' '153' '722' '997' '188' '295' '611' '286'\n",
      " '812' '787' '591' '225' '659' '250.22' '183' '180' '250.83' '189' '348'\n",
      " '537' '569' '415' '681' '211' '578' '802' '274' '331' '729' '404' '413'\n",
      " '227' '552' '738' '601' '218' '590' '579' '242' '298' '724' '346' '515'\n",
      " '557' '922' 'V55' '564' 'V53' '625' '532' '555' '444' '567' '865' '333'\n",
      " '540' '235' '426' '728' '608' '844' '935' '11' '850' '79' '716' '411'\n",
      " '644' '196' '730' '443' '969' '223' '230' '620' '386' '726' '529' '423'\n",
      " '723' '332' '783' '345' '487' '808' '585' '550' '416' '536' '485' '511'\n",
      " '782' '565' '250.4' '284' '451' '394' '627' '436' '785' '253' '184' '304'\n",
      " '238' '721' '492' '576' '142' '250.33' '461' '112' '470' '250.23' '737'\n",
      " '401' '323' '516' '156' '528' '642' '522' '575' '53' '291' '349' '459'\n",
      " '47' '822' '852' '289' 'V71' '556' '510' '198' '693' '661' '309' '711'\n",
      " '718' '307' '290' '300' '78' '707' '727' '192' '233' '250.92' '384' '442'\n",
      " '150' '294' '512' '790' '292' '250.01' '437' '438' '54' '794' '273' '9'\n",
      " '586' '303' '617' '962' '473' '200' '646' '340' '337' '573' '861' '135'\n",
      " '664' '756' '70' '685' '581' '421' '604' '250.93' '252' '239' '155' '338'\n",
      " '514' '244' '275' '287' '920' '203' '736' '250.3' '964' '892' '959' '446'\n",
      " '801' '456' '152' '250.32' '719' '3' '205' '82' '250.41' '255' '660'\n",
      " '376' '853' '526' '447' '368' '396' '933' '825' '480' '351' '179' '226'\n",
      " '725' '534' '595' '519' '344' '835' '429' '816' '220' '603' '714' '306'\n",
      " '385' '568' '806' '305' '370' '696' '747' '455' '831' '358' '204' '873'\n",
      " '362' '250.21' '202' '465' '420' '851' '924' '521' '594' '495' '524'\n",
      " '566' '282' '860' '656' '797' '462' '717' '847' '710' '355' '854' '357'\n",
      " '250.43' '694' '320' '283' '753' '705' '814' '977' '430' '708' '215'\n",
      " '250.31' '277' '846' '533' '788' '301' '117' '759' '614' '655' '795'\n",
      " '607' '989' '149' '94' '383' '991' '353' '999' '840' '645' '288' '616'\n",
      " '967' '970' '582' '663' '163' 'V45' '542' '845' '374' '312' '686' '652'\n",
      " '171' '658' '228' '866' '966' '34' '210' '88' '214' '596' '199' '623'\n",
      " '158' '475' '792' '361' '936' '263' '836' '250.9' '598' '621' '251' '454'\n",
      " '810' '921' '335' '452' '527' '161' '417' '208' '588' '945' '308' '541'\n",
      " '382' '879' '864' '237' '972' '513' '867' '968' '310' '880' '843' '281'\n",
      " '641']\n",
      "\n",
      "___--diagnosis_2\n",
      "['276' '997' '197' '340' '263' '789' '250.12' '574' '427' '496' '585'\n",
      " '729' '300' '414' '592' '401' '416' '584' '250.6' '70' '8' '518' '410'\n",
      " '428' 'V62' '250' '202' '403' '571' '486' '285' '780' '298' '250.01'\n",
      " '331' '905' '332' '718' '411' '250.02' '599' '250.4' '530' '492' '280'\n",
      " '440' '788' '490' '196' '255' '342' '648' '278' '996' '434' '453' '135'\n",
      " 'E944' '617' '404' '578' '459' '850' 'V42' '491' 'V43' '493' '250.51'\n",
      " '303' '682' 'V15' '733' '351' '429' 'E932' '433' '784' '805' '458' '728'\n",
      " '402' '425' '424' '348' '357' '552' '790' '590' '438' '511' '250.92'\n",
      " '564' '358' '250.83' '482' '515' '998' '272' '295' '560' 'E885' '581'\n",
      " '741' '413' '426' '730' '802' '707' '41' '412' '727' '715' '785' '38'\n",
      " '724' '507' '305' 'V45' '286' '786' '288' '337' '611' '422' '157' '198'\n",
      " '995' '593' '558' '437' '34' '710' '344' '711' '189' '787' '252' '279'\n",
      " '626' 'E878' '287' '532' '250.8' '338' '277' '117' '444' '309' '920'\n",
      " '218' '731' '292' '244' '536' '556' '394' '284' '42' 'E939' '250.13'\n",
      " '208' '199' '782' '396' '812' '455' '807' '795' '591' '296' '253' '836'\n",
      " '250.81' '380' '535' '577' '242' '557' '722' '794' '446' '205' '569'\n",
      " '588' '860' '451' '79' '201' '567' '154' '799' '220' '647' '594' '436'\n",
      " '368' 'V85' '714' '153' '250.03' 'E888' '211' '524' '562' 'V63' '608' '9'\n",
      " '250.82' '200' '250.42' '595' '389' '162' '204' '721' 'V12' '514' '466'\n",
      " '150' '183' '441' '136' '600' '474' '432' '112' '290' '625' '691' '203'\n",
      " '781' '324' '311' '307' '840' '456' '842' '415' '596' '291' '155'\n",
      " '250.52' '378' '481' '262' '293' '289' '250.7' '250.41' '576' '572'\n",
      " '250.5' '281' '349' '793' '719' '618' '362' '680' '531' '304' '575' 'V10'\n",
      " 'E849' '250.11' '294' '465' 'V18' '512' '891' '823' '716' '435' '980'\n",
      " '681' 'E880' '553' 'E858' '808' '172' '568' '737' '712' '250.93' '873'\n",
      " '260' '461' '397' '738' '443' '327' '258' '555' '999' '442' '386' 'E935'\n",
      " '756' 'V54' '398' 'V65' 'E879' '53' '533' '821' '620' '550' '623' '621'\n",
      " '282' 'E934' '275' '395' '816' 'V58' '644' 'E884' '883' '604' '723' '746'\n",
      " '521' '301' '274' '923' '813' '872' '250.43' '470' '228' '319' '462'\n",
      " '522' '801' '824' '94' '586' '537' '250.22' '250.53' 'V17' '870' '659'\n",
      " '601' '852' '516' '583' '283' 'E942' '421' '250.23' '573' '359' '570'\n",
      " '430' '335' '519' '907' '333' 'V16' '152' '174' '188' '652' '826' '314'\n",
      " '726' 'E947' '233' '783' '796' '892' '709' 'V49' '753' 'V08' '356' '452'\n",
      " '447' '487' '245' '423' '745' '345' '642' '924' '473' '698' '845' '297'\n",
      " '179' '485' '191' '54' 'V64' '906' 'E950' '478' '365' '910' '969' 'E812'\n",
      " '616' '736' '185' '881' '312' '382' '755' '820' '454' '641' '837' '250.2'\n",
      " '494' '646' 'V46' '851' 'E937' '810' 'V70' '227' '214' '540' '336' '696'\n",
      " '645' '420' '457' '692' '831' '825' '542' '346' 'E928' '480' '156' 'V23'\n",
      " '909' '238' '701' '250.1' '354' '791' '913' '864' '306' '693' '607'\n",
      " '250.91' '566' 'E917' '706' '517' '251' '853' '844' 'V02' 'E924' '241'\n",
      " '40' '717' '250.9' '323' '705' '431' '759' '110' '372' 'V66' '868' 'E814'\n",
      " '598' 'V72' '747' '261' '866' '317']\n",
      "\n",
      "___--diagnosis_3\n",
      "['578' '427' '198' '617' '787' '414' '276' '396' '424' '428' '274' '250'\n",
      " '401' '403' 'E930' '437' '305' '518' '309' '284' '443' '197' '496' '456'\n",
      " '511' '530' '730' '478' '799' '648' '294' '250.01' '416' '583' '441'\n",
      " '455' '250.8' 'V15' '272' '780' '372' '301' '652' '600' '411' 'V10' '572'\n",
      " '280' '425' '386' '426' '995' '599' '574' '584' 'E942' '790' '295' '716'\n",
      " '733' 'E816' '362' 'V27' '204' '357' '466' '493' '435' '724' '788' '458'\n",
      " '905' '351' 'E932' '682' 'V45' '782' '290' '784' '492' '564' '785' '585'\n",
      " '250.02' '250.93' '709' '576' '438' 'V86' '282' '250.5' '707' '285' 'V58'\n",
      " '789' '250.52' '413' '873' '745' '710' '719' '491' '867' '998' '482'\n",
      " 'V12' '453' '342' '255' '245' 'E935' '275' 'E888' '402' '462' '575' '79'\n",
      " '792' '591' '573' '348' '278' '41' '701' '287' '250.6' '727' '397' '731'\n",
      " '997' '291' '250.4' '996' '162' '715' '532' '722' '486' '608' '318' '991'\n",
      " '625' '614' '681' '244' '70' '368' '412' '440' '577' '300' 'E849' '94'\n",
      " '535' '553' '296' '286' '304' '717' '250.7' '654' '517' '560' '185' '340'\n",
      " '751' '569' '337' '8' '786' '593' 'V09' '512' '571' '805' '487' '331'\n",
      " '250.41' '288' '556' '250.03' '595' '723' '358' '447' 'V17' '415' '558'\n",
      " '552' '250.9' '410' 'V85' '543' 'E939' '252' '781' '263' 'V64' 'E878'\n",
      " '794' '250.42' '965' '924' '586' '729' 'V46' 'V66' '202' '303' 'V08'\n",
      " '298' '112' '616' 'V42' '756' '277' '135' '528' '523' '840' '506' '966'\n",
      " '664' '311' '110' 'E880' '404' '250.51' 'V43' '711' '562' '728' '174'\n",
      " '590' '477' '199' '626' '241' '338' '138' '250.92' '515' '807' '253'\n",
      " '726' '714' '196' '596' '459' '279' '319' '433' 'V65' '610' '378' '310'\n",
      " 'E931' '313' '802' '507' '567' '696' '389' '725' '536' '238' '218' '519'\n",
      " '273' '38' '619' '736' 'V53' 'E885' '345' '642' '423' 'E850' 'V72' '42'\n",
      " 'E950' '444' '916' '813' '153' '611' '157' '592' '627' 'E936' '620' '568'\n",
      " '369' '581' '251' 'E938' '695' '812' '346' '473' '250.82' '250.13' '999'\n",
      " '693' '429' '434' '618' '250.81' 'V54' '242' '293' '281' '465' '211'\n",
      " '292' '332' '490' '580' '344' 'E812' '655' '658' '883' '959' 'E947' '923'\n",
      " '570' 'V16' '203' '349' 'E879' '892' '686' '533' '791' 'E884' '451' '53'\n",
      " 'V49' '239' '154' '250.43' '906' '646' '659' '537' '136' '191' '333'\n",
      " '250.53' '208' '155' '969' '721' 'E927' '644' '601' '851' '250.1' '205'\n",
      " '365' '442' '250.2' '250.83' '821' '647' '200' 'E934' '522' '653' '531'\n",
      " '737' '283' '557' '336' '663' '660' '327' '825' '452' '270' '246' '582'\n",
      " '383' '398' '356' '508' '783' '810' 'E858' '343' '738' '150' 'E929'\n",
      " 'E946' '494' '312' '808' '746' '850' 'V62' '228' '579' '909' '922' '289'\n",
      " '598' '607' '464' '753' '698' '866' '882' '815' '665' '151' '355' '845'\n",
      " '250.12' '824' '446' '521' '934' '354' '54' '816' '820' '908' '225' '649'\n",
      " '847' '694' '920' '233' 'E928' 'E819' '945' '510' '373' '188' '588'\n",
      " 'E933' 'V44' '250.91' '189' '250.11' '374' 'E818' '621' '461' '836' '752'\n",
      " '747' '516' '793' '323' '861' 'V25' '9' '656' '235' '933' '661' '470'\n",
      " '921' '910' '307' '758' '220' '299' '852' '594' 'E944' '958' '527' '432'\n",
      " 'V61' '742' '170' 'V23' '163' '692' '259' '501' '347' '712' 'E941' '261'\n",
      " '962' '705' '227' '708' '823' '179' '881' '388']\n",
      "\n",
      "___--max_glu_serum\n",
      "[None, Norm, >300, >200]\n",
      "Categories (4, object): [None, Norm, >300, >200]\n",
      "\n",
      "___--A1Cresult\n",
      "[None, >8, Norm, >7]\n",
      "Categories (4, object): [None, >8, Norm, >7]\n",
      "\n",
      "___--metformin\n",
      "[No, Steady, Up, Down]\n",
      "Categories (4, object): [No, Steady, Up, Down]\n",
      "\n",
      "___--repaglinide\n",
      "[No, Steady, Down, Up]\n",
      "Categories (4, object): [No, Steady, Down, Up]\n",
      "\n",
      "___--nateglinide\n",
      "[No, Steady, Up, Down]\n",
      "Categories (4, object): [No, Steady, Up, Down]\n",
      "\n",
      "___--chlorpropamide\n",
      "[No, Steady]\n",
      "Categories (2, object): [No, Steady]\n",
      "\n",
      "___--glimepiride\n",
      "[No, Steady, Down, Up]\n",
      "Categories (4, object): [No, Steady, Down, Up]\n",
      "\n",
      "___--acetohexamide\n",
      "[No]\n",
      "Categories (1, object): [No]\n",
      "\n",
      "___--glipizide\n",
      "[No, Steady, Down, Up]\n",
      "Categories (4, object): [No, Steady, Down, Up]\n",
      "\n",
      "___--glyburide\n",
      "[No, Up, Steady, Down]\n",
      "Categories (4, object): [No, Up, Steady, Down]\n",
      "\n",
      "___--tolbutamide\n",
      "[No, Steady]\n",
      "Categories (2, object): [No, Steady]\n",
      "\n",
      "___--pioglitazone\n",
      "[No, Steady, Up, Down]\n",
      "Categories (4, object): [No, Steady, Up, Down]\n",
      "\n",
      "___--rosiglitazone\n",
      "[No, Steady, Up, Down]\n",
      "Categories (4, object): [No, Steady, Up, Down]\n",
      "\n",
      "___--acarbose\n",
      "[No, Steady, Up]\n",
      "Categories (3, object): [No, Steady, Up]\n",
      "\n",
      "___--miglitol\n",
      "[No, Steady]\n",
      "Categories (2, object): [No, Steady]\n",
      "\n",
      "___--troglitazone\n",
      "[No]\n",
      "Categories (1, object): [No]\n",
      "\n",
      "___--tolazamide\n",
      "[No, Steady]\n",
      "Categories (2, object): [No, Steady]\n",
      "\n",
      "___--insulin\n",
      "[No, Steady, Down, Up]\n",
      "Categories (4, object): [No, Steady, Down, Up]\n",
      "\n",
      "___--glyburide.metformin\n",
      "[No, Steady, Down, Up]\n",
      "Categories (4, object): [No, Steady, Down, Up]\n",
      "\n",
      "___--glipizide.metformin\n",
      "[No, Steady]\n",
      "Categories (2, object): [No, Steady]\n",
      "\n",
      "___--metformin.rosiglitazone\n",
      "[No, Steady]\n",
      "Categories (2, object): [No, Steady]\n",
      "\n",
      "___--metformin.pioglitazone\n",
      "[No]\n",
      "Categories (1, object): [No]\n",
      "\n",
      "___--change\n",
      "[No, Ch]\n",
      "Categories (2, object): [No, Ch]\n",
      "\n",
      "___--diabetesMed\n",
      "[No, Yes]\n",
      "Categories (2, object): [No, Yes]\n",
      "\n",
      "___--Days_in_hosptal\n",
      "[ 4 11  8  2  6  7  1  5  3 12 10  9 13 14]\n",
      "\n",
      "___--years\n",
      "[2016 2017]\n"
     ]
    }
   ],
   "source": [
    "for i in hosp_pat_test.columns:\n",
    "    print(\"\\n___--\"+i)\n",
    "    print(hosp_pat_test[i].unique())"
   ]
  },
  {
   "cell_type": "markdown",
   "metadata": {},
   "source": [
    "### BINNING of columns : diagnosis_1, diagnosis_2, diagnosis_3"
   ]
  },
  {
   "cell_type": "markdown",
   "metadata": {},
   "source": [
    "#### These are list of ICD 9 codes by US government."
   ]
  },
  {
   "cell_type": "markdown",
   "metadata": {},
   "source": [
    "List of ICD-9 codes 001–139: infectious and parasitic diseases\n",
    "\n",
    "List of ICD-9 codes 140–239: neoplasms\n",
    "\n",
    "List of ICD-9 codes 240–279: endocrine, nutritional and metabolic diseases, and immunity disorders\n",
    "\n",
    "List of ICD-9 codes 280–289: diseases of the blood and blood-forming organs\n",
    "\n",
    "List of ICD-9 codes 290–319: mental disorders\n",
    "\n",
    "List of ICD-9 codes 320–389: diseases of the nervous system and sense organs\n",
    "\n",
    "List of ICD-9 codes 390–459: diseases of the circulatory system\n",
    "\n",
    "List of ICD-9 codes 460–519: diseases of the respiratory system\n",
    "\n",
    "List of ICD-9 codes 520–579: diseases of the digestive system\n",
    "\n",
    "List of ICD-9 codes 580–629: diseases of the genitourinary system\n",
    "\n",
    "List of ICD-9 codes 630–679: complications of pregnancy, childbirth, and the puerperium\n",
    "\n",
    "List of ICD-9 codes 680–709: diseases of the skin and subcutaneous tissue\n",
    "\n",
    "List of ICD-9 codes 710–739: diseases of the musculoskeletal system and connective tissue\n",
    "\n",
    "List of ICD-9 codes 740–759: congenital anomalies\n",
    "\n",
    "List of ICD-9 codes 760–779: certain conditions originating in the perinatal period\n",
    "\n",
    "List of ICD-9 codes 780–799: symptoms, signs, and ill-defined conditions\n",
    "\n",
    "List of ICD-9 codes 800–999: injury and poisoning\n",
    "\n",
    "List of ICD-9 codes E and V codes: external causes of injury and supplemental classification"
   ]
  },
  {
   "cell_type": "code",
   "execution_count": 68,
   "metadata": {},
   "outputs": [],
   "source": [
    "import string\n",
    "for i in ['diagnosis_1','diagnosis_2','diagnosis_3']:\n",
    "    for j in hosp_pat.index:\n",
    "        if str(hosp_pat[i].loc[j][0])=='E'or str(hosp_pat[i].loc[j][0])=='V' :\n",
    "            hosp_pat.replace(to_replace = hosp_pat[i].loc[j], value = str(1001), inplace=True, regex=True)\n",
    "    for k in hosp_pat_test.index:\n",
    "        if str(hosp_pat_test[i].loc[k][0])=='E'or str(hosp_pat_test[i].loc[k][0])=='V' :\n",
    "            hosp_pat_test.replace(to_replace = hosp_pat_test[i].loc[k], value = str(1001), inplace=True, regex=True)        "
   ]
  },
  {
   "cell_type": "code",
   "execution_count": 69,
   "metadata": {},
   "outputs": [],
   "source": [
    "for i in ['diagnosis_1','diagnosis_2','diagnosis_3']:\n",
    "        hosp_pat[i] = hosp_pat[i].astype(\"float64\")\n",
    "        hosp_pat_test[i] = hosp_pat_test[i].astype(\"float64\")        "
   ]
  },
  {
   "cell_type": "code",
   "execution_count": 70,
   "metadata": {},
   "outputs": [],
   "source": [
    "for i in ['diagnosis_1','diagnosis_2','diagnosis_3']:\n",
    "    bins = [0,139,239,279,289,319,389,459,519,579,629,679,709,739,759,779,799,999,1010]\n",
    "    labels =[1,2,3,4,5,6,7,8,9,10,11,12,13,14,15,16,17,18]\n",
    "    hosp_pat[i] = pd.cut(hosp_pat[i], bins,labels=labels)\n",
    "    \n"
   ]
  },
  {
   "cell_type": "code",
   "execution_count": 71,
   "metadata": {},
   "outputs": [],
   "source": [
    "for i in ['diagnosis_1','diagnosis_2','diagnosis_3']:\n",
    "    bins = [0,139,239,279,289,319,389,459,519,579,629,679,709,739,759,779,799,999,1010]\n",
    "    labels =[1,2,3,4,5,6,7,8,9,10,11,12,13,14,15,16,17,18]\n",
    "    hosp_pat_test[i] = pd.cut(hosp_pat_test[i], bins, labels=labels)\n",
    "    #print (hosp_pat[i])"
   ]
  },
  {
   "cell_type": "code",
   "execution_count": 72,
   "metadata": {},
   "outputs": [],
   "source": [
    "for i in ['diagnosis_1','diagnosis_2','diagnosis_3']:\n",
    "        hosp_pat[i] = hosp_pat[i].astype(\"category\")\n",
    "        hosp_pat_test[i] = hosp_pat_test[i].astype(\"category\")"
   ]
  },
  {
   "cell_type": "code",
   "execution_count": 73,
   "metadata": {},
   "outputs": [
    {
     "name": "stdout",
     "output_type": "stream",
     "text": [
      "7     10366\n",
      "3      3635\n",
      "9      3117\n",
      "8      3058\n",
      "16     2603\n",
      "17     2466\n",
      "13     2089\n",
      "10     1733\n",
      "2      1491\n",
      "1       896\n",
      "12      867\n",
      "5       787\n",
      "6       443\n",
      "18      440\n",
      "11      353\n",
      "4       285\n",
      "14       21\n",
      "15        0\n",
      "Name: diagnosis_1, dtype: int64\n",
      "7     10400\n",
      "3      7799\n",
      "8      3202\n",
      "10     2473\n",
      "16     1619\n",
      "9      1385\n",
      "4      1015\n",
      "12     1014\n",
      "17      965\n",
      "5       947\n",
      "18      911\n",
      "2       895\n",
      "13      647\n",
      "1       629\n",
      "6       464\n",
      "11      234\n",
      "14       51\n",
      "15        0\n",
      "Name: diagnosis_2, dtype: int64\n",
      "3     10174\n",
      "7      9908\n",
      "8      2117\n",
      "10     1875\n",
      "18     1722\n",
      "16     1541\n",
      "9      1168\n",
      "5      1034\n",
      "4       849\n",
      "17      775\n",
      "13      677\n",
      "12      667\n",
      "2       661\n",
      "1       638\n",
      "6       632\n",
      "11      169\n",
      "14       43\n",
      "15        0\n",
      "Name: diagnosis_3, dtype: int64\n"
     ]
    }
   ],
   "source": [
    "for i in ['diagnosis_1','diagnosis_2','diagnosis_3']:\n",
    "    \n",
    "    print(hosp_pat[i].value_counts())"
   ]
  },
  {
   "cell_type": "code",
   "execution_count": 74,
   "metadata": {},
   "outputs": [
    {
     "name": "stdout",
     "output_type": "stream",
     "text": [
      "7     4441\n",
      "3     1544\n",
      "9     1297\n",
      "8     1286\n",
      "16    1130\n",
      "17     978\n",
      "13     885\n",
      "10     738\n",
      "2      651\n",
      "1      383\n",
      "12     321\n",
      "5      317\n",
      "6      198\n",
      "18     176\n",
      "11     143\n",
      "4      130\n",
      "14      12\n",
      "15       0\n",
      "Name: diagnosis_1, dtype: int64\n",
      "7     4438\n",
      "3     3334\n",
      "8     1332\n",
      "10    1062\n",
      "16     700\n",
      "9      565\n",
      "17     430\n",
      "4      418\n",
      "12     391\n",
      "5      391\n",
      "2      384\n",
      "18     346\n",
      "13     265\n",
      "1      252\n",
      "6      221\n",
      "11      84\n",
      "14      17\n",
      "15       0\n",
      "Name: diagnosis_2, dtype: int64\n",
      "3     4348\n",
      "7     4201\n",
      "8      873\n",
      "10     774\n",
      "18     695\n",
      "16     641\n",
      "9      536\n",
      "5      467\n",
      "4      344\n",
      "17     298\n",
      "12     296\n",
      "13     282\n",
      "6      281\n",
      "2      275\n",
      "1      247\n",
      "11      59\n",
      "14      13\n",
      "15       0\n",
      "Name: diagnosis_3, dtype: int64\n"
     ]
    }
   ],
   "source": [
    "for i in ['diagnosis_1','diagnosis_2','diagnosis_3']:\n",
    "    print(hosp_pat_test[i].value_counts())"
   ]
  },
  {
   "cell_type": "code",
   "execution_count": 75,
   "metadata": {},
   "outputs": [],
   "source": [
    "readmit={'Within30days':1, 'NO':0}\n",
    "hosp_pat.readmitted=[readmit[status] for status in hosp_pat.readmitted]"
   ]
  },
  {
   "cell_type": "code",
   "execution_count": 76,
   "metadata": {},
   "outputs": [],
   "source": [
    "hosp_pat_categ2= ['race','age', 'gender', 'readmitted',\n",
    "        'admission_type_id',\n",
    "       'discharge_disposition_id', 'admission_source_id', 'max_glu_serum', 'A1Cresult', 'metformin', 'repaglinide',\n",
    "       'nateglinide', 'chlorpropamide', 'glimepiride', 'acetohexamide',\n",
    "       'glipizide', 'glyburide', 'tolbutamide', 'pioglitazone',\n",
    "       'rosiglitazone', 'acarbose', 'miglitol', 'troglitazone', 'tolazamide',\n",
    "      'insulin', 'glyburide.metformin', 'glipizide.metformin',\n",
    "       'metformin.rosiglitazone', 'metformin.pioglitazone', 'change',\n",
    "         'diabetesMed','years']"
   ]
  },
  {
   "cell_type": "code",
   "execution_count": 77,
   "metadata": {},
   "outputs": [],
   "source": [
    "hosp_pat_categ2_test = ['race','age', 'gender',\n",
    "        'admission_type_id',\n",
    "       'discharge_disposition_id', 'admission_source_id', 'max_glu_serum', 'A1Cresult', 'metformin', 'repaglinide',\n",
    "       'nateglinide', 'chlorpropamide', 'glimepiride', 'acetohexamide',\n",
    "       'glipizide', 'glyburide', 'tolbutamide', 'pioglitazone',\n",
    "       'rosiglitazone', 'acarbose', 'miglitol', 'troglitazone', 'tolazamide',\n",
    "      'insulin', 'glyburide.metformin', 'glipizide.metformin',\n",
    "       'metformin.rosiglitazone', 'metformin.pioglitazone', 'change',\n",
    "         'diabetesMed','years']"
   ]
  },
  {
   "cell_type": "code",
   "execution_count": 78,
   "metadata": {},
   "outputs": [],
   "source": [
    "for i in hosp_pat[hosp_pat_categ2]:\n",
    "    hosp_pat[i] = hosp_pat[i].astype(\"category\") \n",
    "for i in hosp_pat_test[hosp_pat_categ2_test]:\n",
    "    hosp_pat_test[i] = hosp_pat_test[i].astype(\"category\")"
   ]
  },
  {
   "cell_type": "code",
   "execution_count": 79,
   "metadata": {},
   "outputs": [
    {
     "data": {
      "text/plain": [
       "Index(['num_lab_procedures', 'num_procedures', 'num_medications',\n",
       "       'num_diagnoses', 'Days_in_hosptal'],\n",
       "      dtype='object')"
      ]
     },
     "execution_count": 79,
     "metadata": {},
     "output_type": "execute_result"
    }
   ],
   "source": [
    "hosp_pat_num=hosp_pat.select_dtypes(include='int64').columns\n",
    "hosp_pat_num"
   ]
  },
  {
   "cell_type": "code",
   "execution_count": 80,
   "metadata": {},
   "outputs": [
    {
     "data": {
      "text/plain": [
       "Index(['num_lab_procedures', 'num_procedures', 'num_medications',\n",
       "       'num_diagnoses', 'Days_in_hosptal'],\n",
       "      dtype='object')"
      ]
     },
     "execution_count": 80,
     "metadata": {},
     "output_type": "execute_result"
    }
   ],
   "source": [
    "hosp_pat_test_num=hosp_pat_test.select_dtypes(include='int64').columns\n",
    "hosp_pat_test_num"
   ]
  },
  {
   "cell_type": "code",
   "execution_count": 81,
   "metadata": {},
   "outputs": [],
   "source": [
    "drugs=['metformin', 'repaglinide',\n",
    "       'nateglinide', 'chlorpropamide', 'glimepiride', 'acetohexamide',\n",
    "       'glipizide', 'glyburide', 'tolbutamide', 'pioglitazone',\n",
    "       'rosiglitazone', 'acarbose', 'miglitol', 'troglitazone', 'tolazamide',\n",
    "       'insulin', 'glyburide.metformin', 'glipizide.metformin',\n",
    "       'metformin.rosiglitazone', 'metformin.pioglitazone']"
   ]
  },
  {
   "cell_type": "code",
   "execution_count": 82,
   "metadata": {},
   "outputs": [
    {
     "name": "stdout",
     "output_type": "stream",
     "text": [
      "No        78.672439\n",
      "Steady    19.489177\n",
      "Up         1.209235\n",
      "Down       0.629149\n",
      "Name: metformin, dtype: float64\n",
      "No        98.793651\n",
      "Steady     1.073593\n",
      "Up         0.098124\n",
      "Down       0.034632\n",
      "Name: repaglinide, dtype: float64\n",
      "No        99.353535\n",
      "Steady     0.608947\n",
      "Up         0.025974\n",
      "Down       0.011544\n",
      "Name: nateglinide, dtype: float64\n",
      "No        99.907648\n",
      "Steady     0.086580\n",
      "Up         0.002886\n",
      "Down       0.002886\n",
      "Name: chlorpropamide, dtype: float64\n",
      "No        94.747475\n",
      "Steady     4.730159\n",
      "Up         0.323232\n",
      "Down       0.199134\n",
      "Name: glimepiride, dtype: float64\n",
      "No    100.0\n",
      "Name: acetohexamide, dtype: float64\n",
      "No        87.968254\n",
      "Steady    10.779221\n",
      "Up         0.796537\n",
      "Down       0.455988\n",
      "Name: glipizide, dtype: float64\n",
      "No        89.240981\n",
      "Steady     9.365079\n",
      "Up         0.865801\n",
      "Down       0.528139\n",
      "Name: glyburide, dtype: float64\n",
      "No        99.976912\n",
      "Steady     0.023088\n",
      "Name: tolbutamide, dtype: float64\n",
      "No        92.920635\n",
      "Steady     6.761905\n",
      "Up         0.242424\n",
      "Down       0.075036\n",
      "Name: pioglitazone, dtype: float64\n",
      "No        93.803752\n",
      "Steady     5.878788\n",
      "Up         0.196248\n",
      "Down       0.121212\n",
      "Name: rosiglitazone, dtype: float64\n",
      "No        99.75469\n",
      "Steady     0.23088\n",
      "Up         0.01443\n",
      "Name: acarbose, dtype: float64\n",
      "No        99.982684\n",
      "Steady     0.017316\n",
      "Name: miglitol, dtype: float64\n",
      "No        99.997114\n",
      "Steady     0.002886\n",
      "Name: troglitazone, dtype: float64\n",
      "No        99.95671\n",
      "Steady     0.04329\n",
      "Name: tolazamide, dtype: float64\n",
      "No        49.546898\n",
      "Steady    31.131313\n",
      "Down      10.054834\n",
      "Up         9.266955\n",
      "Name: insulin, dtype: float64\n",
      "No        99.376623\n",
      "Steady     0.606061\n",
      "Up         0.014430\n",
      "Down       0.002886\n",
      "Name: glyburide.metformin, dtype: float64\n",
      "No        99.994228\n",
      "Steady     0.005772\n",
      "Name: glipizide.metformin, dtype: float64\n",
      "No        99.997114\n",
      "Steady     0.002886\n",
      "Name: metformin.rosiglitazone, dtype: float64\n",
      "No        99.997114\n",
      "Steady     0.002886\n",
      "Name: metformin.pioglitazone, dtype: float64\n"
     ]
    }
   ],
   "source": [
    "for i in drugs:\n",
    "    print(hosp_pat[i].value_counts(normalize=True)*100)"
   ]
  },
  {
   "cell_type": "code",
   "execution_count": 83,
   "metadata": {},
   "outputs": [
    {
     "name": "stdout",
     "output_type": "stream",
     "text": [
      "No        78.790157\n",
      "Steady    19.439508\n",
      "Up         1.155161\n",
      "Down       0.615174\n",
      "Name: metformin, dtype: float64\n",
      "No        98.851675\n",
      "Steady     0.950103\n",
      "Up         0.157211\n",
      "Down       0.041012\n",
      "Name: repaglinide, dtype: float64\n",
      "No        99.323308\n",
      "Steady     0.656186\n",
      "Up         0.013671\n",
      "Down       0.006835\n",
      "Name: nateglinide, dtype: float64\n",
      "No        99.917977\n",
      "Steady     0.082023\n",
      "Name: chlorpropamide, dtype: float64\n",
      "No        95.105947\n",
      "Steady     4.340396\n",
      "Up         0.389610\n",
      "Down       0.164046\n",
      "Name: glimepiride, dtype: float64\n",
      "No    100.0\n",
      "Name: acetohexamide, dtype: float64\n",
      "No        87.464115\n",
      "Steady    11.237184\n",
      "Up         0.738209\n",
      "Down       0.560492\n",
      "Name: glipizide, dtype: float64\n",
      "No        89.056733\n",
      "Steady     9.521531\n",
      "Up         0.833903\n",
      "Down       0.587833\n",
      "Name: glyburide, dtype: float64\n",
      "No        99.958988\n",
      "Steady     0.041012\n",
      "Name: tolbutamide, dtype: float64\n",
      "No        92.932331\n",
      "Steady     6.739576\n",
      "Up         0.191388\n",
      "Down       0.136705\n",
      "Name: pioglitazone, dtype: float64\n",
      "No        93.896104\n",
      "Steady     5.789474\n",
      "Up         0.211893\n",
      "Down       0.102529\n",
      "Name: rosiglitazone, dtype: float64\n",
      "No        99.794942\n",
      "Steady     0.198223\n",
      "Up         0.006835\n",
      "Name: acarbose, dtype: float64\n",
      "No        99.986329\n",
      "Steady     0.013671\n",
      "Name: miglitol, dtype: float64\n",
      "No    100.0\n",
      "Name: troglitazone, dtype: float64\n",
      "No        99.958988\n",
      "Steady     0.041012\n",
      "Name: tolazamide, dtype: float64\n",
      "No        49.412167\n",
      "Steady    30.868079\n",
      "Down      10.068353\n",
      "Up         9.651401\n",
      "Name: insulin, dtype: float64\n",
      "No        99.193438\n",
      "Steady     0.779221\n",
      "Down       0.020506\n",
      "Up         0.006835\n",
      "Name: glyburide.metformin, dtype: float64\n",
      "No        99.993165\n",
      "Steady     0.006835\n",
      "Name: glipizide.metformin, dtype: float64\n",
      "No        99.993165\n",
      "Steady     0.006835\n",
      "Name: metformin.rosiglitazone, dtype: float64\n",
      "No    100.0\n",
      "Name: metformin.pioglitazone, dtype: float64\n"
     ]
    }
   ],
   "source": [
    "for i in drugs:\n",
    "    print(hosp_pat_test[i].value_counts(normalize=True)*100)"
   ]
  },
  {
   "cell_type": "markdown",
   "metadata": {},
   "source": [
    "### Creating the list of drugs to be dropped"
   ]
  },
  {
   "cell_type": "code",
   "execution_count": 84,
   "metadata": {},
   "outputs": [
    {
     "data": {
      "text/plain": [
       "['repaglinide',\n",
       " 'nateglinide',\n",
       " 'chlorpropamide',\n",
       " 'acetohexamide',\n",
       " 'tolbutamide',\n",
       " 'acarbose',\n",
       " 'miglitol',\n",
       " 'troglitazone',\n",
       " 'tolazamide',\n",
       " 'glyburide.metformin',\n",
       " 'glipizide.metformin',\n",
       " 'metformin.rosiglitazone',\n",
       " 'metformin.pioglitazone']"
      ]
     },
     "execution_count": 84,
     "metadata": {},
     "output_type": "execute_result"
    }
   ],
   "source": [
    "drug_drop= [z for z in drugs if z not in {'metformin','glimepiride','glipizide','glyburide','insulin','pioglitazone','rosiglitazone'}]\n",
    "drug_drop"
   ]
  },
  {
   "cell_type": "raw",
   "metadata": {},
   "source": [
    "drugs_drop=['repaglinide',\n",
    "       'nateglinide', 'chlorpropamide', 'acetohexamide', 'glyburide',\n",
    "       'rosiglitazone', 'acarbose', 'miglitol', 'troglitazone',\n",
    "       'insulin', 'glyburide.metformin', 'glipizide.metformin',\n",
    "       'metformin.rosiglitazone', 'metformin.pioglitazone']\n",
    "\n",
    "drugs=['metformin', 'repaglinide',\n",
    "       'nateglinide', 'chlorpropamide', 'glimepiride', 'acetohexamide',\n",
    "       'glipizide', 'glyburide', 'tolbutamide', 'pioglitazone',\n",
    "       'rosiglitazone', 'acarbose', 'miglitol', 'troglitazone', 'tolazamide',\n",
    "       'insulin', 'glyburide.metformin', 'glipizide.metformin',\n",
    "       'metformin.rosiglitazone', 'metformin.pioglitazone']"
   ]
  },
  {
   "cell_type": "code",
   "execution_count": 85,
   "metadata": {},
   "outputs": [],
   "source": [
    "hosp_pat.drop(drug_drop,axis=1,inplace=True)"
   ]
  },
  {
   "cell_type": "code",
   "execution_count": 86,
   "metadata": {},
   "outputs": [],
   "source": [
    "hosp_pat_test.drop(drug_drop,axis=1, inplace=True)"
   ]
  },
  {
   "cell_type": "code",
   "execution_count": 87,
   "metadata": {},
   "outputs": [
    {
     "data": {
      "text/plain": [
       "(34650, 27)"
      ]
     },
     "execution_count": 87,
     "metadata": {},
     "output_type": "execute_result"
    }
   ],
   "source": [
    "hosp_pat.shape"
   ]
  },
  {
   "cell_type": "code",
   "execution_count": 88,
   "metadata": {},
   "outputs": [
    {
     "data": {
      "text/plain": [
       "(14630, 26)"
      ]
     },
     "execution_count": 88,
     "metadata": {},
     "output_type": "execute_result"
    }
   ],
   "source": [
    "hosp_pat_test.shape"
   ]
  },
  {
   "cell_type": "code",
   "execution_count": 89,
   "metadata": {},
   "outputs": [],
   "source": [
    "hosp_pat_categ2.remove('readmitted')"
   ]
  },
  {
   "cell_type": "code",
   "execution_count": 90,
   "metadata": {},
   "outputs": [],
   "source": [
    "hosp_pat_categ3=hosp_pat.select_dtypes(include=\"category\").columns"
   ]
  },
  {
   "cell_type": "code",
   "execution_count": 91,
   "metadata": {},
   "outputs": [],
   "source": [
    "hosp_pat_categ3_test=hosp_pat_test.select_dtypes(include=\"category\").columns"
   ]
  },
  {
   "cell_type": "code",
   "execution_count": 92,
   "metadata": {},
   "outputs": [
    {
     "data": {
      "text/plain": [
       "Index(['race', 'gender', 'age', 'admission_type_id',\n",
       "       'discharge_disposition_id', 'admission_source_id', 'diagnosis_1',\n",
       "       'diagnosis_2', 'diagnosis_3', 'max_glu_serum', 'A1Cresult', 'metformin',\n",
       "       'glimepiride', 'glipizide', 'glyburide', 'pioglitazone',\n",
       "       'rosiglitazone', 'insulin', 'change', 'diabetesMed', 'years'],\n",
       "      dtype='object')"
      ]
     },
     "execution_count": 92,
     "metadata": {},
     "output_type": "execute_result"
    }
   ],
   "source": [
    "hosp_pat_categ3_test"
   ]
  },
  {
   "cell_type": "code",
   "execution_count": 93,
   "metadata": {},
   "outputs": [
    {
     "data": {
      "text/plain": [
       "Index(['race', 'gender', 'age', 'admission_type_id',\n",
       "       'discharge_disposition_id', 'admission_source_id', 'num_lab_procedures',\n",
       "       'num_procedures', 'num_medications', 'num_diagnoses', 'diagnosis_1',\n",
       "       'diagnosis_2', 'diagnosis_3', 'max_glu_serum', 'A1Cresult', 'metformin',\n",
       "       'glimepiride', 'glipizide', 'glyburide', 'pioglitazone',\n",
       "       'rosiglitazone', 'insulin', 'change', 'diabetesMed', 'Days_in_hosptal',\n",
       "       'years'],\n",
       "      dtype='object')"
      ]
     },
     "execution_count": 93,
     "metadata": {},
     "output_type": "execute_result"
    }
   ],
   "source": [
    "hosp_pat_test.columns"
   ]
  },
  {
   "cell_type": "raw",
   "metadata": {},
   "source": [
    "for i in hosp_pat_categ3:\n",
    "    hosp_pat[i].value_counts()"
   ]
  },
  {
   "cell_type": "raw",
   "metadata": {},
   "source": [
    "for i in hosp_pat.columns:\n",
    "    print(\"\\n___--\"+i)\n",
    "    print(hosp_pat[i].unique())"
   ]
  },
  {
   "cell_type": "raw",
   "metadata": {},
   "source": [
    "for i in hosp_pat_test.columns:\n",
    "    print(\"\\n___--\"+i)\n",
    "    print(hosp_pat_test[i].unique())"
   ]
  },
  {
   "cell_type": "code",
   "execution_count": null,
   "metadata": {},
   "outputs": [],
   "source": []
  },
  {
   "cell_type": "markdown",
   "metadata": {},
   "source": [
    "### Standardizing the numerical features"
   ]
  },
  {
   "cell_type": "markdown",
   "metadata": {},
   "source": [
    "##### train data"
   ]
  },
  {
   "cell_type": "code",
   "execution_count": 94,
   "metadata": {},
   "outputs": [
    {
     "data": {
      "text/plain": [
       "StandardScaler(copy=True, with_mean=True, with_std=True)"
      ]
     },
     "execution_count": 94,
     "metadata": {},
     "output_type": "execute_result"
    }
   ],
   "source": [
    "scale = StandardScaler()\n",
    "scale.fit(hosp_pat[hosp_pat_num])"
   ]
  },
  {
   "cell_type": "markdown",
   "metadata": {},
   "source": [
    "##### test data"
   ]
  },
  {
   "cell_type": "code",
   "execution_count": 95,
   "metadata": {},
   "outputs": [
    {
     "data": {
      "text/plain": [
       "StandardScaler(copy=True, with_mean=True, with_std=True)"
      ]
     },
     "execution_count": 95,
     "metadata": {},
     "output_type": "execute_result"
    }
   ],
   "source": [
    "scale.fit(hosp_pat_test[hosp_pat_test_num])"
   ]
  },
  {
   "cell_type": "code",
   "execution_count": 96,
   "metadata": {},
   "outputs": [],
   "source": [
    "hosp_pat[hosp_pat_num]=scale.transform(hosp_pat[hosp_pat_num])\n",
    "hosp_pat_test[hosp_pat_test_num]=scale.transform(hosp_pat_test[hosp_pat_test_num])"
   ]
  },
  {
   "cell_type": "markdown",
   "metadata": {},
   "source": [
    "##### Dummifying train and test data"
   ]
  },
  {
   "cell_type": "code",
   "execution_count": 97,
   "metadata": {},
   "outputs": [],
   "source": [
    "hosp_pat = pd.get_dummies(columns=hosp_pat_categ3,data=hosp_pat)"
   ]
  },
  {
   "cell_type": "code",
   "execution_count": 98,
   "metadata": {},
   "outputs": [],
   "source": [
    "hosp_pat_test = pd.get_dummies(columns=hosp_pat_categ3_test,data=hosp_pat_test)"
   ]
  },
  {
   "cell_type": "code",
   "execution_count": 99,
   "metadata": {
    "scrolled": true
   },
   "outputs": [
    {
     "data": {
      "text/plain": [
       "(14630, 162)"
      ]
     },
     "execution_count": 99,
     "metadata": {},
     "output_type": "execute_result"
    }
   ],
   "source": [
    "hosp_pat_test.shape"
   ]
  },
  {
   "cell_type": "code",
   "execution_count": 100,
   "metadata": {},
   "outputs": [
    {
     "data": {
      "text/plain": [
       "(34650, 172)"
      ]
     },
     "execution_count": 100,
     "metadata": {},
     "output_type": "execute_result"
    }
   ],
   "source": [
    "hosp_pat.shape"
   ]
  },
  {
   "cell_type": "code",
   "execution_count": 101,
   "metadata": {},
   "outputs": [
    {
     "data": {
      "text/html": [
       "<div>\n",
       "<style scoped>\n",
       "    .dataframe tbody tr th:only-of-type {\n",
       "        vertical-align: middle;\n",
       "    }\n",
       "\n",
       "    .dataframe tbody tr th {\n",
       "        vertical-align: top;\n",
       "    }\n",
       "\n",
       "    .dataframe thead th {\n",
       "        text-align: right;\n",
       "    }\n",
       "</style>\n",
       "<table border=\"1\" class=\"dataframe\">\n",
       "  <thead>\n",
       "    <tr style=\"text-align: right;\">\n",
       "      <th></th>\n",
       "      <th>0</th>\n",
       "      <th>1</th>\n",
       "      <th>2</th>\n",
       "      <th>3</th>\n",
       "      <th>4</th>\n",
       "    </tr>\n",
       "  </thead>\n",
       "  <tbody>\n",
       "    <tr>\n",
       "      <th>num_lab_procedures</th>\n",
       "      <td>-1.240353</td>\n",
       "      <td>-0.135136</td>\n",
       "      <td>-0.185373</td>\n",
       "      <td>-2.094385</td>\n",
       "      <td>0.065813</td>\n",
       "    </tr>\n",
       "    <tr>\n",
       "      <th>num_procedures</th>\n",
       "      <td>-0.274910</td>\n",
       "      <td>1.403928</td>\n",
       "      <td>-0.274910</td>\n",
       "      <td>-0.834523</td>\n",
       "      <td>-0.834523</td>\n",
       "    </tr>\n",
       "    <tr>\n",
       "      <th>num_medications</th>\n",
       "      <td>-1.009129</td>\n",
       "      <td>0.034519</td>\n",
       "      <td>-0.429325</td>\n",
       "      <td>-0.661247</td>\n",
       "      <td>0.034519</td>\n",
       "    </tr>\n",
       "    <tr>\n",
       "      <th>num_diagnoses</th>\n",
       "      <td>-0.084558</td>\n",
       "      <td>0.899594</td>\n",
       "      <td>-1.068709</td>\n",
       "      <td>0.899594</td>\n",
       "      <td>0.899594</td>\n",
       "    </tr>\n",
       "    <tr>\n",
       "      <th>Days_in_hosptal</th>\n",
       "      <td>0.252696</td>\n",
       "      <td>0.589702</td>\n",
       "      <td>-0.084309</td>\n",
       "      <td>-0.758319</td>\n",
       "      <td>-1.095325</td>\n",
       "    </tr>\n",
       "    <tr>\n",
       "      <th>race_AfricanAmerican</th>\n",
       "      <td>0.000000</td>\n",
       "      <td>0.000000</td>\n",
       "      <td>0.000000</td>\n",
       "      <td>0.000000</td>\n",
       "      <td>0.000000</td>\n",
       "    </tr>\n",
       "    <tr>\n",
       "      <th>race_Asian</th>\n",
       "      <td>0.000000</td>\n",
       "      <td>0.000000</td>\n",
       "      <td>0.000000</td>\n",
       "      <td>0.000000</td>\n",
       "      <td>0.000000</td>\n",
       "    </tr>\n",
       "    <tr>\n",
       "      <th>race_Caucasian</th>\n",
       "      <td>1.000000</td>\n",
       "      <td>1.000000</td>\n",
       "      <td>1.000000</td>\n",
       "      <td>1.000000</td>\n",
       "      <td>1.000000</td>\n",
       "    </tr>\n",
       "    <tr>\n",
       "      <th>race_Hispanic</th>\n",
       "      <td>0.000000</td>\n",
       "      <td>0.000000</td>\n",
       "      <td>0.000000</td>\n",
       "      <td>0.000000</td>\n",
       "      <td>0.000000</td>\n",
       "    </tr>\n",
       "    <tr>\n",
       "      <th>race_Other</th>\n",
       "      <td>0.000000</td>\n",
       "      <td>0.000000</td>\n",
       "      <td>0.000000</td>\n",
       "      <td>0.000000</td>\n",
       "      <td>0.000000</td>\n",
       "    </tr>\n",
       "    <tr>\n",
       "      <th>gender_Female</th>\n",
       "      <td>0.000000</td>\n",
       "      <td>0.000000</td>\n",
       "      <td>1.000000</td>\n",
       "      <td>1.000000</td>\n",
       "      <td>1.000000</td>\n",
       "    </tr>\n",
       "    <tr>\n",
       "      <th>gender_Male</th>\n",
       "      <td>1.000000</td>\n",
       "      <td>1.000000</td>\n",
       "      <td>0.000000</td>\n",
       "      <td>0.000000</td>\n",
       "      <td>0.000000</td>\n",
       "    </tr>\n",
       "    <tr>\n",
       "      <th>age_[0-10)</th>\n",
       "      <td>0.000000</td>\n",
       "      <td>0.000000</td>\n",
       "      <td>0.000000</td>\n",
       "      <td>0.000000</td>\n",
       "      <td>0.000000</td>\n",
       "    </tr>\n",
       "    <tr>\n",
       "      <th>age_[10-20)</th>\n",
       "      <td>0.000000</td>\n",
       "      <td>0.000000</td>\n",
       "      <td>0.000000</td>\n",
       "      <td>0.000000</td>\n",
       "      <td>0.000000</td>\n",
       "    </tr>\n",
       "    <tr>\n",
       "      <th>age_[20-30)</th>\n",
       "      <td>0.000000</td>\n",
       "      <td>0.000000</td>\n",
       "      <td>0.000000</td>\n",
       "      <td>0.000000</td>\n",
       "      <td>0.000000</td>\n",
       "    </tr>\n",
       "    <tr>\n",
       "      <th>age_[30-40)</th>\n",
       "      <td>0.000000</td>\n",
       "      <td>0.000000</td>\n",
       "      <td>0.000000</td>\n",
       "      <td>0.000000</td>\n",
       "      <td>0.000000</td>\n",
       "    </tr>\n",
       "    <tr>\n",
       "      <th>age_[40-50)</th>\n",
       "      <td>0.000000</td>\n",
       "      <td>0.000000</td>\n",
       "      <td>0.000000</td>\n",
       "      <td>0.000000</td>\n",
       "      <td>0.000000</td>\n",
       "    </tr>\n",
       "    <tr>\n",
       "      <th>age_[50-60)</th>\n",
       "      <td>0.000000</td>\n",
       "      <td>0.000000</td>\n",
       "      <td>0.000000</td>\n",
       "      <td>0.000000</td>\n",
       "      <td>0.000000</td>\n",
       "    </tr>\n",
       "    <tr>\n",
       "      <th>age_[60-70)</th>\n",
       "      <td>0.000000</td>\n",
       "      <td>0.000000</td>\n",
       "      <td>1.000000</td>\n",
       "      <td>0.000000</td>\n",
       "      <td>1.000000</td>\n",
       "    </tr>\n",
       "    <tr>\n",
       "      <th>age_[70-80)</th>\n",
       "      <td>0.000000</td>\n",
       "      <td>1.000000</td>\n",
       "      <td>0.000000</td>\n",
       "      <td>1.000000</td>\n",
       "      <td>0.000000</td>\n",
       "    </tr>\n",
       "    <tr>\n",
       "      <th>age_[80-90)</th>\n",
       "      <td>1.000000</td>\n",
       "      <td>0.000000</td>\n",
       "      <td>0.000000</td>\n",
       "      <td>0.000000</td>\n",
       "      <td>0.000000</td>\n",
       "    </tr>\n",
       "    <tr>\n",
       "      <th>age_[90-100)</th>\n",
       "      <td>0.000000</td>\n",
       "      <td>0.000000</td>\n",
       "      <td>0.000000</td>\n",
       "      <td>0.000000</td>\n",
       "      <td>0.000000</td>\n",
       "    </tr>\n",
       "    <tr>\n",
       "      <th>readmitted_0</th>\n",
       "      <td>1.000000</td>\n",
       "      <td>1.000000</td>\n",
       "      <td>1.000000</td>\n",
       "      <td>1.000000</td>\n",
       "      <td>0.000000</td>\n",
       "    </tr>\n",
       "    <tr>\n",
       "      <th>readmitted_1</th>\n",
       "      <td>0.000000</td>\n",
       "      <td>0.000000</td>\n",
       "      <td>0.000000</td>\n",
       "      <td>0.000000</td>\n",
       "      <td>1.000000</td>\n",
       "    </tr>\n",
       "    <tr>\n",
       "      <th>admission_type_id_1</th>\n",
       "      <td>0.000000</td>\n",
       "      <td>1.000000</td>\n",
       "      <td>0.000000</td>\n",
       "      <td>1.000000</td>\n",
       "      <td>1.000000</td>\n",
       "    </tr>\n",
       "    <tr>\n",
       "      <th>admission_type_id_2</th>\n",
       "      <td>1.000000</td>\n",
       "      <td>0.000000</td>\n",
       "      <td>1.000000</td>\n",
       "      <td>0.000000</td>\n",
       "      <td>0.000000</td>\n",
       "    </tr>\n",
       "    <tr>\n",
       "      <th>admission_type_id_3</th>\n",
       "      <td>0.000000</td>\n",
       "      <td>0.000000</td>\n",
       "      <td>0.000000</td>\n",
       "      <td>0.000000</td>\n",
       "      <td>0.000000</td>\n",
       "    </tr>\n",
       "    <tr>\n",
       "      <th>admission_type_id_4</th>\n",
       "      <td>0.000000</td>\n",
       "      <td>0.000000</td>\n",
       "      <td>0.000000</td>\n",
       "      <td>0.000000</td>\n",
       "      <td>0.000000</td>\n",
       "    </tr>\n",
       "    <tr>\n",
       "      <th>admission_type_id_5</th>\n",
       "      <td>0.000000</td>\n",
       "      <td>0.000000</td>\n",
       "      <td>0.000000</td>\n",
       "      <td>0.000000</td>\n",
       "      <td>0.000000</td>\n",
       "    </tr>\n",
       "    <tr>\n",
       "      <th>admission_type_id_6</th>\n",
       "      <td>0.000000</td>\n",
       "      <td>0.000000</td>\n",
       "      <td>0.000000</td>\n",
       "      <td>0.000000</td>\n",
       "      <td>0.000000</td>\n",
       "    </tr>\n",
       "    <tr>\n",
       "      <th>...</th>\n",
       "      <td>...</td>\n",
       "      <td>...</td>\n",
       "      <td>...</td>\n",
       "      <td>...</td>\n",
       "      <td>...</td>\n",
       "    </tr>\n",
       "    <tr>\n",
       "      <th>glimepiride_No</th>\n",
       "      <td>1.000000</td>\n",
       "      <td>1.000000</td>\n",
       "      <td>1.000000</td>\n",
       "      <td>1.000000</td>\n",
       "      <td>1.000000</td>\n",
       "    </tr>\n",
       "    <tr>\n",
       "      <th>glimepiride_Steady</th>\n",
       "      <td>0.000000</td>\n",
       "      <td>0.000000</td>\n",
       "      <td>0.000000</td>\n",
       "      <td>0.000000</td>\n",
       "      <td>0.000000</td>\n",
       "    </tr>\n",
       "    <tr>\n",
       "      <th>glimepiride_Up</th>\n",
       "      <td>0.000000</td>\n",
       "      <td>0.000000</td>\n",
       "      <td>0.000000</td>\n",
       "      <td>0.000000</td>\n",
       "      <td>0.000000</td>\n",
       "    </tr>\n",
       "    <tr>\n",
       "      <th>glipizide_Down</th>\n",
       "      <td>0.000000</td>\n",
       "      <td>0.000000</td>\n",
       "      <td>0.000000</td>\n",
       "      <td>0.000000</td>\n",
       "      <td>0.000000</td>\n",
       "    </tr>\n",
       "    <tr>\n",
       "      <th>glipizide_No</th>\n",
       "      <td>0.000000</td>\n",
       "      <td>0.000000</td>\n",
       "      <td>1.000000</td>\n",
       "      <td>0.000000</td>\n",
       "      <td>1.000000</td>\n",
       "    </tr>\n",
       "    <tr>\n",
       "      <th>glipizide_Steady</th>\n",
       "      <td>1.000000</td>\n",
       "      <td>1.000000</td>\n",
       "      <td>0.000000</td>\n",
       "      <td>1.000000</td>\n",
       "      <td>0.000000</td>\n",
       "    </tr>\n",
       "    <tr>\n",
       "      <th>glipizide_Up</th>\n",
       "      <td>0.000000</td>\n",
       "      <td>0.000000</td>\n",
       "      <td>0.000000</td>\n",
       "      <td>0.000000</td>\n",
       "      <td>0.000000</td>\n",
       "    </tr>\n",
       "    <tr>\n",
       "      <th>glyburide_Down</th>\n",
       "      <td>0.000000</td>\n",
       "      <td>0.000000</td>\n",
       "      <td>0.000000</td>\n",
       "      <td>0.000000</td>\n",
       "      <td>0.000000</td>\n",
       "    </tr>\n",
       "    <tr>\n",
       "      <th>glyburide_No</th>\n",
       "      <td>1.000000</td>\n",
       "      <td>1.000000</td>\n",
       "      <td>1.000000</td>\n",
       "      <td>1.000000</td>\n",
       "      <td>1.000000</td>\n",
       "    </tr>\n",
       "    <tr>\n",
       "      <th>glyburide_Steady</th>\n",
       "      <td>0.000000</td>\n",
       "      <td>0.000000</td>\n",
       "      <td>0.000000</td>\n",
       "      <td>0.000000</td>\n",
       "      <td>0.000000</td>\n",
       "    </tr>\n",
       "    <tr>\n",
       "      <th>glyburide_Up</th>\n",
       "      <td>0.000000</td>\n",
       "      <td>0.000000</td>\n",
       "      <td>0.000000</td>\n",
       "      <td>0.000000</td>\n",
       "      <td>0.000000</td>\n",
       "    </tr>\n",
       "    <tr>\n",
       "      <th>pioglitazone_Down</th>\n",
       "      <td>0.000000</td>\n",
       "      <td>0.000000</td>\n",
       "      <td>0.000000</td>\n",
       "      <td>0.000000</td>\n",
       "      <td>0.000000</td>\n",
       "    </tr>\n",
       "    <tr>\n",
       "      <th>pioglitazone_No</th>\n",
       "      <td>1.000000</td>\n",
       "      <td>1.000000</td>\n",
       "      <td>1.000000</td>\n",
       "      <td>1.000000</td>\n",
       "      <td>1.000000</td>\n",
       "    </tr>\n",
       "    <tr>\n",
       "      <th>pioglitazone_Steady</th>\n",
       "      <td>0.000000</td>\n",
       "      <td>0.000000</td>\n",
       "      <td>0.000000</td>\n",
       "      <td>0.000000</td>\n",
       "      <td>0.000000</td>\n",
       "    </tr>\n",
       "    <tr>\n",
       "      <th>pioglitazone_Up</th>\n",
       "      <td>0.000000</td>\n",
       "      <td>0.000000</td>\n",
       "      <td>0.000000</td>\n",
       "      <td>0.000000</td>\n",
       "      <td>0.000000</td>\n",
       "    </tr>\n",
       "    <tr>\n",
       "      <th>rosiglitazone_Down</th>\n",
       "      <td>0.000000</td>\n",
       "      <td>0.000000</td>\n",
       "      <td>0.000000</td>\n",
       "      <td>0.000000</td>\n",
       "      <td>0.000000</td>\n",
       "    </tr>\n",
       "    <tr>\n",
       "      <th>rosiglitazone_No</th>\n",
       "      <td>1.000000</td>\n",
       "      <td>1.000000</td>\n",
       "      <td>1.000000</td>\n",
       "      <td>1.000000</td>\n",
       "      <td>1.000000</td>\n",
       "    </tr>\n",
       "    <tr>\n",
       "      <th>rosiglitazone_Steady</th>\n",
       "      <td>0.000000</td>\n",
       "      <td>0.000000</td>\n",
       "      <td>0.000000</td>\n",
       "      <td>0.000000</td>\n",
       "      <td>0.000000</td>\n",
       "    </tr>\n",
       "    <tr>\n",
       "      <th>rosiglitazone_Up</th>\n",
       "      <td>0.000000</td>\n",
       "      <td>0.000000</td>\n",
       "      <td>0.000000</td>\n",
       "      <td>0.000000</td>\n",
       "      <td>0.000000</td>\n",
       "    </tr>\n",
       "    <tr>\n",
       "      <th>insulin_Down</th>\n",
       "      <td>0.000000</td>\n",
       "      <td>0.000000</td>\n",
       "      <td>0.000000</td>\n",
       "      <td>0.000000</td>\n",
       "      <td>0.000000</td>\n",
       "    </tr>\n",
       "    <tr>\n",
       "      <th>insulin_No</th>\n",
       "      <td>0.000000</td>\n",
       "      <td>1.000000</td>\n",
       "      <td>1.000000</td>\n",
       "      <td>1.000000</td>\n",
       "      <td>0.000000</td>\n",
       "    </tr>\n",
       "    <tr>\n",
       "      <th>insulin_Steady</th>\n",
       "      <td>0.000000</td>\n",
       "      <td>0.000000</td>\n",
       "      <td>0.000000</td>\n",
       "      <td>0.000000</td>\n",
       "      <td>1.000000</td>\n",
       "    </tr>\n",
       "    <tr>\n",
       "      <th>insulin_Up</th>\n",
       "      <td>1.000000</td>\n",
       "      <td>0.000000</td>\n",
       "      <td>0.000000</td>\n",
       "      <td>0.000000</td>\n",
       "      <td>0.000000</td>\n",
       "    </tr>\n",
       "    <tr>\n",
       "      <th>change_Ch</th>\n",
       "      <td>1.000000</td>\n",
       "      <td>0.000000</td>\n",
       "      <td>1.000000</td>\n",
       "      <td>0.000000</td>\n",
       "      <td>0.000000</td>\n",
       "    </tr>\n",
       "    <tr>\n",
       "      <th>change_No</th>\n",
       "      <td>0.000000</td>\n",
       "      <td>1.000000</td>\n",
       "      <td>0.000000</td>\n",
       "      <td>1.000000</td>\n",
       "      <td>1.000000</td>\n",
       "    </tr>\n",
       "    <tr>\n",
       "      <th>diabetesMed_No</th>\n",
       "      <td>0.000000</td>\n",
       "      <td>0.000000</td>\n",
       "      <td>0.000000</td>\n",
       "      <td>0.000000</td>\n",
       "      <td>0.000000</td>\n",
       "    </tr>\n",
       "    <tr>\n",
       "      <th>diabetesMed_Yes</th>\n",
       "      <td>1.000000</td>\n",
       "      <td>1.000000</td>\n",
       "      <td>1.000000</td>\n",
       "      <td>1.000000</td>\n",
       "      <td>1.000000</td>\n",
       "    </tr>\n",
       "    <tr>\n",
       "      <th>years_2014</th>\n",
       "      <td>0.000000</td>\n",
       "      <td>0.000000</td>\n",
       "      <td>0.000000</td>\n",
       "      <td>0.000000</td>\n",
       "      <td>0.000000</td>\n",
       "    </tr>\n",
       "    <tr>\n",
       "      <th>years_2015</th>\n",
       "      <td>1.000000</td>\n",
       "      <td>0.000000</td>\n",
       "      <td>0.000000</td>\n",
       "      <td>1.000000</td>\n",
       "      <td>0.000000</td>\n",
       "    </tr>\n",
       "    <tr>\n",
       "      <th>years_2016</th>\n",
       "      <td>0.000000</td>\n",
       "      <td>1.000000</td>\n",
       "      <td>1.000000</td>\n",
       "      <td>0.000000</td>\n",
       "      <td>1.000000</td>\n",
       "    </tr>\n",
       "  </tbody>\n",
       "</table>\n",
       "<p>172 rows × 5 columns</p>\n",
       "</div>"
      ],
      "text/plain": [
       "                             0         1         2         3         4\n",
       "num_lab_procedures   -1.240353 -0.135136 -0.185373 -2.094385  0.065813\n",
       "num_procedures       -0.274910  1.403928 -0.274910 -0.834523 -0.834523\n",
       "num_medications      -1.009129  0.034519 -0.429325 -0.661247  0.034519\n",
       "num_diagnoses        -0.084558  0.899594 -1.068709  0.899594  0.899594\n",
       "Days_in_hosptal       0.252696  0.589702 -0.084309 -0.758319 -1.095325\n",
       "race_AfricanAmerican  0.000000  0.000000  0.000000  0.000000  0.000000\n",
       "race_Asian            0.000000  0.000000  0.000000  0.000000  0.000000\n",
       "race_Caucasian        1.000000  1.000000  1.000000  1.000000  1.000000\n",
       "race_Hispanic         0.000000  0.000000  0.000000  0.000000  0.000000\n",
       "race_Other            0.000000  0.000000  0.000000  0.000000  0.000000\n",
       "gender_Female         0.000000  0.000000  1.000000  1.000000  1.000000\n",
       "gender_Male           1.000000  1.000000  0.000000  0.000000  0.000000\n",
       "age_[0-10)            0.000000  0.000000  0.000000  0.000000  0.000000\n",
       "age_[10-20)           0.000000  0.000000  0.000000  0.000000  0.000000\n",
       "age_[20-30)           0.000000  0.000000  0.000000  0.000000  0.000000\n",
       "age_[30-40)           0.000000  0.000000  0.000000  0.000000  0.000000\n",
       "age_[40-50)           0.000000  0.000000  0.000000  0.000000  0.000000\n",
       "age_[50-60)           0.000000  0.000000  0.000000  0.000000  0.000000\n",
       "age_[60-70)           0.000000  0.000000  1.000000  0.000000  1.000000\n",
       "age_[70-80)           0.000000  1.000000  0.000000  1.000000  0.000000\n",
       "age_[80-90)           1.000000  0.000000  0.000000  0.000000  0.000000\n",
       "age_[90-100)          0.000000  0.000000  0.000000  0.000000  0.000000\n",
       "readmitted_0          1.000000  1.000000  1.000000  1.000000  0.000000\n",
       "readmitted_1          0.000000  0.000000  0.000000  0.000000  1.000000\n",
       "admission_type_id_1   0.000000  1.000000  0.000000  1.000000  1.000000\n",
       "admission_type_id_2   1.000000  0.000000  1.000000  0.000000  0.000000\n",
       "admission_type_id_3   0.000000  0.000000  0.000000  0.000000  0.000000\n",
       "admission_type_id_4   0.000000  0.000000  0.000000  0.000000  0.000000\n",
       "admission_type_id_5   0.000000  0.000000  0.000000  0.000000  0.000000\n",
       "admission_type_id_6   0.000000  0.000000  0.000000  0.000000  0.000000\n",
       "...                        ...       ...       ...       ...       ...\n",
       "glimepiride_No        1.000000  1.000000  1.000000  1.000000  1.000000\n",
       "glimepiride_Steady    0.000000  0.000000  0.000000  0.000000  0.000000\n",
       "glimepiride_Up        0.000000  0.000000  0.000000  0.000000  0.000000\n",
       "glipizide_Down        0.000000  0.000000  0.000000  0.000000  0.000000\n",
       "glipizide_No          0.000000  0.000000  1.000000  0.000000  1.000000\n",
       "glipizide_Steady      1.000000  1.000000  0.000000  1.000000  0.000000\n",
       "glipizide_Up          0.000000  0.000000  0.000000  0.000000  0.000000\n",
       "glyburide_Down        0.000000  0.000000  0.000000  0.000000  0.000000\n",
       "glyburide_No          1.000000  1.000000  1.000000  1.000000  1.000000\n",
       "glyburide_Steady      0.000000  0.000000  0.000000  0.000000  0.000000\n",
       "glyburide_Up          0.000000  0.000000  0.000000  0.000000  0.000000\n",
       "pioglitazone_Down     0.000000  0.000000  0.000000  0.000000  0.000000\n",
       "pioglitazone_No       1.000000  1.000000  1.000000  1.000000  1.000000\n",
       "pioglitazone_Steady   0.000000  0.000000  0.000000  0.000000  0.000000\n",
       "pioglitazone_Up       0.000000  0.000000  0.000000  0.000000  0.000000\n",
       "rosiglitazone_Down    0.000000  0.000000  0.000000  0.000000  0.000000\n",
       "rosiglitazone_No      1.000000  1.000000  1.000000  1.000000  1.000000\n",
       "rosiglitazone_Steady  0.000000  0.000000  0.000000  0.000000  0.000000\n",
       "rosiglitazone_Up      0.000000  0.000000  0.000000  0.000000  0.000000\n",
       "insulin_Down          0.000000  0.000000  0.000000  0.000000  0.000000\n",
       "insulin_No            0.000000  1.000000  1.000000  1.000000  0.000000\n",
       "insulin_Steady        0.000000  0.000000  0.000000  0.000000  1.000000\n",
       "insulin_Up            1.000000  0.000000  0.000000  0.000000  0.000000\n",
       "change_Ch             1.000000  0.000000  1.000000  0.000000  0.000000\n",
       "change_No             0.000000  1.000000  0.000000  1.000000  1.000000\n",
       "diabetesMed_No        0.000000  0.000000  0.000000  0.000000  0.000000\n",
       "diabetesMed_Yes       1.000000  1.000000  1.000000  1.000000  1.000000\n",
       "years_2014            0.000000  0.000000  0.000000  0.000000  0.000000\n",
       "years_2015            1.000000  0.000000  0.000000  1.000000  0.000000\n",
       "years_2016            0.000000  1.000000  1.000000  0.000000  1.000000\n",
       "\n",
       "[172 rows x 5 columns]"
      ]
     },
     "execution_count": 101,
     "metadata": {},
     "output_type": "execute_result"
    }
   ],
   "source": [
    "hosp_pat.head(5).transpose()"
   ]
  },
  {
   "cell_type": "code",
   "execution_count": null,
   "metadata": {},
   "outputs": [],
   "source": []
  },
  {
   "cell_type": "code",
   "execution_count": 102,
   "metadata": {},
   "outputs": [],
   "source": [
    "hosp_pat_y = hosp_pat.readmitted_1\n",
    "hosp_pat_X = hosp_pat.drop(\"readmitted_1\",axis=1)"
   ]
  },
  {
   "cell_type": "code",
   "execution_count": 103,
   "metadata": {},
   "outputs": [],
   "source": [
    "hosp_pat_X,hosp_pat_test = hosp_pat.align(hosp_pat_test, join='inner',axis=1)"
   ]
  },
  {
   "cell_type": "code",
   "execution_count": null,
   "metadata": {},
   "outputs": [],
   "source": [
    "X_hosp.rename(columns={'age_[0-10)':'age_0_10','age_[10-20)':'age_10_20','age_[20-30)':'age_20_30','age_[30-40)':'age_30_40',\n",
    "                       'age_[40-50)':'age_40_50','age_[50-60)':'age_50_60','age_[60-70)':'age_60_70','age_[70-80)':'age_70_80',\n",
    "                       'age_[80-90)':'age_80_90','age_[90-100)':'age_90_100'}, \n",
    "                 inplace=True)"
   ]
  },
  {
   "cell_type": "code",
   "execution_count": null,
   "metadata": {},
   "outputs": [],
   "source": [
    "X_hospt.rename(columns={'age_[0-10)':'age_0_10','age_[10-20)':'age_10_20','age_[20-30)':'age_20_30','age_[30-40)':'age_30_40',\n",
    "                       'age_[40-50)':'age_40_50','age_[50-60)':'age_50_60','age_[60-70)':'age_60_70','age_[70-80)':'age_70_80',\n",
    "                       'age_[80-90)':'age_80_90','age_[90-100)':'age_90_100'}, \n",
    "                 inplace=True)"
   ]
  },
  {
   "cell_type": "code",
   "execution_count": 104,
   "metadata": {},
   "outputs": [],
   "source": [
    "#hosp_pat.to_csv(\"featuredatastdm.csv\",index=False)"
   ]
  },
  {
   "cell_type": "code",
   "execution_count": 105,
   "metadata": {},
   "outputs": [],
   "source": [
    "#hosp_pat_test.to_csv(\"testfinalstdm.csv\",index=False)"
   ]
  },
  {
   "cell_type": "markdown",
   "metadata": {},
   "source": [
    "### Train_test split"
   ]
  },
  {
   "cell_type": "code",
   "execution_count": 106,
   "metadata": {},
   "outputs": [
    {
     "data": {
      "text/plain": [
       "(34650, 161)"
      ]
     },
     "execution_count": 106,
     "metadata": {},
     "output_type": "execute_result"
    }
   ],
   "source": [
    "hosp_pat_X.shape"
   ]
  },
  {
   "cell_type": "code",
   "execution_count": 107,
   "metadata": {},
   "outputs": [
    {
     "data": {
      "text/plain": [
       "(14630, 161)"
      ]
     },
     "execution_count": 107,
     "metadata": {},
     "output_type": "execute_result"
    }
   ],
   "source": [
    "hosp_pat_test.shape"
   ]
  },
  {
   "cell_type": "code",
   "execution_count": 108,
   "metadata": {},
   "outputs": [],
   "source": [
    "X_hosp, X_hospt,y_hosp, y_hospt= train_test_split(hosp_pat_X,hosp_pat_y, test_size=0.3, stratify=hosp_pat_y)"
   ]
  },
  {
   "cell_type": "code",
   "execution_count": 109,
   "metadata": {},
   "outputs": [
    {
     "data": {
      "text/plain": [
       "(10395, 161)"
      ]
     },
     "execution_count": 109,
     "metadata": {},
     "output_type": "execute_result"
    }
   ],
   "source": [
    "X_hospt.shape"
   ]
  },
  {
   "cell_type": "markdown",
   "metadata": {},
   "source": [
    "## MODEL BUILDING"
   ]
  },
  {
   "cell_type": "markdown",
   "metadata": {},
   "source": [
    "### RANDOM FOREST"
   ]
  },
  {
   "cell_type": "code",
   "execution_count": 119,
   "metadata": {},
   "outputs": [
    {
     "data": {
      "text/plain": [
       "RandomForestClassifier(bootstrap=True, class_weight='balanced',\n",
       "                       criterion='entropy', max_depth=5, max_features='auto',\n",
       "                       max_leaf_nodes=None, min_impurity_decrease=0.0,\n",
       "                       min_impurity_split=None, min_samples_leaf=4,\n",
       "                       min_samples_split=5, min_weight_fraction_leaf=0.0,\n",
       "                       n_estimators=20, n_jobs=None, oob_score=False,\n",
       "                       random_state=12, verbose=0, warm_start=False)"
      ]
     },
     "execution_count": 119,
     "metadata": {},
     "output_type": "execute_result"
    }
   ],
   "source": [
    "clf=RandomForestClassifier(n_estimators=20,max_depth=5,class_weight='balanced',random_state=12,min_samples_leaf=4,\n",
    "                            min_samples_split=5,criterion='entropy')\n",
    "clf.fit(X=X_hosp, y=y_hosp)"
   ]
  },
  {
   "cell_type": "code",
   "execution_count": 124,
   "metadata": {},
   "outputs": [
    {
     "name": "stdout",
     "output_type": "stream",
     "text": [
      "0.5866281866281866\n",
      "0.5938569367140796\n",
      "0.666166316421495\n"
     ]
    }
   ],
   "source": [
    "from sklearn.metrics import accuracy_score\n",
    "from sklearn.metrics import recall_score\n",
    "\n",
    "y_pred = clf.predict(X_hospt)\n",
    "print(accuracy_score(y_hospt,y_pred))\n",
    "y_pred = clf.predict(X_hosp)\n",
    "print(accuracy_score(y_hosp ,y_pred))\n",
    "print(recall_score(y_hosp,y_pred,pos_label=1))"
   ]
  },
  {
   "cell_type": "code",
   "execution_count": 181,
   "metadata": {},
   "outputs": [
    {
     "ename": "XGBoostError",
     "evalue": "need to call fit or load_model beforehand",
     "output_type": "error",
     "traceback": [
      "\u001b[1;31m---------------------------------------------------------------------------\u001b[0m",
      "\u001b[1;31mXGBoostError\u001b[0m                              Traceback (most recent call last)",
      "\u001b[1;32m<ipython-input-181-e4ce79c47429>\u001b[0m in \u001b[0;36m<module>\u001b[1;34m()\u001b[0m\n\u001b[1;32m----> 1\u001b[1;33m \u001b[0mclf\u001b[0m\u001b[1;33m.\u001b[0m\u001b[0mfeature_importances_\u001b[0m\u001b[1;33m\u001b[0m\u001b[0m\n\u001b[0m",
      "\u001b[1;32m~\\Anaconda3\\lib\\site-packages\\xgboost\\sklearn.py\u001b[0m in \u001b[0;36mfeature_importances_\u001b[1;34m(self)\u001b[0m\n\u001b[0;32m    517\u001b[0m             raise AttributeError('Feature importance is not defined for Booster type {}'\n\u001b[0;32m    518\u001b[0m                                  .format(self.booster))\n\u001b[1;32m--> 519\u001b[1;33m         \u001b[0mb\u001b[0m \u001b[1;33m=\u001b[0m \u001b[0mself\u001b[0m\u001b[1;33m.\u001b[0m\u001b[0mget_booster\u001b[0m\u001b[1;33m(\u001b[0m\u001b[1;33m)\u001b[0m\u001b[1;33m\u001b[0m\u001b[0m\n\u001b[0m\u001b[0;32m    520\u001b[0m         \u001b[0mfs\u001b[0m \u001b[1;33m=\u001b[0m \u001b[0mb\u001b[0m\u001b[1;33m.\u001b[0m\u001b[0mget_fscore\u001b[0m\u001b[1;33m(\u001b[0m\u001b[1;33m)\u001b[0m\u001b[1;33m\u001b[0m\u001b[0m\n\u001b[0;32m    521\u001b[0m         \u001b[0mall_features\u001b[0m \u001b[1;33m=\u001b[0m \u001b[1;33m[\u001b[0m\u001b[0mfs\u001b[0m\u001b[1;33m.\u001b[0m\u001b[0mget\u001b[0m\u001b[1;33m(\u001b[0m\u001b[0mf\u001b[0m\u001b[1;33m,\u001b[0m \u001b[1;36m0.\u001b[0m\u001b[1;33m)\u001b[0m \u001b[1;32mfor\u001b[0m \u001b[0mf\u001b[0m \u001b[1;32min\u001b[0m \u001b[0mb\u001b[0m\u001b[1;33m.\u001b[0m\u001b[0mfeature_names\u001b[0m\u001b[1;33m]\u001b[0m\u001b[1;33m\u001b[0m\u001b[0m\n",
      "\u001b[1;32m~\\Anaconda3\\lib\\site-packages\\xgboost\\sklearn.py\u001b[0m in \u001b[0;36mget_booster\u001b[1;34m(self)\u001b[0m\n\u001b[0;32m    180\u001b[0m         \"\"\"\n\u001b[0;32m    181\u001b[0m         \u001b[1;32mif\u001b[0m \u001b[0mself\u001b[0m\u001b[1;33m.\u001b[0m\u001b[0m_Booster\u001b[0m \u001b[1;32mis\u001b[0m \u001b[1;32mNone\u001b[0m\u001b[1;33m:\u001b[0m\u001b[1;33m\u001b[0m\u001b[0m\n\u001b[1;32m--> 182\u001b[1;33m             \u001b[1;32mraise\u001b[0m \u001b[0mXGBoostError\u001b[0m\u001b[1;33m(\u001b[0m\u001b[1;34m'need to call fit or load_model beforehand'\u001b[0m\u001b[1;33m)\u001b[0m\u001b[1;33m\u001b[0m\u001b[0m\n\u001b[0m\u001b[0;32m    183\u001b[0m         \u001b[1;32mreturn\u001b[0m \u001b[0mself\u001b[0m\u001b[1;33m.\u001b[0m\u001b[0m_Booster\u001b[0m\u001b[1;33m\u001b[0m\u001b[0m\n\u001b[0;32m    184\u001b[0m \u001b[1;33m\u001b[0m\u001b[0m\n",
      "\u001b[1;31mXGBoostError\u001b[0m: need to call fit or load_model beforehand"
     ]
    }
   ],
   "source": [
    "clf.feature_importances_"
   ]
  },
  {
   "cell_type": "code",
   "execution_count": 148,
   "metadata": {},
   "outputs": [
    {
     "data": {
      "image/png": "[encoded data removed]",
      "text/plain": [
       "<Figure size 432x288 with 1 Axes>"
      ]
     },
     "metadata": {},
     "output_type": "display_data"
    }
   ],
   "source": [
    "import numpy as np\n",
    "import matplotlib.pyplot as plt\n",
    "%matplotlib inline\n",
    "features = X_hosp.columns\n",
    "importances = clf.feature_importances_\n",
    "indices = np.argsort(importances)\n",
    "\n",
    "plt.title('Feature Importances')\n",
    "plt.barh(range(len(indices)), importances[indices], color='b', align='center')\n",
    "plt.yticks(range(len(indices)), [features[i] for i in indices])\n",
    "plt.xlabel('Relative Importance')\n",
    "plt.show()"
   ]
  },
  {
   "cell_type": "code",
   "execution_count": null,
   "metadata": {},
   "outputs": [],
   "source": [
    "rftest=clf.predict(hosp_pat_test)"
   ]
  },
  {
   "cell_type": "code",
   "execution_count": null,
   "metadata": {},
   "outputs": [],
   "source": [
    "sample=pd.read_csv(\"samplesubmission.csv\",header=0)\n",
    "sample.head()"
   ]
  },
  {
   "cell_type": "code",
   "execution_count": null,
   "metadata": {},
   "outputs": [],
   "source": [
    "sample.readmitted=rftest\n",
    "sample.readmitted.value_counts()"
   ]
  },
  {
   "cell_type": "code",
   "execution_count": null,
   "metadata": {},
   "outputs": [],
   "source": [
    "sample.to_csv(\"rft_2585B56.csv\",index=False)"
   ]
  },
  {
   "cell_type": "markdown",
   "metadata": {},
   "source": [
    "### Decision Tree"
   ]
  },
  {
   "cell_type": "code",
   "execution_count": 169,
   "metadata": {},
   "outputs": [
    {
     "name": "stdout",
     "output_type": "stream",
     "text": [
      "              precision    recall  f1-score   support\n",
      "\n",
      "           0       0.91      0.47      0.62     20924\n",
      "           1       0.17      0.70      0.28      3331\n",
      "\n",
      "    accuracy                           0.50     24255\n",
      "   macro avg       0.54      0.58      0.45     24255\n",
      "weighted avg       0.81      0.50      0.57     24255\n",
      "\n",
      "              precision    recall  f1-score   support\n",
      "\n",
      "           0       0.90      0.46      0.61      8967\n",
      "           1       0.17      0.68      0.27      1428\n",
      "\n",
      "    accuracy                           0.49     10395\n",
      "   macro avg       0.53      0.57      0.44     10395\n",
      "weighted avg       0.80      0.49      0.56     10395\n",
      "\n",
      "0.5848471726040765\n",
      "0.5710530113684819\n"
     ]
    }
   ],
   "source": [
    "clf = DecisionTreeClassifier(max_depth=6,max_features='auto',min_samples_leaf=10,min_samples_split=3,criterion='gini',class_weight='balanced')\n",
    "#Using the object created for decision Trees to fit on train data\n",
    "clf.fit(X_hosp, y_hosp)\n",
    "\n",
    "#feat_importance(clf.feature_importances_,\"Decision Tree\")\n",
    "\n",
    "#Using the object created for decision Trees to predict on validation data\n",
    "train_pred_dt=clf.predict(X_hosp)\n",
    "print(classification_report(y_hosp,train_pred_dt))\n",
    "test_pred_dt =clf.predict(X_hospt)\n",
    "print(classification_report(y_hospt,test_pred_dt))\n",
    "#plot_learning_curve(clf, title='DT',X=X_train, y=y_train)\n",
    "\n",
    "print(recall_score(y_hosp,train_pred_dt,average='macro'))\n",
    "print(recall_score(y_hospt,test_pred_dt,average='macro'))\n",
    "test_pred = clf.predict(hosp_pat_test)"
   ]
  },
  {
   "cell_type": "code",
   "execution_count": 170,
   "metadata": {},
   "outputs": [
    {
     "data": {
      "text/html": [
       "<div>\n",
       "<style scoped>\n",
       "    .dataframe tbody tr th:only-of-type {\n",
       "        vertical-align: middle;\n",
       "    }\n",
       "\n",
       "    .dataframe tbody tr th {\n",
       "        vertical-align: top;\n",
       "    }\n",
       "\n",
       "    .dataframe thead th {\n",
       "        text-align: right;\n",
       "    }\n",
       "</style>\n",
       "<table border=\"1\" class=\"dataframe\">\n",
       "  <thead>\n",
       "    <tr style=\"text-align: right;\">\n",
       "      <th></th>\n",
       "      <th>patientID</th>\n",
       "      <th>readmitted</th>\n",
       "    </tr>\n",
       "  </thead>\n",
       "  <tbody>\n",
       "    <tr>\n",
       "      <th>0</th>\n",
       "      <td>PT60251</td>\n",
       "      <td>0</td>\n",
       "    </tr>\n",
       "    <tr>\n",
       "      <th>1</th>\n",
       "      <td>PT60252</td>\n",
       "      <td>0</td>\n",
       "    </tr>\n",
       "    <tr>\n",
       "      <th>2</th>\n",
       "      <td>PT60253</td>\n",
       "      <td>0</td>\n",
       "    </tr>\n",
       "    <tr>\n",
       "      <th>3</th>\n",
       "      <td>PT60254</td>\n",
       "      <td>0</td>\n",
       "    </tr>\n",
       "    <tr>\n",
       "      <th>4</th>\n",
       "      <td>PT60255</td>\n",
       "      <td>0</td>\n",
       "    </tr>\n",
       "  </tbody>\n",
       "</table>\n",
       "</div>"
      ],
      "text/plain": [
       "  patientID  readmitted\n",
       "0   PT60251           0\n",
       "1   PT60252           0\n",
       "2   PT60253           0\n",
       "3   PT60254           0\n",
       "4   PT60255           0"
      ]
     },
     "execution_count": 170,
     "metadata": {},
     "output_type": "execute_result"
    }
   ],
   "source": [
    "sample1=pd.read_csv(\"samplesubmission.csv\",header=0)\n",
    "sample1.head()\n"
   ]
  },
  {
   "cell_type": "code",
   "execution_count": null,
   "metadata": {},
   "outputs": [],
   "source": [
    "sample1.readmitted=test_pred\n",
    "sample1.readmitted.value_counts()"
   ]
  },
  {
   "cell_type": "code",
   "execution_count": null,
   "metadata": {},
   "outputs": [],
   "source": [
    "sample1.to_csv(\"dt_2585B56.csv\",index=False)"
   ]
  },
  {
   "cell_type": "markdown",
   "metadata": {},
   "source": [
    "### XGboost"
   ]
  },
  {
   "cell_type": "raw",
   "metadata": {},
   "source": [
    "from xgboost import XGBClassifier\n",
    "\n",
    "clf = XGBClassifier(n_estimators=10,max_depth=3,learning_rate=0.01,max_iter=5, tol=None,n_jobs=-1,random_state=7,reg_alpha=1,reg_lambda=1)\n",
    "\n",
    "#Using the object created for XGBoost to fit on train data\n",
    "clf.fit(X_hosp, y_hosp)\n",
    "\n",
    "#Using the object created for XGBoost to predict on validation data\n",
    "train_pred_xgb = clf.predict(X_hosp)\n",
    "print(classification_report(y_hosp,train_pred_xgb))\n",
    "test_pred_xgb = clf.predict(X_hospt)\n",
    "print(classification_report(y_hospt,test_pred_xgb))\n",
    "feat_importance(clf.feature_importances_,\"XGBoost\")\n",
    "#plot_learning_curve(clf, title='Xgboost',X=X_train, y=y_train)\n",
    "print(recall_score(y_train,train_pred_xgb,average='macro'))\n",
    "print(recall_score(y_test,test_pred_xgb,average='macro'))\n",
    "test_pred_xg = clf.predict(hosp_pat_test)"
   ]
  },
  {
   "cell_type": "code",
   "execution_count": null,
   "metadata": {},
   "outputs": [],
   "source": []
  },
  {
   "cell_type": "code",
   "execution_count": null,
   "metadata": {},
   "outputs": [],
   "source": []
  },
  {
   "cell_type": "code",
   "execution_count": 199,
   "metadata": {},
   "outputs": [],
   "source": [
    "X_hosp.rename(columns={'age_[0-10)':'age_0_10','age_[10-20)':'age_10_20','age_[20-30)':'age_20_30','age_[30-40)':'age_30_40',\n",
    "                       'age_[40-50)':'age_40_50','age_[50-60)':'age_50_60','age_[60-70)':'age_60_70','age_[70-80)':'age_70_80',\n",
    "                       'age_[80-90)':'age_80_90','age_[90-100)':'age_90_100'}, \n",
    "                 inplace=True)"
   ]
  },
  {
   "cell_type": "code",
   "execution_count": 200,
   "metadata": {},
   "outputs": [],
   "source": [
    "X_hospt.rename(columns={'age_[0-10)':'age_0_10','age_[10-20)':'age_10_20','age_[20-30)':'age_20_30','age_[30-40)':'age_30_40',\n",
    "                       'age_[40-50)':'age_40_50','age_[50-60)':'age_50_60','age_[60-70)':'age_60_70','age_[70-80)':'age_70_80',\n",
    "                       'age_[80-90)':'age_80_90','age_[90-100)':'age_90_100'}, \n",
    "                 inplace=True)"
   ]
  },
  {
   "cell_type": "code",
   "execution_count": null,
   "metadata": {},
   "outputs": [],
   "source": []
  },
  {
   "cell_type": "code",
   "execution_count": null,
   "metadata": {},
   "outputs": [],
   "source": []
  },
  {
   "cell_type": "code",
   "execution_count": 201,
   "metadata": {},
   "outputs": [
    {
     "name": "stdout",
     "output_type": "stream",
     "text": [
      "0.0\n"
     ]
    }
   ],
   "source": [
    "from xgboost import XGBClassifier\n",
    "\n",
    "\n",
    "XGB_model = XGBClassifier(n_estimators=10,max_depth=3,learning_rate=0.01,max_iter=5, tol=None,n_jobs=-1,\n",
    "                          random_state=7,reg_alpha=1,reg_lambda=1)\n",
    "XGB_model.fit(X_hosp, y_hosp)\n",
    "y_pred = XGB_model.predict(X_hospt)\n",
    "print(recall_score(y_hospt,y_pred))"
   ]
  },
  {
   "cell_type": "code",
   "execution_count": 202,
   "metadata": {},
   "outputs": [],
   "source": [
    "XGB = XGBClassifier(n_jobs=-1)\n",
    " \n",
    "# Use a grid over parameters of interest\n",
    "param_grid = {\n",
    "     'colsample_bytree': np.linspace(0.5, 0.9, 2),\n",
    "     'n_estimators':[100],\n",
    "     'max_depth': [10, 15, 20, 25]\n",
    "}\n",
    "\n",
    " \n",
    "CV_XGB = GridSearchCV(estimator=XGB, param_grid=param_grid, cv= 10)"
   ]
  },
  {
   "cell_type": "code",
   "execution_count": null,
   "metadata": {},
   "outputs": [],
   "source": [
    "%time CV_XGB.fit(X = X_hosp, y=y_hosp)"
   ]
  },
  {
   "cell_type": "code",
   "execution_count": null,
   "metadata": {},
   "outputs": [],
   "source": [
    "X_hosp.head(2).transpose()"
   ]
  },
  {
   "cell_type": "code",
   "execution_count": null,
   "metadata": {},
   "outputs": [],
   "source": [
    "best_xgb_model = CV_XGB.best_estimator_\n",
    "print (CV_XGB.best_score_, CV_XGB.best_params_)"
   ]
  },
  {
   "cell_type": "code",
   "execution_count": null,
   "metadata": {},
   "outputs": [],
   "source": [
    "y_pred_test=best_xgb_model.predict(X_hospt)"
   ]
  },
  {
   "cell_type": "code",
   "execution_count": null,
   "metadata": {},
   "outputs": [],
   "source": [
    "print(recall_score(y_hospt,y_pred_test))"
   ]
  },
  {
   "cell_type": "code",
   "execution_count": null,
   "metadata": {},
   "outputs": [],
   "source": [
    "xg_pred_test=best_xgb_model.predict(hosp_pat_test)"
   ]
  },
  {
   "cell_type": "code",
   "execution_count": null,
   "metadata": {},
   "outputs": [],
   "source": [
    "sample2.readmitted=xg_pred_test\n",
    "sample2.readmitted.value_counts()"
   ]
  },
  {
   "cell_type": "code",
   "execution_count": null,
   "metadata": {},
   "outputs": [],
   "source": [
    "sample2.readmitted.head(5)"
   ]
  },
  {
   "cell_type": "code",
   "execution_count": null,
   "metadata": {},
   "outputs": [],
   "source": [
    "sample2.to_csv(\"xgb_2585b56.csv\", index=False)"
   ]
  },
  {
   "cell_type": "code",
   "execution_count": null,
   "metadata": {},
   "outputs": [],
   "source": []
  },
  {
   "cell_type": "code",
   "execution_count": null,
   "metadata": {},
   "outputs": [],
   "source": []
  }
 ],
 "metadata": {
  "kernelspec": {
   "display_name": "Python 3",
   "language": "python",
   "name": "python3"
  },
  "language_info": {
   "codemirror_mode": {
    "name": "ipython",
    "version": 3
   },
   "file_extension": ".py",
   "mimetype": "text/x-python",
   "name": "python",
   "nbconvert_exporter": "python",
   "pygments_lexer": "ipython3",
   "version": "3.7.3"
  }
 },
 "nbformat": 4,
 "nbformat_minor": 2
}
